{
  "nbformat": 4,
  "nbformat_minor": 0,
  "metadata": {
    "colab": {
      "provenance": [],
      "authorship_tag": "ABX9TyNV76l3Pj+QUzg1sXQ6zjL6",
      "include_colab_link": true
    },
    "kernelspec": {
      "name": "python3",
      "display_name": "Python 3"
    },
    "language_info": {
      "name": "python"
    }
  },
  "cells": [
    {
      "cell_type": "markdown",
      "metadata": {
        "id": "view-in-github",
        "colab_type": "text"
      },
      "source": [
        "<a href=\"https://colab.research.google.com/github/mgrabul/advanced-tourist-map/blob/master/Untitled0.ipynb\" target=\"_parent\"><img src=\"https://colab.research.google.com/assets/colab-badge.svg\" alt=\"Open In Colab\"/></a>"
      ]
    },
    {
      "cell_type": "markdown",
      "source": [
        "## Python introduction\n",
        "\n",
        "Python is a general purpuse height level language.\n",
        "It was invented in the late 80's and its current version maior version is 3.\n",
        "Important python features and caracteristics are:\n",
        "  * object oriented\n",
        "  * dynamically typed\n",
        "  * opensourced\n",
        "  * heigh-level\n",
        "  * interpteded\n",
        "  * first class functons\n",
        "  * heigh order functions\n",
        "\n",
        "Code in python is interpreted, meaning it is transformed to bite code line at a time and executed, no compile time is needed.\n",
        "Popular ussages of puthon are scripting and automation, microservices, statistics and machine learning.\n",
        "Because of it's opensourced caracted and libraries for calculation and visualisation like numpy and matplotlib it becomed quite popular in math connected universite subjects and academie replacing previosly whell established software like \"Wolfram Mathematica\" and \"MATLAB\".\n",
        "\n"
      ],
      "metadata": {
        "id": "VWTpkWWFkFqQ"
      }
    },
    {
      "cell_type": "markdown",
      "source": [
        "### Basic Pyton commands\n",
        "\n"
      ],
      "metadata": {
        "id": "yTLc8Lu_OWx1"
      }
    },
    {
      "cell_type": "markdown",
      "source": [
        "Tradiccionaly every tutorial for programing language starts with introduction to the display to screen or print command. Printing is done with the function print.  \n",
        "Example,  Print hello world"
      ],
      "metadata": {
        "id": "A5pQbXdCndbX"
      }
    },
    {
      "cell_type": "code",
      "execution_count": null,
      "metadata": {
        "colab": {
          "base_uri": "https://localhost:8080/"
        },
        "id": "GFcTNYYWn_CM",
        "outputId": "6e418c07-c810-4e8b-a9d3-b21116218c66"
      },
      "outputs": [
        {
          "output_type": "stream",
          "name": "stdout",
          "text": [
            "Hello World\n"
          ]
        }
      ],
      "source": [
        "# Print a string\n",
        "print(\"Hello World\")"
      ]
    },
    {
      "cell_type": "markdown",
      "source": [
        "Strings and numbers can be concatinated using the + sign.\n",
        "\n",
        "Example: Concatinate the words Hello and World and print them."
      ],
      "metadata": {
        "id": "dWJbmDpknRSp"
      }
    },
    {
      "cell_type": "code",
      "source": [
        "# Concatinating and printing strings\n",
        "print(\"Concatinating Hello and World with +: \"+\"Hello\"+\" World\")\n",
        "print(\"Concatinating Hello and World with +: \",\"Hello\",\" World\")"
      ],
      "metadata": {
        "id": "D2NmjOlfn87G",
        "colab": {
          "base_uri": "https://localhost:8080/"
        },
        "outputId": "45aeed15-b257-4bb2-c070-a61ad1d77d6d"
      },
      "execution_count": null,
      "outputs": [
        {
          "output_type": "stream",
          "name": "stdout",
          "text": [
            "Concatinating Hello and World with +: Hello World\n",
            "Concatinating Hello and World with +:  Hello  World\n"
          ]
        }
      ]
    },
    {
      "cell_type": "markdown",
      "source": [
        "Declaring variables in python\n",
        "\n",
        "Python is a dynamic language and memory is assigned at execution time, this alows that variables dont need to be associated with a type at time of declaration, but they receave the type at the time of initialization. This results in that only initialization is requred. Also as python is dynamic different type of data can be assigned to the same variable. This is generally not a good practice and aldow datatypes are not requred during declaration or initialization, in python : can be used to probide hints for the development enviromon on the variable type.\n",
        "\n",
        "Example: Assign 1 and 2 to integer varles x, y and print their values"
      ],
      "metadata": {
        "id": "meEEupGDkQxm"
      }
    },
    {
      "cell_type": "code",
      "source": [
        "x = 1\n",
        "# int is a hint and not requred in the folowing expression\n",
        "y:int = 2\n",
        "\n",
        "print(\"x is:\")\n",
        "print(x)\n",
        "print(\"y is:\")\n",
        "print(y)\n"
      ],
      "metadata": {
        "colab": {
          "base_uri": "https://localhost:8080/"
        },
        "id": "a4CIXa7okQKq",
        "outputId": "b362a8dc-e116-421e-c0ea-f879afd3b2db"
      },
      "execution_count": null,
      "outputs": [
        {
          "output_type": "stream",
          "name": "stdout",
          "text": [
            "x is:\n",
            "1\n",
            "y is:\n",
            "2\n"
          ]
        }
      ]
    },
    {
      "cell_type": "markdown",
      "source": [
        "Almost anyting can be printed using concatanations but python offers quite elegant way of formating. Simple formating is done with ussing the letter f before the string, then instead of concatanatig variables can be inserted in the string using {} directly.\n",
        "\n",
        "Example: Using string formating print x=1, y=2 where x and y are int variables."
      ],
      "metadata": {
        "id": "5IdgEKufpPLS"
      }
    },
    {
      "cell_type": "code",
      "source": [
        "x = 1\n",
        "# int is a hint and not requred in the folowing expression\n",
        "y:int = 2\n",
        "\n",
        "print(f\"x={x}, y={y}\")"
      ],
      "metadata": {
        "id": "GUlxe4nrqa5f"
      },
      "execution_count": null,
      "outputs": []
    },
    {
      "cell_type": "markdown",
      "source": [
        "Simulaty a string can be formated in to two lines using \\n as a line brake.\n",
        "\n",
        "Example: Print one string in two lines using the \\n line brake."
      ],
      "metadata": {
        "id": "X4e_4gUqqq0i"
      }
    },
    {
      "cell_type": "code",
      "source": [
        "print(f\"To print in a new line use \\\\n \\n The folowing text will be printed in a new line:\\n'text i new line'\")"
      ],
      "metadata": {
        "colab": {
          "base_uri": "https://localhost:8080/"
        },
        "id": "ObQL4jVWrHe_",
        "outputId": "97caf855-dc16-4275-deec-a10fe48b631f"
      },
      "execution_count": null,
      "outputs": [
        {
          "output_type": "stream",
          "name": "stdout",
          "text": [
            "To print in a new line use \\n \n",
            " The folowing text will be printed in a new line:\n",
            "'text i new line'\n"
          ]
        }
      ]
    },
    {
      "cell_type": "markdown",
      "source": [
        "### Basic data types in phyton\n",
        "\n",
        "* Text Type:\tstr\n",
        "* Numeric Types:\tint, float, complex\n",
        "* Sequence Types:\tlist, tuple, range\n",
        "* Mapping Type:\tdict\n",
        "* Set Types:\tset, frozenset\n",
        "* Boolean Type:\tbool\n",
        "* Binary Types:\tbytes, bytearray, memoryview\n",
        "* None Type:\tNoneType\n",
        "\n",
        "Example, declaring datatypes"
      ],
      "metadata": {
        "id": "sH8LUH2PsHzT"
      }
    },
    {
      "cell_type": "code",
      "source": [
        "x1:str = \"Hello World\"\n",
        "x2:int = 20\n",
        "x3:float = 20.5\n",
        "x4:complex = 1j\n",
        "x5:list = [\"apple\", \"banana\", \"cherry\"]\n",
        "# access the second element of a list\n",
        "x5_2 = x5[1]\n",
        "x6:tuple = (\"apple\", \"banana\", \"cherry\")\n",
        "x7:range = range(6)\n",
        "x8:dict = {\"name\" : \"John\", \"age\" : 36}\n",
        "# access an element in the dicrionary element of a list\n",
        "x8_name = x5[\"name\"]\n",
        "x9:set = {\"apple\", \"banana\", \"cherry\"}\n",
        "x10:frozenset = frozenset({\"apple\", \"banana\", \"cherry\"})\n",
        "x11:bool = True\n",
        "x12:bytes = b\"Hello\"\n",
        "x13:bytearray = bytearray(5)\n",
        "x14:memoryview = memoryview(bytes(5))\n",
        "x15:NoneType = None"
      ],
      "metadata": {
        "id": "H96p9tkCuWdh"
      },
      "execution_count": null,
      "outputs": []
    },
    {
      "cell_type": "markdown",
      "source": [
        "### Basic aritmetic operations in Python\n",
        "\n",
        "Python provides several built-in operators for basic arithmetic operations. This are the most common ones:\n",
        "* Addition (+): Adds two numbers together.\n",
        "* Subtraction (-): Subtracts one number from another.\n",
        "* Multiplication (*): Multiplies two numbers.\n",
        "* Division (/): Divides one number by another (returns a float).\n",
        "* Integer Division (//): Divides one number by another and returns the integer part of the result.\n",
        "* Modulo (%), returns the remainder when one number is divided by another  \n",
        "* Exponentiation (**): Raises one number to the power of another.\n",
        "\n",
        "Example: Example for the ussage of the most common build-in operators fo"
      ],
      "metadata": {
        "id": "ZlxaCw3HtEaH"
      }
    },
    {
      "cell_type": "code",
      "source": [
        "# Addition\n",
        "result = 5 + 3\n",
        "print(\"Addition:\", result)\n",
        "# Subtraction\n",
        "result = 5 - 3\n",
        "print(\"Subtraction:\", result)\n",
        "# Multiplication\n",
        "result = 5 * 3\n",
        "print(\"Multiplication:\", result)\n",
        "# Division\n",
        "result = 5 / 3\n",
        "print(\"Division:\", result)\n",
        "# Integer Division\n",
        "result = 5 // 3\n",
        "print(\"Integer Division:\", result)\n",
        "# Modulo\n",
        "result = 5 % 3\n",
        "print(\"Modulo:\", result)\n",
        "# Exponentiation\n",
        "result = 2 ** 3\n",
        "print(\"Exponentiation:\", result)"
      ],
      "metadata": {
        "colab": {
          "base_uri": "https://localhost:8080/"
        },
        "id": "51a0LHa-uYpc",
        "outputId": "2e10267f-68d7-4635-c928-da882ee766b1"
      },
      "execution_count": null,
      "outputs": [
        {
          "output_type": "stream",
          "name": "stdout",
          "text": [
            "Addition: 8\n",
            "Subtraction: 2\n",
            "Multiplication: 15\n",
            "Division: 1.6666666666666667\n",
            "Integer Division: 1\n",
            "Modulo: 2\n",
            "Exponentiation: 8\n"
          ]
        }
      ]
    },
    {
      "cell_type": "markdown",
      "source": [
        "### If else conditions in Pyhon\n",
        "\n",
        "The general form of an if else condition in phython is:\n",
        "```\n",
        "if <bool>:\n",
        "  <code block>\n",
        "elif <bool>:\n",
        "  <code block>\n",
        "  .....\n",
        "else:\n",
        "  <code block>\n",
        "\n",
        "```\n",
        "As show python uses : to indicate a start of a new block and indentation.\n",
        "\n",
        "Example: Given a number i, print one of the folowing \"i is smaller or equal to 10\", \" i is smaller than 20\",\"i is equal to 20\", \"i is bigger than 20\" depending on i."
      ],
      "metadata": {
        "id": "ltcveziju0bN"
      }
    },
    {
      "cell_type": "code",
      "source": [
        "i_:int = 12\n",
        "\n",
        "if i_<=10:\n",
        "  print(\"i is smaller or equal to 10\")\n",
        "elif i_<20\n",
        " print(\"i is smaller than 20\")\n",
        "elif i==20\n",
        " print(\"i is equal to 20\")\n",
        "elif\n",
        " print(\"i is bigger or equal than 20\")"
      ],
      "metadata": {
        "id": "J8HbhoCdwO4t"
      },
      "execution_count": null,
      "outputs": []
    },
    {
      "cell_type": "markdown",
      "source": [
        "### Lops and interations in Python\n",
        "\n",
        "Commony as with other languages comony used loops in python are while and for loops. Also python supports functional programing and it is not rare that functions are used instead of declarative loops for interations especially for interating data collections"
      ],
      "metadata": {
        "id": "QT5hAKl8bLoz"
      }
    },
    {
      "cell_type": "markdown",
      "source": [
        "The while loop syntac form in python is the following:\n",
        "\n",
        "```\n",
        "while <boolean>:\n",
        "    <code block>\n",
        "```\n",
        "Example, using while loop print the elements of an list, l = {1,2,3,\"this is the last element of the list\"}\n"
      ],
      "metadata": {
        "id": "0Ux5MNDCb59I"
      }
    },
    {
      "cell_type": "code",
      "source": [
        "l = [1,2,3,\"this is the last element of the list\"]\n",
        "\n",
        "index_l = 0\n",
        "while(index_l<4):\n",
        "  print(l[index_l])\n",
        "  index_l = index_l + 1"
      ],
      "metadata": {
        "colab": {
          "base_uri": "https://localhost:8080/"
        },
        "id": "VM3WqV5ccuoW",
        "outputId": "4e843d58-8044-426c-87ed-d50f485e4509"
      },
      "execution_count": null,
      "outputs": [
        {
          "output_type": "stream",
          "name": "stdout",
          "text": [
            "1\n",
            "2\n",
            "3\n",
            "this is the last element of the list\n"
          ]
        }
      ]
    },
    {
      "cell_type": "markdown",
      "source": [
        "The general form of a for loop in python is\n",
        "```\n",
        "for variable in sequence:\n",
        "    <code block>\n",
        "```    \n",
        "\n",
        "Example: using for loop print the elements of the list l = {1,2,3,\"this is the last element of the list\"}\n",
        "\n"
      ],
      "metadata": {
        "id": "9yPTSwF_eF9y"
      }
    },
    {
      "cell_type": "code",
      "source": [
        "l = [1,2,3,\"this is the last element of the list\"]\n",
        "\n",
        "for element in l:\n",
        "    print(element)"
      ],
      "metadata": {
        "id": "FprlB9L1eoUp"
      },
      "execution_count": null,
      "outputs": []
    },
    {
      "cell_type": "markdown",
      "source": [
        "Python suppors functional programin so it becomes more and more popular to use functions instead of loops for interation data structures. Build in functions like map and reduce are used to apply a function the the elements of a data collection like a list. This style of writing code is called declarative, oposite to this is imperative where loops like while would be used to interate data structures. More on details on this in the section for functions in python\n",
        "\n",
        "Example, using the map fuction print the elements of a list l = [1,2,3,\"this is the last element of the list\"] in Python\n",
        "\n",
        "\n"
      ],
      "metadata": {
        "id": "ARs9Jq3wevU1"
      }
    },
    {
      "cell_type": "code",
      "source": [
        "l = [1, 2, 3, \"this is the last element of the list\"]\n",
        "\n",
        "list(map(lambda x: print(x), l))"
      ],
      "metadata": {
        "colab": {
          "base_uri": "https://localhost:8080/"
        },
        "id": "OhW1Q9hMfl9J",
        "outputId": "4811dd2f-d9f1-47a2-b36c-ac9f1d3acd9e"
      },
      "execution_count": null,
      "outputs": [
        {
          "output_type": "stream",
          "name": "stdout",
          "text": [
            "1\n",
            "2\n",
            "3\n",
            "this is the last element of the list\n"
          ]
        },
        {
          "output_type": "execute_result",
          "data": {
            "text/plain": [
              "[None, None, None, None]"
            ]
          },
          "metadata": {},
          "execution_count": 30
        }
      ]
    },
    {
      "cell_type": "markdown",
      "source": [
        "### Fuctions in python\n",
        "\n",
        "Dependong on how they are deffunded there are in general two types of functions in python. Lamda functions and standard functions or lambda finctions and functions. Standar functions or just functions are tradicional and quite flexuible functions but they requre more code, actuall caracters to be defined where lambda functions requre less code or characters to be defined but they are not as flexible as they are only sigle line functions. The folowing text will not use lambda functions as they are compleatly replaceble with the standard functions. In general lambda functions are used with predefinded functions like map or reduce when interatind data structures, and they are inlined with this functions and not separately declared.\n",
        "\n",
        "Standard function\n",
        "```\n",
        "def function_name(parameters):\n",
        "    <Code block>\n",
        "    <statement1>\n",
        "    <statement1>\n",
        "    ...\n",
        "    <!-- optional return -->\n",
        "    return <value>\n",
        "```\n",
        "Lambda fynction\n",
        "```\n",
        "lambda parameters: expression\n",
        "```\n",
        "\n",
        "Example: Using a standard and a lambda function calculate the sum of two numbers and print the output"
      ],
      "metadata": {
        "id": "2XAvgY09g-Yg"
      }
    },
    {
      "cell_type": "code",
      "source": [
        "def sum_standard_function(x, y):\n",
        "    result = x + y\n",
        "    return result\n",
        "# Call the standard function and print the output\n",
        "sum_standard = sum_standard_function(3, 5)\n",
        "print(f\"Using Standard Function: {sum_standard}\")\n",
        "\n",
        "sum_lambda_function = lambda x, y: x + y\n",
        "# Call the lambda function and print the output\n",
        "\n",
        "sum_lambda = sum_lambda_function(3, 5)\n",
        "print(f\"Using Lambda Function: {sum_lambda}\")"
      ],
      "metadata": {
        "colab": {
          "base_uri": "https://localhost:8080/"
        },
        "id": "voLuNHZrmcY7",
        "outputId": "6b2b4e69-a05c-4722-edbb-495642190816"
      },
      "execution_count": null,
      "outputs": [
        {
          "output_type": "stream",
          "name": "stdout",
          "text": [
            "Using Standard Function: 8\n",
            "Using Lambda Function: 8\n"
          ]
        }
      ]
    },
    {
      "cell_type": "markdown",
      "source": [
        "**Functions are \"first order citisens\" in python**, menaing they are treated as variables. Function can be assigned to a variable, passed to a different function as a parameter or returned back. This is suported out of the box in python and as a result heigh order functions can be created quite easaly. The folowing text sections on optimization algoritham, will use this python feature extencevly when coding the optimization algorithams.\n",
        "\n",
        "Example: Create a function of x that numericaly calculated the derivate of a function $f(x)$ in $x$, $f'(x) = \\lim_{{\\Delta x \\to 0}} \\frac{{f(x + \\Delta x) - f(x)}}{\\Delta x}$, menaing instead of limit delta x aproaching 0, use an extreamly small area $(-delta +x, x + delta)$ arround x to apriximate the derivative where $delta = 1 \\times 10^{-8}$.\n",
        "\n"
      ],
      "metadata": {
        "id": "MeCSuOSfoIJY"
      }
    },
    {
      "cell_type": "code",
      "source": [
        "def f(x_in:float):\n",
        "  return x_in**2\n",
        "\n",
        "def derivative_of(function_in):\n",
        "  def numerical_derivative(x_in):\n",
        "    delta = 1e-8\n",
        "    return (function_in(x_in + delta) - function_in(x_in - delta)) / (2 * delta)\n",
        "  return numerical_derivative\n",
        "\n",
        "derivat_f = derivative_of(f)\n",
        "\n",
        "print(f\"The approximation of the derivate of a function x^2 in x = 3 is {derivat_f(3)}\")"
      ],
      "metadata": {
        "colab": {
          "base_uri": "https://localhost:8080/"
        },
        "id": "bBCLXu0Pssfk",
        "outputId": "edfb0496-b4fc-4336-db1d-4e49fb1dc214"
      },
      "execution_count": null,
      "outputs": [
        {
          "output_type": "stream",
          "name": "stdout",
          "text": [
            "The approximation of the derivate of a function x^2 in x = 3 is 5.999999963535174\n"
          ]
        }
      ]
    },
    {
      "cell_type": "markdown",
      "source": [
        "\n",
        "Basic arithmetic operations with functions in Python include findong the absolute value `abs` and square root `math.sqrt`. The `abs` function is quite standard and included in Python's base library, whereas `sqrt` is not included and is part of the math library, but it is commonly used.\n",
        "\n",
        "Example: Given a number calculate the square root of the ablsute value of that number"
      ],
      "metadata": {
        "id": "WsvaBDoA0Pwp"
      }
    },
    {
      "cell_type": "code",
      "source": [
        "import math\n",
        "\n",
        "def calculate_sqrt_abs(num):\n",
        "    abs_num = abs(num)\n",
        "    sqrt_abs_num = math.sqrt(abs_num)\n",
        "    return sqrt_abs_num\n",
        "\n",
        "number = -9\n",
        "result = calculate_sqrt_abs(number)\n",
        "print(f\"The square root of the absolute value of {number} is {result}\")"
      ],
      "metadata": {
        "id": "4nMMMfYG1fUW"
      },
      "execution_count": null,
      "outputs": []
    },
    {
      "cell_type": "markdown",
      "source": [
        "### Logical operators\n",
        "\n",
        "Python uses `True` and `False` as boolean values.\n",
        "\n",
        "Most popular operators are\n",
        "* and\n",
        "* or\n",
        "* not\n",
        "\n",
        "Comparing values is done with:\n",
        "* <, <=\n",
        "* \\>, >=\n",
        "* ==\n",
        "\n",
        "Examples :\n",
        "\n",
        "1. Given two numbers a,b write a function that will return the bigger number\n",
        "2. Given three numbers a,b,c write a function that will return the bigggest number\n",
        "3. Given two numbers a,b that returns true if a>b\n",
        "3. Write a function given a number n prints the first n numbers\n",
        "\n"
      ],
      "metadata": {
        "id": "1bynUSGQOHID"
      }
    },
    {
      "cell_type": "code",
      "source": [
        "# Example 1\n",
        "def max_of_two(a, b):\n",
        "    return a if a > b else b\n",
        "print(\"Max of 10 and 20:\", max_of_two(10, 20))  # Output: 20\n",
        "\n",
        "# Example 2\n",
        "def max_of_three(a, b, c):\n",
        "    pom = a\n",
        "    if(b>a):\n",
        "      pom = b\n",
        "    if(c>pom):\n",
        "      pom = c\n",
        "    return pom\n",
        "print(\"Max of 50, 40, and 30:\", max_of_three(50, 40, 30))  # Output: 50\n",
        "\n",
        "# Example 3\n",
        "def is_a_greater_than_b(a, b):\n",
        "    return a > b\n",
        "# Example 4\n",
        "def print_first_n(n:int):\n",
        "  print(f\"First {n} positive integers:\")\n",
        "  i=1\n",
        "  while(not is_a_greater_than_b(i,n)):\n",
        "    print(i)\n",
        "    i = i+1\n",
        "\n",
        "print_first_n(10)"
      ],
      "metadata": {
        "colab": {
          "base_uri": "https://localhost:8080/"
        },
        "id": "3muoet3NWNFf",
        "outputId": "10acabc4-b75f-4208-91fb-bdb98300afbd"
      },
      "execution_count": null,
      "outputs": [
        {
          "output_type": "stream",
          "name": "stdout",
          "text": [
            "Max of 10 and 20: 20\n",
            "Max of 50, 40, and 30: 50\n",
            "First 10 positive integers:\n",
            "1\n",
            "2\n",
            "3\n",
            "4\n",
            "5\n",
            "6\n",
            "7\n",
            "8\n",
            "9\n",
            "10\n"
          ]
        }
      ]
    },
    {
      "cell_type": "markdown",
      "source": [
        "### Ploting a function\n",
        "\n",
        "One of the reasons why Python is popular in mathematical-related areas is because of the matplotlib library. The library is used to draw or plot on a coordinate system. It can be used for drawing functions, dots, bars, histograms, and pie charts. It offers other usefull options like drawing in different colors and naming the axes of the coordinate system and also name the entire drawing. Also supports drawing in 3D and 2D.\n",
        "\n",
        "\n",
        "Example:\n",
        "* Draw dots in a coordinate sustem\n",
        "* Draw function in a coordinate system, above a domain\n",
        "* Draw a line in a coordinate system that passes in two dots\n"
      ],
      "metadata": {
        "id": "JA4JdP0dhQRl"
      }
    },
    {
      "cell_type": "code",
      "source": [
        "import matplotlib.pyplot as plt\n",
        "import numpy as np\n",
        "\n",
        "# Draw dots\n",
        "\n",
        "# Define coordinates for the dots\n",
        "x_dots = [1, 2, 3, 4, 5]\n",
        "y_dots = [1, 4, 9, 16, 25]\n",
        "\n",
        "# Plot the dots\n",
        "plt.scatter(x_dots, y_dots)\n",
        "plt.xlabel('X')\n",
        "plt.ylabel('Y')\n",
        "plt.title('Dots in a Coordinate System')\n",
        "plt.grid()\n",
        "plt.show()\n",
        "\n",
        "# Draw function\n",
        "\n",
        "# Define the function\n",
        "def f(x):\n",
        "    return x**2 + 1\n",
        "\n",
        "# Define the domain\n",
        "x_func = np.linspace(-3, 3, 100)  # Adjust the domain as needed\n",
        "\n",
        "# Plot the function\n",
        "plt.plot(x_func, f(x_func))\n",
        "plt.xlabel('X')\n",
        "plt.ylabel('Y')\n",
        "plt.title('Function in a Coordinate System')\n",
        "plt.grid()\n",
        "plt.show()\n",
        "\n",
        "# Draw line\n",
        "\n",
        "# Define the coordinates of the two dots\n",
        "x_line = [1, 5]\n",
        "y_line = [1, 25]\n",
        "\n",
        "# Plot the line passing through the two dots\n",
        "plt.plot(x_line, y_line, marker='o')\n",
        "plt.xlabel('X')\n",
        "plt.ylabel('Y')\n",
        "plt.title('Line Passing Through Two Dots')\n",
        "plt.grid()\n",
        "plt.show()"
      ],
      "metadata": {
        "colab": {
          "base_uri": "https://localhost:8080/",
          "height": 1000
        },
        "id": "YZ_C6NXwoyiG",
        "outputId": "523a1c62-a10f-4f04-95bf-5428905c0990"
      },
      "execution_count": null,
      "outputs": [
        {
          "output_type": "display_data",
          "data": {
            "text/plain": [
              "<Figure size 640x480 with 1 Axes>"
            ],
            "image/png": "[encoded data removed]"
          },
          "metadata": {}
        },
        {
          "output_type": "display_data",
          "data": {
            "text/plain": [
              "<Figure size 640x480 with 1 Axes>"
            ],
            "image/png": "[encoded data removed]"
          },
          "metadata": {}
        },
        {
          "output_type": "display_data",
          "data": {
            "text/plain": [
              "<Figure size 640x480 with 1 Axes>"
            ],
            "image/png": "[encoded data removed]"
          },
          "metadata": {}
        }
      ]
    },
    {
      "cell_type": "markdown",
      "source": [
        "## Arrays, Matrices and elements of Linear algebra in Python\n",
        "\n",
        "Python has a reach set of functions and libraries when it comes to operations with vectors and matrices. This is genneraly done using libraries numpy and sympy, sympy. Matrix offer. This text in the chapter for optimization algoritham will extencivly use linear albebra and the library numpy.\n",
        "\n",
        "\n"
      ],
      "metadata": {
        "id": "Y5WvzsQDNLQX"
      }
    },
    {
      "cell_type": "markdown",
      "source": [
        "### Standad operations with lists in Python\n",
        "Aldow not connected directy to linear algebra, standard lists in python will be used in developing the optimization algorithams in the next chapter of this text.\n",
        "\n",
        "Most popular operations with the standard python list are:\n",
        "\n",
        "* Indexing: `list[i]`, where `i` is the index.\n",
        "* Length of a list: `len(list)` - getting the size of the list.\n",
        "* Appending: `list.append(x)`, where `x` is appended at the end of the list.\n",
        "* Removing: `list.pop(i)`, where i is the index of the element to be deleted.\n",
        "* Inserting: `list.insert(i, x)`, where `x` is the element to be inserted and i is its index.\n",
        "* Slicing: `list[x:y]`, where `x` and `y` are the indices of the first and last elements of the returned list (inclusive of `x` and exclusive of `y`). `x` or `y` might be omitted, which would be interpreted as the start and end of the list, respectively.\n",
        "\n",
        "\n",
        "*When it comes to indexing, the first element of the list has index 0 and the last element can be accessed with -1.*\n",
        "\n",
        "Examples:\n",
        "\n",
        "* Define e list_a with 10 elements and print its first second and last elements\n",
        "* Print the list_a size\n",
        "* Append an element to already definded list_a and print the list\n",
        "* Remove the second element of list_a and print the list\n",
        "* Insert an element at in list, list_a a between the second and the third element and print the list\n",
        "* From a list list_a using the slicing operator create a new list list_b that contains the same elemements from list_a in the same order starting from index 3 and ending at index 5 including the element at index 3 and 5.\n",
        "* From a list list_a using the slicing operator create a list list_b that does not contain the first 3 elements of list_a\n",
        "* From a list list_a ussing the slicing operator create a list list_b that does not contain the first 4 elements of list_a in the same order as in list_a\n"
      ],
      "metadata": {
        "id": "4fpFuGEm8XaG"
      }
    },
    {
      "cell_type": "code",
      "source": [
        "# Define list_a with 10 elements\n",
        "list_a = [1, 2, 3, 4, 5, 6, 7, 8, 9, 10]\n",
        "# Print the first, second, and last elements\n",
        "print(\"First element:\", list_a[0])\n",
        "print(\"Second element:\", list_a[1])\n",
        "print(\"Last element:\", list_a[-1])\n",
        "# Print the list_a size\n",
        "print(\"Size of list_a:\", len(list_a))\n",
        "# Append an element to list_a and print the list\n",
        "list_a.append(11)\n",
        "print(\"List after appending an element:\", list_a)\n",
        "# Remove the second element of list_a and print the list\n",
        "list_a.pop(1)\n",
        "print(\"List after removing the second element:\", list_a)\n",
        "# Insert an element in list_a between the second and third elements and print the list\n",
        "list_a.insert(2, 15)\n",
        "print(\"List after inserting an element:\", list_a)\n",
        "# Create a new list list_b from list_a using the slicing operator from index 3 to 5\n",
        "list_b = list_a[3:6]\n",
        "print(\"List_b from index 3 to 5 of list_a:\", list_b)\n",
        "# Create a new list list_b from list_a excluding the first 3 elements\n",
        "list_b = list_a[3:]\n",
        "print(\"List_b excluding the first 3 elements of list_a:\", list_b)\n",
        "# Create a new list list_b from list_a excluding the first 4 elements\n",
        "list_b = list_a[4:]\n",
        "print(\"List_b excluding the first 4 elements of list_a:\", list_b)"
      ],
      "metadata": {
        "colab": {
          "base_uri": "https://localhost:8080/"
        },
        "id": "ZYYt9L0uBOYX",
        "outputId": "1ea620e6-a4d0-4ea1-a4c7-8a73b304ba7d"
      },
      "execution_count": null,
      "outputs": [
        {
          "output_type": "stream",
          "name": "stdout",
          "text": [
            "First element: 1\n",
            "Second element: 2\n",
            "Last element: 10\n",
            "Size of list_a: 10\n",
            "List after appending an element: [1, 2, 3, 4, 5, 6, 7, 8, 9, 10, 11]\n",
            "List after removing the second element: [1, 3, 4, 5, 6, 7, 8, 9, 10, 11]\n",
            "List after inserting an element: [1, 3, 15, 4, 5, 6, 7, 8, 9, 10, 11]\n",
            "List_b from index 3 to 5 of list_a: [4, 5, 6]\n",
            "List_b excluding the first 3 elements of list_a: [4, 5, 6, 7, 8, 9, 10, 11]\n",
            "List_b excluding the first 4 elements of list_a: [5, 6, 7, 8, 9, 10, 11]\n"
          ]
        }
      ]
    },
    {
      "cell_type": "markdown",
      "source": [
        "### Numpy library, standard operations\n",
        "Creating a vector in Python can be done with the `numpy` library. Vectors created using the numpy library are usually referred to as numpy arrays or np arrays, and they are created from a list. Before using the numpy library, it needs to be imported. The standard way to import it is `import numpy as np`. This line imports numpy as np, and from now on in this text, numpy will be referenced and called np, as this is standard slang in Python.\n",
        "\n",
        "*As with every programming language, the used libraries need to be imported and be part of the dependencies. The good thing about using Colab is that it handles the dependencies itself, so only an import for the used library is required.*\n",
        "\n",
        "```\n",
        "import numpy as np\n",
        "my_list = [1,2,3,4,5]\n",
        "my_vector = np.array(my_list)\n",
        "```\n",
        "The numpy library does not have any spetial data structure for a matrix, but matrixes are created as an array of arrays\n",
        "```\n",
        "my_matrix = np.array([[1, 2, 3],[4, 5, 6],[7, 8, 9]])\n",
        "```\n",
        "It is important to note that all the priviosly described functions and operators that are applicable on the standard python list are also applicable on the np.arrays. Other usefull function that are part of the np library but not directly connected to linear algebra are:\n",
        "\n",
        "* np.fill: returns an array with certain size, shape preffiled with an prvided element\n",
        "* np.linspace: evenly spaced numbers over a specified interval, usfull for plotting functions\n",
        "* np.concatenate: joining togeather vectors and matrixes, usefull for solving lienar systems or formalizing liner programs\n",
        "* np.vstack: Stacks arrays in sequence vertically (row wise), usefull for concatanating matrixes\n",
        "* np.hstack: Stacks arrays in sequence horizontally (column wise), , usefull for concatanating matrixes\n",
        "* .shape: returns the numer or rows or colums for a matrix\n",
        "\n",
        "*In the context of NumPy, a matrix A with m rows and n columns is said to have **shape** [m, n].*\n",
        "\n",
        "Examples:\n",
        "* Create an array with size 10, filled with the number 5\n",
        "* Add additional 5 zeros to the end of the array\n",
        "* Generate on a domain between [1,10] calculate 10 values for the function $f(x)=x^2$\n",
        "* Create a matrix A1 with shape [2,3]\n",
        "* Create a matrix A2 with shape [2,2] and concatinate it with matirx A1 so that the new matrix A3 = [A1 A2] is created with a shape [2,5] and\n",
        "* Create a new matrix A4 with a shape [3,5] and concatanate it with the matrix A5 = [[A3][A4]] is created with a shape [5,5]"
      ],
      "metadata": {
        "id": "2mpUlPK88tm0"
      }
    },
    {
      "cell_type": "code",
      "source": [
        "import numpy as np\n",
        "\n",
        "# Create an array with size 10, filled with the number 5\n",
        "array = np.full(10, 5)\n",
        "print(\"Array filled with 5s:\", array)\n",
        "# Add additional 5 zeros to the end of the array\n",
        "array = np.append(array, np.zeros(5))\n",
        "print(\"Array with 5 zeros at the end:\", array)\n",
        "# Generate 10 values for the function f(x) = x^2 on the domain [1, 10]\n",
        "x = np.linspace(1, 10, 10)\n",
        "f_x = x ** 2\n",
        "print(\"Values of f(x)=x^2:\", f_x)\n",
        "# Create a matrix A1 with shape [2,3]\n",
        "A1 = np.full((2, 3),1)\n",
        "print(\"Matrix A1 with shape [2,3]:\\n\", A1)\n",
        "# Create a matrix A2 with shape [2,2]\n",
        "A2 = np.full((2, 2),2)\n",
        "print(\"Matrix A2 with shape [2,2]:\\n\", A2)\n",
        "# Concatenate A2 with A1 to create A3 with shape [2,5]\n",
        "A3 = np.hstack((A1, A2))\n",
        "print(\"Matrix A3 with shape [2,5]:\\n\", A3)\n",
        "# Create a matrix A4 with shape [3,5]\n",
        "A4 = np.full((3, 5),4)\n",
        "print(\"Matrix A4 with shape [3,5]:\\n\", A4)\n",
        "# Concatenate A3 with A4 to create A5 with shape [5,5]\n",
        "A5 = np.vstack((A3, A4))\n",
        "print(\"Matrix A5 with shape [5,5]:\\n\", A5)"
      ],
      "metadata": {
        "colab": {
          "base_uri": "https://localhost:8080/"
        },
        "id": "Ss1MRee6UMUC",
        "outputId": "98a57fd0-1855-4d4b-9bcd-abe8ebfe3fb7"
      },
      "execution_count": null,
      "outputs": [
        {
          "output_type": "stream",
          "name": "stdout",
          "text": [
            "Array filled with 5s: [5 5 5 5 5 5 5 5 5 5]\n",
            "Array with 5 zeros at the end: [5. 5. 5. 5. 5. 5. 5. 5. 5. 5. 0. 0. 0. 0. 0.]\n",
            "Values of f(x)=x^2: [  1.   4.   9.  16.  25.  36.  49.  64.  81. 100.]\n",
            "Matrix A1 with shape [2,3]:\n",
            " [[1 1 1]\n",
            " [1 1 1]]\n",
            "Matrix A2 with shape [2,2]:\n",
            " [[2 2]\n",
            " [2 2]]\n",
            "Matrix A3 with shape [2,5]:\n",
            " [[1 1 1 2 2]\n",
            " [1 1 1 2 2]]\n",
            "Matrix A4 with shape [3,5]:\n",
            " [[4 4 4 4 4]\n",
            " [4 4 4 4 4]\n",
            " [4 4 4 4 4]]\n",
            "Matrix A5 with shape [5,5]:\n",
            " [[1 1 1 2 2]\n",
            " [1 1 1 2 2]\n",
            " [4 4 4 4 4]\n",
            " [4 4 4 4 4]\n",
            " [4 4 4 4 4]]\n"
          ]
        }
      ]
    },
    {
      "cell_type": "markdown",
      "source": [
        "### Linear algebra with Numpy\n"
      ],
      "metadata": {
        "id": "fQ7qw4SvdPil"
      }
    },
    {
      "cell_type": "markdown",
      "source": [
        "**The following text will use vectors and matrices with elements in the set of real numbers $\\mathbb{R}$.\n",
        "**\n",
        "\n",
        "Vector addition with np is quite intuitive as it uses the + operator. In mathematic vector addition is deffined between two vectors with same dimmension in case the two vectors have different dimmensions then exception of ValueError is thrown.\n",
        "\n",
        "Example: Sum two vectors `[1,2,3]`, `[3,4,5]` and then print them.\n"
      ],
      "metadata": {
        "id": "-dKXyd74h4eO"
      }
    },
    {
      "cell_type": "code",
      "source": [
        "import numpy as np\n",
        "\n",
        "v1 = np.array([1,2,3])\n",
        "v2 = np.array([3,4,5])\n",
        "\n",
        "v3 = v1 + v2\n",
        "\n",
        "print(f\"Result of addition of {v1} and {v2} is {v3}\")"
      ],
      "metadata": {
        "colab": {
          "base_uri": "https://localhost:8080/"
        },
        "id": "4zYb4ztlOkxl",
        "outputId": "78b64071-0469-4944-dad4-18a8d20bd7c2"
      },
      "execution_count": null,
      "outputs": [
        {
          "output_type": "stream",
          "name": "stdout",
          "text": [
            "Result of addition of [1 2 3] and [3 4 5] is [4 6 8]\n"
          ]
        }
      ]
    },
    {
      "cell_type": "markdown",
      "source": [
        "Matrix addition with np is also possible and it folows tha same rules as vector addition as matrixes and vectors are represented with np.arrays\n",
        "\n",
        "Example: Sum two matrices $ A =\n",
        "\\begin{pmatrix}\n",
        "1 & 2\\\\\n",
        "3 & 4\n",
        "\\end{pmatrix}$\n",
        "and $B=\n",
        "\\begin{pmatrix}\n",
        "5 & 6\\\\\n",
        "7 & 8\n",
        "\\end{pmatrix}$"
      ],
      "metadata": {
        "id": "XNVSUYqIkalL"
      }
    },
    {
      "cell_type": "code",
      "source": [
        "import numpy as np\n",
        "A = np.array([[1, 2], [3, 4]])\n",
        "B = np.array([[5, 6], [7, 8]])\n",
        "C = A + B\n",
        "print(\"Sum of A and B:\")\n",
        "print(C)"
      ],
      "metadata": {
        "colab": {
          "base_uri": "https://localhost:8080/"
        },
        "id": "UgT7k1MTl6lP",
        "outputId": "fd862666-0cb0-4a68-abf7-c71683ca6e44"
      },
      "execution_count": null,
      "outputs": [
        {
          "output_type": "stream",
          "name": "stdout",
          "text": [
            "Sum of A and B:\n",
            "[[ 6  8]\n",
            " [10 12]]\n"
          ]
        }
      ]
    },
    {
      "cell_type": "markdown",
      "source": [
        "#### Transposed vectors and matrixes\n",
        "\n",
        "> Add blockquote\n",
        "\n",
        "\n",
        "In mathematich a transposed vector $a^T$ of a vector $\n",
        "\\mathbf{a} = \\begin{bmatrix}\n",
        "a_1 \\\\\n",
        "a_2 \\\\\n",
        "\\vdots \\\\\n",
        "a_n\n",
        "\\end{bmatrix}\n",
        "$ is $\n",
        "\\mathbf{a}^T = \\begin{bmatrix}\n",
        "a_1 \\\n",
        "a_2 \\\n",
        "\\vdots\\\n",
        "a_n\n",
        "\\end{bmatrix}\n",
        "$\n",
        "\n",
        "simulary for matrix, transposed matrix $A^T$ of a matrix\n",
        "$\\mathbf{A} = \\begin{bmatrix}\n",
        "a_{11} & a_{12} & \\cdots & a_{1n} \\\\\n",
        "a_{21} & a_{22} & \\cdots & a_{2n} \\\\\n",
        "\\vdots & \\vdots & \\ddots & \\vdots \\\\\n",
        "a_{m1} & a_{m2} & \\cdots & a_{mn}\n",
        "\\end{bmatrix} $ is\n",
        "$\\mathbf{A}^T = \\begin{bmatrix}\n",
        "a_{11} & a_{21} & \\cdots & a_{m1} \\\\\n",
        "a_{12} & a_{22} & \\cdots & a_{m2} \\\\\n",
        "\\vdots & \\vdots & \\ddots & \\vdots \\\\\n",
        "a_{1n} & a_{2n} & \\cdots & a_{mn}\n",
        "\\end{bmatrix}$\n",
        "\n",
        "Transposing a matrix in numpy can be done with `A.T` where `A` is the matrix and since in numpy a vector is a special case of a matrix or an array, the same appyes for vectors.  \n",
        "*In general, the inerpretation of a transponing a matrix is returning a new matrix where the rows from the first matrix become colums and the colums rows.*\n",
        "\n",
        "Examples:\n",
        "* For a given vector print the transposed vector\n",
        "* For a given martix print the transposed matrix\n",
        "\n",
        "// TODO .T funciton does not work, fix it\n"
      ],
      "metadata": {
        "id": "Hobfax2yDPBq"
      }
    },
    {
      "cell_type": "markdown",
      "source": [
        "#### Dot product of vectors and product of matixes\n",
        "\n",
        "Dot product for vectors\n",
        "$\\mathbf{a}$ and $\\mathbf{b}$ in $\\mathbb{R}^n$\n",
        "where:\n",
        "$\n",
        "\\mathbf{a}^T = \\begin{bmatrix}\n",
        "a_1 \\\\\n",
        "a_2 \\\\\n",
        "\\vdots \\\\\n",
        "a_n\n",
        "\\end{bmatrix}, \\quad\n",
        "\\mathbf{b} = \\begin{bmatrix}\n",
        "b_1 \\\\\n",
        "b_2 \\\\\n",
        "\\vdots \\\\\n",
        "b_n\n",
        "\\end{bmatrix}\n",
        "$  \n",
        "is defined as:\n",
        "$\n",
        "\\mathbf{a} \\mathbf{b} = \\sum_{i=1}^{n} a_i b_i\n",
        "$\n",
        "\n",
        "\n",
        "The dot product $\\mathbf{x}*\\mathbf{x}$ is also called a euclidean norm of the vector $\\mathbf{x}$ and annotated as $\\|\\mathbf{x}\\|$.\n",
        "\n",
        "*The interpretation of this norm is the size of the vector.*\n",
        "\n",
        "The vector product is also equal to:\n",
        "$$\\mathbf{x} \\cdot \\mathbf{y} = \\|\\mathbf{x}\\| \\|\\mathbf{y}\\| \\cos(\\theta)$$ where $\\theta$ is the angle between $x$ and $y$\n",
        "\n",
        "*The dot product is usualy used for finding a projecting vecor $a_b$ of the vector $a$ on the vector $b$,\n",
        "$$\n",
        "{\\mathbf{a_b}} = \\left( \\frac{\\mathbf{a} \\cdot \\mathbf{b}}{\\|\\mathbf{b}\\|} \\right) \\mathbf{b}\n",
        "$$*\n",
        "\n",
        "\n",
        "Similary, for matrices, product of two matrices $\\mathbf{A}$ and $\\mathbf{B}$ with shapes [n,k] and [k,m] accordingly is an $\\mathbf{AB}$ matrix with a shape [n,m] where the element $\\mathbf{AB[i,j]}$ is a dot product of the i'th row vector and the j'th column vector of $\\mathbf{B}$.\n",
        "\n",
        "$$\n",
        "AB[i,j] = \\sum_{q=1}^{k} A[i,q] B[q,j]\n",
        "$$\n",
        "\n",
        "\n",
        "\n",
        "In Nympy the dot product can be found with\n",
        "`np.dot(a, b)`\n",
        "and incontrary to the mathematicla deffinition it does not reuqre that one of the vectors to be transposed.\n",
        "\n",
        "Examples:\n",
        "* Using the properties of the dot product and given two vectors a=[2,3] and b=[4,5] find a vector a_b that will be the projection of a on b and plot it.\n",
        "* Given the lienar function f(x_1..x_4)=3x_1+5x_2-4x_3+19x_4 + 3 in x = [3,4,5,1], using the dot product x*a where a are the parameters of the linear function a = [3,5,-4,19,3]"
      ],
      "metadata": {
        "id": "DyBPnsjK7UmH"
      }
    },
    {
      "cell_type": "code",
      "source": [
        "import numpy as np\n",
        "\n",
        "# Creating a 2D array (matrix)\n",
        "a = np.array([1, 2, 3])\n",
        "\n",
        "print(\"The transposed vector for the vector:\")\n",
        "print(a)\n",
        "print(\"is:\")\n",
        "print(a.T)\n",
        "\n",
        "# Creating a 2D array (matrix)\n",
        "A = np.array([[1, 2, 3],\n",
        "              [4, 5, 6],\n",
        "              [7, 8, 9]])\n",
        "print(\"The transposed matrix for the matrix:\")\n",
        "print(A)\n",
        "print(\"is:\")\n",
        "print(A.T)\n"
      ],
      "metadata": {
        "colab": {
          "base_uri": "https://localhost:8080/"
        },
        "id": "OCOELRinKXyw",
        "outputId": "06ef45ee-e1a6-44bc-ad32-f430e2c03919"
      },
      "execution_count": null,
      "outputs": [
        {
          "output_type": "stream",
          "name": "stdout",
          "text": [
            "The transposed vector for the vector:\n",
            "[1 2 3]\n",
            "is:\n",
            "[1 2 3]\n",
            "The transposed matrix for the matrix:\n",
            "[[1 2 3]\n",
            " [4 5 6]\n",
            " [7 8 9]]\n",
            "is:\n",
            "[[1 4 7]\n",
            " [2 5 8]\n",
            " [3 6 9]]\n"
          ]
        }
      ]
    },
    {
      "cell_type": "code",
      "source": [
        "import numpy as np\n",
        "import matplotlib.pyplot as plt\n",
        "\n",
        "# Example 1:\n",
        "v1 = np.array([3,5])\n",
        "v2 = np.array([5,1])\n",
        "v1_v2 = np.dot(v1, v2)\n",
        "norm_v2 = np.dot(v2, v2)\n",
        "v1_proj_v2=(v1_v2/(norm_v2))*v2\n",
        "plt.plot([0, v1[0]], [0, v1[1]], 'k:' ,color='b', label='v1', marker='o')\n",
        "plt.plot([0, v2[0]], [0, v2[1]], 'k:' ,color='g', label='v1', marker='o')\n",
        "plt.plot([0, v1_proj_v2[0]], [0, v1_proj_v2[1]], 'k:', color='r', label='v1', marker='o')\n",
        "plt.grid()\n",
        "plt.show()\n",
        "\n",
        "# Example 2:\n",
        "x = np.array([3,4,5,1])\n",
        "x = np.append(x, 1)\n",
        "a = np.array([3,5,-4,19,3])\n",
        "fx = np.dot(x,a)\n",
        "\n",
        "print(f\"the value of f(x_1..x_4)=3x1+5x2-4x3+19x4+3 in x=(3,4,5,1) is {fx}\")\n",
        "\n",
        "\n"
      ],
      "metadata": {
        "colab": {
          "base_uri": "https://localhost:8080/",
          "height": 572
        },
        "id": "qvt8vigvc3GV",
        "outputId": "757e2501-7d56-42bd-fb9f-1f281812e106"
      },
      "execution_count": null,
      "outputs": [
        {
          "output_type": "stream",
          "name": "stderr",
          "text": [
            "<ipython-input-44-cd2b27d95d92>:10: UserWarning: color is redundantly defined by the 'color' keyword argument and the fmt string \"k:\" (-> color='k'). The keyword argument will take precedence.\n",
            "  plt.plot([0, v1[0]], [0, v1[1]], 'k:' ,color='b', label='v1', marker='o')\n",
            "<ipython-input-44-cd2b27d95d92>:11: UserWarning: color is redundantly defined by the 'color' keyword argument and the fmt string \"k:\" (-> color='k'). The keyword argument will take precedence.\n",
            "  plt.plot([0, v2[0]], [0, v2[1]], 'k:' ,color='g', label='v1', marker='o')\n",
            "<ipython-input-44-cd2b27d95d92>:12: UserWarning: color is redundantly defined by the 'color' keyword argument and the fmt string \"k:\" (-> color='k'). The keyword argument will take precedence.\n",
            "  plt.plot([0, v1_proj_v2[0]], [0, v1_proj_v2[1]], 'k:', color='r', label='v1', marker='o')\n"
          ]
        },
        {
          "output_type": "display_data",
          "data": {
            "text/plain": [
              "<Figure size 640x480 with 1 Axes>"
            ],
            "image/png": "[encoded data removed]"
          },
          "metadata": {}
        },
        {
          "output_type": "stream",
          "name": "stdout",
          "text": [
            "the value of f(x_1..x_4)=3x1+5x2-4x3+19x4+3 in x=(3,4,5,1) is 31\n"
          ]
        }
      ]
    },
    {
      "cell_type": "markdown",
      "source": [
        "#### Cross product\n",
        "\n",
        "\n",
        "The cross product of two vectors is specifically defined for vectors in three dimensions. It is denoted with $\\times$, and for vectors $\\mathbf{a} = [a_1, a_2, a_3]$ and $\\mathbf{b} = [b_1, b_2, b_3]$, it is defined as the vector $\\mathbf{c}$:\n",
        "\n",
        "$$\n",
        "\\mathbf{c} = \\mathbf{a} \\times \\mathbf{b} = \\begin{bmatrix} a_1 \\\\ a_2 \\\\ a_3 \\end{bmatrix} \\times \\begin{bmatrix} b_1 \\\\ b_2 \\\\ b_3 \\end{bmatrix} = \\begin{bmatrix} a_2 b_3 - a_3 b_2 \\\\ a_3 b_1 - a_1 b_3 \\\\ a_1 b_2 - a_2 b_1 \\end{bmatrix}\n",
        "$$\n",
        "\n",
        "Also, the norm of $\\mathbf{c} = \\mathbf{a} \\times \\mathbf{b}$ can be expressed as a product of the norms of $\\mathbf{a}$ and $\\mathbf{b}$ and the $\\sin$ of the angle $\\theta$ between them.\n",
        "\n",
        "$$\n",
        "\\|\\mathbf{c}\\| = \\|\\mathbf{a} \\times \\mathbf{b}\\| = \\|\\mathbf{a}\\| \\|\\mathbf{b}\\| \\sin(\\theta)\n",
        "$$\n",
        "\n",
        "*Interpretation: The cross product of two vectors is a ortogonal vector to the plain that the vectors form, the size of the vector is the area of the parallelogram formed by the two vectors*\n",
        "\n",
        "In nympy the crossproduct of a and b is calculated with the function `np.cross(a, b)`.\n",
        "\n",
        "Examples:\n",
        "1. Calulate the crossproduct of the perpendicular vectors:\n",
        "[1, 0, 0],[0, 1, 0]\n",
        "2. Calculate hte crossproduct of the noperpendicular non linear dependent vectors [1,2,3], [3,4,5]\n",
        "3. Calcualte the cross product of the linear dependent vectors [1, 0, 0],[5, 0, 0]\n",
        "\n"
      ],
      "metadata": {
        "id": "5LKfjA6OcCQy"
      }
    },
    {
      "cell_type": "code",
      "source": [
        "import numpy as np\n",
        "\n",
        "v1 = np.array([1, 0, 0])\n",
        "v2 = np.array([0, 1, 0])\n",
        "c = np.cross(v1, v2)\n",
        "print(f'Example 1: Cross product of {v1} and {v2} = {c}')\n",
        "\n",
        "v1 = np.array([1, 2, 3])\n",
        "v2 = np.array([3, 4, 5])\n",
        "c = np.cross(v1, v2)\n",
        "\n",
        "print(f'Example 2: Cross product of {v1} and {v2} = {c}')\n",
        "\n",
        "v1 = np.array([1, 0, 0])\n",
        "v2 = np.array([5, 0, 0])\n",
        "c = np.cross(v1, v2)\n",
        "print(f'Example 3: Cross product of {v1} and {v2} = {c}')\n"
      ],
      "metadata": {
        "colab": {
          "base_uri": "https://localhost:8080/"
        },
        "id": "P3NQrE3k6OkT",
        "outputId": "13854898-35eb-4fc7-fe0e-c8d2711060f7"
      },
      "execution_count": null,
      "outputs": [
        {
          "output_type": "stream",
          "name": "stdout",
          "text": [
            "Example 1: Cross product of [1 0 0] and [0 1 0] = [0 0 1]\n",
            "Example 2: Cross product of [1 2 3] and [3 4 5] = [-2  4 -2]\n",
            "Example 3: Cross product of [1 0 0] and [5 0 0] = [0 0 0]\n"
          ]
        }
      ]
    },
    {
      "cell_type": "markdown",
      "source": [
        "### Determinant of a Matrix\n",
        "\n",
        "\n",
        "Generaly usage of a determinant is to solve a system of linear equasion, or just check if the system has one solution, no solution or indefinetly many solutions. Determinant is also used to find an inverse matrix of a matirx A descrigbed in the next section of this text. In general for a set of vectors if the determinant is equal to 0 than there are at least two vectors that are linear dependend.\n",
        "\n",
        "\n",
        "\n",
        "Np uses the formula `np.linalg.det(A)` to calculate the determinant of A.\n",
        "\n",
        "Example:\n",
        "1. Find the determinant of a matrix of linear depened row vectors\n",
        "`[[1, 2, 3, 4],\n",
        " [2, 4, 6, 8],  \n",
        " [1, 0, 1, 0],\n",
        " [0, 1, 0, 1]]`\n",
        "2. Find the determinant of a matrix of linear independend row vectors:\n",
        "`[[1, 2, 3, 4],\n",
        "    [5, 7, 8, 9],\n",
        "    [10, 11, 13, 14],\n",
        "    [15, 16, 17, 19]]`"
      ],
      "metadata": {
        "id": "xZdYlVYwHdas"
      }
    },
    {
      "cell_type": "code",
      "source": [
        "import numpy as np\n",
        "\n",
        "dependent_matrix = np.array([\n",
        "    [1, 2, 3, 4],\n",
        "    [2, 4, 6, 8],  # This row is 2 times the first row\n",
        "    [1, 0, 1, 0],\n",
        "    [0, 1, 0, 1]\n",
        "])\n",
        "\n",
        "det_dependent = np.linalg.det(dependent_matrix)\n",
        "print(f\"Determinant of the linearly dependent matrix: {det_dependent:.2f}\")\n",
        "\n",
        "independent_matrix = np.array([\n",
        "[1, 2, 3, 4],\n",
        "    [5, 7, 8, 9],\n",
        "    [10, 11, 13, 14],\n",
        "    [15, 16, 17, 19]\n",
        "])\n",
        "\n",
        "det_independent = np.linalg.det(independent_matrix)\n",
        "print(f\"Determinant of the linearly independent matrix: {det_independent:.2f}\")"
      ],
      "metadata": {
        "colab": {
          "base_uri": "https://localhost:8080/"
        },
        "id": "0NaiS9TdR-WM",
        "outputId": "e75cb5de-69d1-4426-e4a2-4354ac26699b"
      },
      "execution_count": null,
      "outputs": [
        {
          "output_type": "stream",
          "name": "stdout",
          "text": [
            "Determinant of the linearly dependent matrix: 0.00\n",
            "Determinant of the linearly independent matrix: -26.00\n"
          ]
        }
      ]
    },
    {
      "cell_type": "markdown",
      "source": [
        "### Unit/Identity Matrix and Inverse Matrix\n",
        "\n",
        "The matrix  $I$ with shape [n,n] is called an identity matrix or unite matrix if:\n",
        "$$\n",
        "I(i,j) =\n",
        "\\begin{cases}\n",
        "1 & \\text{if } i = j \\\\\n",
        "0 & \\text{if } i \\neq j\n",
        "\\end{cases}\n",
        "$$\n",
        "\n",
        "Np also has a build in fucntion for creating an identity matrix, it only requres the shape of the matrix inorder to create an identy matrx and since the shape of the idetity matrix is a square np only requres one positive integer to create an idnetity matrix.\n",
        "```\n",
        "size = 5\n",
        "I = np.identity(size)\n",
        "```\n",
        "And a inverse matrix $A^{-1}$ of $A$ is a matrix that multiplied to $A$ is equal to the inverse matrix $I$.\n",
        "\n",
        "$$ A \\cdot A^{-1} =  A^{-1} \\cdot A = I $$\n",
        "\n",
        "Finding an inverse matrix for matrix A in np is done with the functioin `inv_A = np.linalg.inv(A)`, in case the determinant of A is 0 A does not have a inverse matrix and then A is called a singlualr matrix. Calling `inv_A = np.linalg.inv(A)` on a singular matrix will result in throwing `np.linalg.LinAlgError` exception there for theare are two options, before calling `inv_A = np.linalg.inv(A)` check if the determinant is 0 or handle the exception `np.linalg.LinAlgError`.\n",
        "\n",
        "Case one:\n",
        "```\n",
        "det_A = np.linalg.det(A)\n",
        "if det_A == 0:\n",
        "  print(\"Matrix A is singular\")\n",
        "else:\n",
        "  A_inv = np.linalg.inv(A)\n",
        "  print(\"Inverse Matrix of a A is\")\n",
        "  print(A_inv)\n",
        "```\n",
        "\n",
        "Case two:\n",
        "```\n",
        "try:\n",
        "  # Step 3: Compute the inverse of A\n",
        "  A_inv = np.linalg.inv(A)\n",
        "  print(\"Inverse Matrix of a A is\")\n",
        "  print(A_inv)\n",
        "except np.linalg.LinAlgError:\n",
        "    print(\"Matrix A is singular\")\n",
        "```\n",
        "\n",
        "Examples:\n",
        "* Create identity matrix I with size 5\n",
        "* Create random not 0 matrix A with shape [5,5] and find the inverse of A_inv of A\n",
        "* Verify that A*A_inv is equal to the identity\n",
        "**Use `np.round(A, 3)` to round the elements of the matrixes to 3 decinals**"
      ],
      "metadata": {
        "id": "iuUXxIIfYUtO"
      }
    },
    {
      "cell_type": "code",
      "source": [
        "import numpy as np\n",
        "\n",
        "def create_random_square_matrix(size):\n",
        "  A = np.random.rand(size, size)\n",
        "  while np.linalg.det(A) == 0:\n",
        "    A = np.random.rand(size, size)\n",
        "  # returns the matrix only if the determinant is different than 0\n",
        "  return A\n",
        "\n",
        "# Example 1: Create an identity matrix I with size 5\n",
        "I = np.eye(5)\n",
        "print(\"Identity matrix I:\")\n",
        "print(I)\n",
        "print()\n",
        "\n",
        "# Example 1: Create a random non-zero matrix A with shape [5, 5]\n",
        "A = np.round(create_random_square_matrix(5),3)\n",
        "\n",
        "# Example 1: Find the inverse of A (A_inv)\n",
        "A_inv = np.round(np.linalg.inv(A),3)\n",
        "print(\"Random non-zero matrix A:\")\n",
        "print(A)\n",
        "print(\"\\nInverse of matrix A (A_inv):\")\n",
        "print(A_inv)\n",
        "print()\n",
        "\n",
        "# Task 3: Verify that A * A_inv is equal to the identity matrix\n",
        "A_times_A_inv = np.round(np.dot(A, A_inv))\n",
        "print(\"Product of A and A_inv (should be close to identity matrix):\")\n",
        "print(A_times_A_inv)\n",
        "print()\n"
      ],
      "metadata": {
        "colab": {
          "base_uri": "https://localhost:8080/"
        },
        "id": "DvcECJgBDF-x",
        "outputId": "d90abd1b-dc3f-4e08-c2a6-dee962fbb90c"
      },
      "execution_count": null,
      "outputs": [
        {
          "output_type": "stream",
          "name": "stdout",
          "text": [
            "Identity matrix I:\n",
            "[[1. 0. 0. 0. 0.]\n",
            " [0. 1. 0. 0. 0.]\n",
            " [0. 0. 1. 0. 0.]\n",
            " [0. 0. 0. 1. 0.]\n",
            " [0. 0. 0. 0. 1.]]\n",
            "\n",
            "Random non-zero matrix A:\n",
            "[[0.245 0.264 0.679 0.122 0.291]\n",
            " [0.383 0.531 0.601 0.521 0.769]\n",
            " [0.554 0.66  0.472 0.836 0.23 ]\n",
            " [0.509 0.009 0.022 0.814 0.608]\n",
            " [0.686 0.289 0.214 0.381 0.408]]\n",
            "\n",
            "Inverse of matrix A (A_inv):\n",
            "[[ 0.513 -1.2   -0.205 -0.132  2.208]\n",
            " [-2.207  1.769  0.758 -1.838  0.553]\n",
            " [ 2.449 -0.915  0.106  0.491 -0.813]\n",
            " [ 0.243 -0.575  0.999  1.229 -1.484]\n",
            " [-0.81   1.781 -1.181  0.119  0.16 ]]\n",
            "\n",
            "Product of A and A_inv (should be close to identity matrix):\n",
            "[[ 1. -0.  0.  0.  0.]\n",
            " [ 0.  1. -0.  0.  0.]\n",
            " [ 0. -0.  1.  0.  0.]\n",
            " [ 0. -0. -0.  1.  0.]\n",
            " [ 0. -0. -0.  0.  1.]]\n",
            "\n"
          ]
        }
      ]
    },
    {
      "cell_type": "markdown",
      "source": [
        "### Eigennvalue and Eiugenvectors of a matrix\n",
        "\n",
        "*Interpretation:\n",
        "Given vector V1[n,1] and matrix M[n,n] the product MV is a vector with shape [n], also multipolying a vector V2[n] with a sclar Lambda the result is a vector with shape [n]. If V1 is equal to V2 than the matrix does the same transformation to the vecotor as the salar Lambda. The vector paris v and scalar Lambda*\n",
        "\n",
        "A square matrix $\\mathbf{T}$ has a scalar eigenvalue $\\lambda$ associated with the nonzero eigenvector $\\vec{\\zeta}$ if\n",
        "$\\mathbf{T} \\vec{\\zeta} = \\lambda \\vec{\\zeta}.$\n",
        "\n",
        "Np offers elegant option to calculate the Eigennvalue and the associated Eiugenvectors to the value.\n",
        "\n",
        "Example: Given a matrix `[[1 2 3][4 5 6][7 8 9]]` find the Eigennvalues and the coresponding Eiugenvectors\n"
      ],
      "metadata": {
        "id": "d0QzUlVDDgHT"
      }
    },
    {
      "cell_type": "code",
      "source": [
        "import numpy as np\n",
        "\n",
        "A = np.array([[1, 2, 3],[4, 5, 6],[7, 8, 9]])\n",
        "\n",
        "eigenvalues, eigenvectors = np.linalg.eig(A)\n",
        "\n",
        "# interates the elements in eigenvalues, where index and eigenvalue are the\n",
        "# index and the appropriate value in every interation\n",
        "for index, eigenvalue in enumerate(eigenvalues):\n",
        "  print(f\"The eigenvalue {eigenvalue} has the appropriate eigenvectors {eigenvectors}\")\n"
      ],
      "metadata": {
        "colab": {
          "base_uri": "https://localhost:8080/"
        },
        "id": "YJxdom5uV9Re",
        "outputId": "9e405bc5-1597-4296-fcf9-18e5a3c6cbb4"
      },
      "execution_count": null,
      "outputs": [
        {
          "output_type": "stream",
          "name": "stdout",
          "text": [
            "The eigenvalue 16.116843969807043 has the appropriate eigenvectors [[-0.23197069 -0.78583024  0.40824829]\n",
            " [-0.52532209 -0.08675134 -0.81649658]\n",
            " [-0.8186735   0.61232756  0.40824829]]\n",
            "The eigenvalue -1.1168439698070427 has the appropriate eigenvectors [[-0.23197069 -0.78583024  0.40824829]\n",
            " [-0.52532209 -0.08675134 -0.81649658]\n",
            " [-0.8186735   0.61232756  0.40824829]]\n",
            "The eigenvalue -1.3036777264747022e-15 has the appropriate eigenvectors [[-0.23197069 -0.78583024  0.40824829]\n",
            " [-0.52532209 -0.08675134 -0.81649658]\n",
            " [-0.8186735   0.61232756  0.40824829]]\n"
          ]
        }
      ]
    },
    {
      "cell_type": "markdown",
      "source": [
        "## Solving equasions\n",
        "\n",
        "A sistem of linear equasions can be represented with matrixes in the folowing form A*X=B.\n",
        "\n",
        "In mathematics there are multiple ways of solving a sytem.\n",
        "Python uses `numpy.linalg.solve(A,B)`\n",
        "Example:\n",
        "Solve the system A*X = B where `A =[[2, 3, 1],[4, 1, 2],[3, 2, 3]]`\n",
        "and `B = [1, 2, 3]` and verify the result"
      ],
      "metadata": {
        "id": "yCT5xfuvVPNV"
      }
    },
    {
      "cell_type": "code",
      "source": [
        "import numpy as np\n",
        "A = np.array([[2, 3, 1],\n",
        "              [4, 1, 2],\n",
        "              [3, 2, 3]])\n",
        "\n",
        "B = np.array([1, 2, 3])\n",
        "X = np.linalg.solve(A,B)\n",
        "\n",
        "print(\"X =\", X)\n",
        "print(\"A*X =\", np.dot(A,X))"
      ],
      "metadata": {
        "colab": {
          "base_uri": "https://localhost:8080/"
        },
        "id": "p2XdVmVlW6PE",
        "outputId": "fa07790e-d292-4b87-dcad-3acea30eb486"
      },
      "execution_count": null,
      "outputs": [
        {
          "output_type": "stream",
          "name": "stdout",
          "text": [
            "X = [0. 0. 1.]\n",
            "A*X = [1. 2. 3.]\n"
          ]
        }
      ]
    },
    {
      "cell_type": "markdown",
      "source": [
        "### Basic mathematical functions\n",
        "\n",
        "\n",
        "**Absolute value**\n",
        "Absolute value using np can be calculates with `np.abs(<np.array>)` or `abs(x)`. The `np.abs` is used on np.array and retruns an array where all elements are positive.\n",
        "\n",
        "**Polinomal functions**,\n",
        "\n",
        "One dimensional polinomal funtion is defined as:\n",
        "$$f(x)=\\sum_{k=0}^{n} a_k \\cdot x^k$$\n",
        "Using the the np library a polinom function can be created with `np.poly1d` where the $a_k, 0 \\leq k \\leq n$ are elements of a `np.array`\n",
        "\n",
        "**Derivates**\n",
        "\n",
        "Appropriatly the derivat of a polinomal function is:\n",
        "$$f'(x) = \\sum_{k=1}^{n} k \\cdot a_k \\cdot x^{k-1}$$\n",
        "and the devivate of a polinom fuction f can be fund using `p.polyder(f)`\n",
        "\n",
        "Except for calculating derivatives of polinomal function, np does not offers a function to calculate in general a derivate of a function `p.polyder(f)`.\n",
        "This leaves with two option:\n",
        "1. Write a function to cacluate the derivate using approximation\n",
        "Example can be found above:\n",
        "[link text](https://colab.research.google.com/drive/1RUjUuq5_R9r046_BhcN9iNUu0QIrBG37#scrollTo=bBCLXu0Pssfk)\n",
        "2.  Use the `scipy` library, `scipy.misc.derivative` but it only offers the derivative for one dimension functions.\n",
        "\n",
        "Partial derivatives of multi dimensional functions need to be implemented by hand.\n",
        "\n",
        "Other option is to use the library `scipy` with `scipy.misc.derivative`\n",
        "\n",
        "**Integrals**\n",
        "\n",
        "Np also does not offer functions for calculating bounder integrals or just ingtgrals, they need to be calculated manualy.\n",
        "\n",
        "The library `scipy.integrate` can be used but it offers an approximation. The `scipy.integrate` offers option to calculate the integral of a one dimensional functiona and on more dimensional function `scipy.integrate.nquad` for functions with more than one variable, and use `scipy.integrate.trapz` for one dimensional integrals\n",
        "\n",
        "*In general, multipyrpyse programin languages do not offer methods or libraries that can manipulte mathematical functions, they usualy offer a way to approximate them, perhaps one of the reasons is that mathematical functions are not  a standard type variable in general purpuse languages*  \n",
        "<!-- todo misisng integral, scipy.integrate) -->\n",
        "<!-- todo this does not belon in linear albegra with numpy -->\n",
        "Example: Evaluate the polinomal function $f(x) = 2*x^2 + 3*x -5$ and its diferential in $x = 3$."
      ],
      "metadata": {
        "id": "QF9o9RCPoGEC"
      }
    },
    {
      "cell_type": "code",
      "source": [
        "import numpy as np\n",
        "\n",
        "f = np.poly1d([2,3,-5])\n",
        "f_derivat = np.polyder(f)\n",
        "\n",
        "print(f\"For x=5, F(5)={f(5)}, and F'(5)={f_derivat(5)}\")"
      ],
      "metadata": {
        "colab": {
          "base_uri": "https://localhost:8080/"
        },
        "id": "9GYAxPCArCyt",
        "outputId": "7ed6f880-f594-4eb2-d44c-ad40024c05d3"
      },
      "execution_count": null,
      "outputs": [
        {
          "output_type": "stream",
          "name": "stdout",
          "text": [
            "For x=5, F(5)=60, and F'(5)=23\n"
          ]
        }
      ]
    },
    {
      "cell_type": "markdown",
      "source": [
        "## Excesisis with np"
      ],
      "metadata": {
        "id": "zLygSh5A7LNZ"
      }
    },
    {
      "cell_type": "code",
      "source": [
        "import numpy as np\n",
        "\n",
        "# E. Create an array with size 10, filled with the number 5\n",
        "array = np.full(10, 5)\n",
        "print(array)\n",
        "\n",
        "# E. add additional 5 zeros to the end of the array\n",
        "array = [1,2,3,4]\n",
        "np.concatenate((array, np.full(5, 0)))\n",
        "print(array)\n",
        "\n",
        "# E. Add a row to matrix\n",
        "matrix = np.array([[1, 2, 3],\n",
        "                   [4, 5, 6]])\n",
        "new_row = np.array([7, 8, 9])\n",
        "matrix_with_new_row = np.vstack((matrix, new_row))\n",
        "print(\"Matrix with the new row:\")\n",
        "print(matrix_with_new_row)\n",
        "\n",
        "# E. Get the number of rows and number of columns of a matrix\n",
        "matrix = np.array([[1, 2, 3],\n",
        "                   [4, 5, 6],\n",
        "                   [7, 8, 9]])\n",
        "\n",
        "# Get the number of rows and columns of the matrix\n",
        "num_rows, num_cols = matrix.shape\n",
        "\n",
        "print(f\"num_rows, num_cols = ({num_rows},{num_cols})\")\n",
        "\n",
        "\n",
        "# E. Create sub matrix from a given matrix\n",
        "matrix = np.array([[1, 2, 3],\n",
        "                   [4, 5, 6],\n",
        "                   [7, 8, 9]])\n",
        "\n",
        "# Get a submatrix from the original matrix\n",
        "# Define the row and column indices of the submatrix\n",
        "start_row = 0\n",
        "end_row = 2  # Note: End index is exclusive, so it will include rows up to end_row - 1\n",
        "start_col = 1\n",
        "end_col = 3  # Note: End index is exclusive, so it will include columns up to end_col - 1\n",
        "\n",
        "# Extract the submatrix using slicing\n",
        "submatrix = matrix[start_row:end_row, start_col:end_col]\n",
        "\n",
        "print(submatrix)\n",
        "\n",
        "# E. From matrix A create matrix B that has the same rows but only the firts 4 columns\n",
        "matrix = np.array([[1, 2, 3, 4, 5],\n",
        "                   [6,7,8,9,10],\n",
        "                   [11, 12, 13,14,15]])\n",
        "submatrix = matrix[0:,0:4]\n",
        "print(submatrix)\n",
        "\n",
        "\n",
        "# E. From matrix A create matrix B that contains all rows except\n",
        "# the first one contains the first 4 columns\n",
        "matrix = np.array([[1, 2, 3, 4, 5],\n",
        "                   [6,7,8,9,10],\n",
        "                   [11, 12, 13,14,15]])\n",
        "submatrix = matrix[0:,0:4]\n",
        "print(submatrix)\n",
        "\n",
        "# E. Split the matrix A in to two sub matrixes verticaly, so that all rows from index 0 to 3 will be part\n",
        "#  of the firt sub matrix and all rows from index 4 to the end wil lbe part of the second matrix\n",
        "# the first one contains the first 4 columns\n",
        "matrix = np.array([[1, 2, 3, 4, 5],\n",
        "                   [6,7,8,9,10],\n",
        "                   [11, 12, 13,14,15]])\n",
        "\n",
        "submatrix1 = matrix[0:,0:3]\n",
        "submatrix2 = matrix[0:,3:]\n",
        "\n",
        "# todo reformat\n",
        "print(f\"submatrix1 = {submatrix1} submatrix2 = {submatrix2}\")\n",
        "\n",
        "\n",
        "# OPERATIONS WITH VECRTORS\n",
        "\n",
        "# E. Vector additgion, Sum the two vectores A = (1, 2, 3, 4, 5) and B = (3, 0, 3, 4, 1)\n",
        "a = np.array([1, 2, 3, 4, 5])\n",
        "b = np.array([3, 0, 3, 4, 1])\n",
        "c = a + b\n",
        "print(f\"sum of a ={a} and b = {b} is {c}\")\n",
        "\n",
        "\n",
        "# E. Inverce marix, create an inverce matrixx for a givem matrix A = ([1,2],[5,6])\n",
        "\n",
        "a = np.array([[1,2],[5,6]])\n",
        "print(\"inverce of: \")\n",
        "print(a)\n",
        "print(\"is: \")\n",
        "A_inverse = np.linalg.inv(a)\n",
        "print(A_inverse)\n",
        "\n",
        "# E. Inverce marix, create an inverce matrixx for a givem matrix A = ([1,2],[5,6]) manully\n",
        "print(\"inverce of: \")\n",
        "print(np.linalg.det(a))"
      ],
      "metadata": {
        "colab": {
          "base_uri": "https://localhost:8080/"
        },
        "id": "hHnHLu9PbUPz",
        "outputId": "3a66bff5-2581-4e06-ddb4-3e50a77d4b97"
      },
      "execution_count": null,
      "outputs": [
        {
          "output_type": "stream",
          "name": "stdout",
          "text": [
            "[5 5 5 5 5 5 5 5 5 5]\n",
            "[1, 2, 3, 4]\n",
            "Matrix with the new row:\n",
            "[[1 2 3]\n",
            " [4 5 6]\n",
            " [7 8 9]]\n",
            "num_rows, num_cols = (3,3)\n",
            "[[2 3]\n",
            " [5 6]]\n",
            "[[ 1  2  3  4]\n",
            " [ 6  7  8  9]\n",
            " [11 12 13 14]]\n",
            "[[ 1  2  3  4]\n",
            " [ 6  7  8  9]\n",
            " [11 12 13 14]]\n",
            "submatrix1 = [[ 1  2  3]\n",
            " [ 6  7  8]\n",
            " [11 12 13]] submatrix2 = [[ 4  5]\n",
            " [ 9 10]\n",
            " [14 15]]\n",
            "sum of a =[1 2 3 4 5] and b = [3 0 3 4 1] is [4 2 6 8 6]\n",
            "inverce of: \n",
            "[[1 2]\n",
            " [5 6]]\n",
            "is: \n",
            "[[-1.5   0.5 ]\n",
            " [ 1.25 -0.25]]\n"
          ]
        }
      ]
    },
    {
      "cell_type": "code",
      "source": [
        "#  Pivoting\n",
        "\n",
        "# In a matrix, pick an element and using linear transformations,\n",
        "# (multipluing a row with a scalar row and adding it to a different one)\n",
        "# transform the matrix so that the picked element will be transformed to one and\n",
        "# all the elements of the matrix in the column of the picked element will be equal\n",
        "# to 0\n",
        "import numpy as np\n",
        "from sympy import Matrix\n",
        "\n",
        "def custom_pivot_column(matrix, pivot_row, pivot_col):\n",
        "    # Convert the matrix to a NumPy array for easier manipulation\n",
        "    np_matrix = np.array(matrix)\n",
        "\n",
        "    # Divide the pivot row by the pivot element to make it 1\n",
        "    pivot_element = np_matrix[pivot_row, pivot_col]\n",
        "    np_matrix[pivot_row, :] /= pivot_element\n",
        "\n",
        "    # Eliminate other elements in the same column\n",
        "    num_rows = np_matrix.shape[0]\n",
        "    for i in range(num_rows):\n",
        "        if i != pivot_row:\n",
        "            ratio = np_matrix[i, pivot_col]\n",
        "            np_matrix[i, :] -= ratio * np_matrix[pivot_row, :]\n",
        "\n",
        "\n",
        "    # Convert the modified NumPy array back to a SymPy Matrix\n",
        "    pivoted_matrix = Matrix(np_matrix)\n",
        "\n",
        "    return pivoted_matrix\n",
        "\n",
        "m = Matrix([\n",
        "    [1, -1, 2],\n",
        "    [3, 4, 5],\n",
        "    [0, 2, 8]])\n",
        "\n",
        "print(custom_pivot_column(m, 1,1))\n",
        "print(custom_pivot_column(m, 0,0))\n"
      ],
      "metadata": {
        "colab": {
          "base_uri": "https://localhost:8080/"
        },
        "id": "Prsv_eflIhPd",
        "outputId": "90bba459-24b2-4ac6-ea01-4d8af82f3983"
      },
      "execution_count": null,
      "outputs": [
        {
          "output_type": "stream",
          "name": "stdout",
          "text": [
            "Matrix([[7/4, 0, 13/4], [3/4, 1, 5/4], [-3/2, 0, 11/2]])\n",
            "Matrix([[1, -1, 2], [0, 7, -1], [0, 2, 8]])\n"
          ]
        }
      ]
    },
    {
      "cell_type": "markdown",
      "source": [
        "## Approximations algoritams and the `scipy.optimize` library\n"
      ],
      "metadata": {
        "id": "vV93Sy43gIdz"
      }
    },
    {
      "cell_type": "markdown",
      "source": [
        "All of the optimiozation algoritam start from inital input values that depend on the problem. The initall values are strored in a problem spoecific data structure strictre using a variable called approximation.\n",
        "All of the optimization algoritmas are interative, they define algoritham specific step function named step_<name of algoritham> that function is called on the approximation variable. All algorithams interetevly call the step_ function on the appproximated variable untill a certain condition (stoppingcriterion) is satisfied.\n",
        "\n",
        "The gennral form of an optimization algoritham is coded in the folowing form:\n",
        "```\n",
        "def approximation = <!-- initial solution, optimization  or starting point -->\n",
        "def approximations = []\n",
        "\n",
        "def step_function(approximations:list[float]):\n",
        " ...\n",
        " return approximation\n",
        "\n",
        "def stop_criterion(approximations:list[float]):\n",
        "  ...\n",
        "  return <!-- returns true or false -->\n",
        "\n",
        "def approximation_method(approximations_in, step_function_in, stop_criterion_in)->list[float]\n",
        "  while(not stop_criterion_in(approximations[-1])):\n",
        "    approximation = step_function_in(approximations)\n",
        "    approximations_in.append(approximation)\n",
        "  return approximations_in    \n",
        "```\n",
        "The general solution uses approximations stack/array to store all the results from the step_function, this is not requiered but is usefull for learning purpeses, for example investigatin intermediate solutions by printing or visualisation and ploting of the solution.\n",
        "\n",
        "In python the library `from scipy` with the package `.optimize` can be used to find an approximation to an extream or a root of a function.\n",
        "In the folowing text i implement different approximisation methods and also provide the appropriate function from `scipy.optimize`"
      ],
      "metadata": {
        "id": "jaam8C1aZ7WY"
      }
    },
    {
      "cell_type": "markdown",
      "source": [
        "### Newton's Method\n",
        "\n",
        "It is given by the interative formula:\n",
        "$$\n",
        "x_{k+1} = x_k - \\frac{f'(x_k)}{f''(x_k)}\n",
        "$$\n",
        "<!-- This form aproximates the minimum of a function f. -->\n",
        "\n",
        "The Newton method for minimizing a function $f(x)$ requires that the first diferncial $f'(x)$ and the second diferencial $f''(x)$ are known and alos $f(x)$, $f'(x)$, $f''(x)$ can be calculated."
      ],
      "metadata": {
        "id": "QCi0ppMlC8CO"
      }
    },
    {
      "cell_type": "markdown",
      "source": [
        "Example:\n",
        "1. Manualy find the minimizer of $f(x) = \\frac{1}{2}x^2 - \\sin(x)$ given the derivatives $f'(x) = x - \\cos(x)$ and $f''(x) = 1 + \\sin(x)$\n",
        "2. Use the `scipy.optimize.newton` to find the minimizer of $f(x) = \\frac{1}{2}x^2 - \\sin(x)$ given the derivatives $f'(x) = x - \\cos(x)$ and $f''(x) = 1 + \\sin(x)\n"
      ],
      "metadata": {
        "id": "JkVPphaoLssm"
      }
    },
    {
      "cell_type": "code",
      "source": [
        "import numpy as np\n",
        "\n",
        "# Example. 1\n",
        "def f_derivat_1(x_in):\n",
        "  return x_in - np.cos(x_in)\n",
        "\n",
        "def f_derivat_2(x_in):\n",
        "  return 1 + np.sin(x_in)\n",
        "\n",
        "x_approximations = []\n",
        "x_approximations.append(0.5)\n",
        "\n",
        "def step_newtons_method_builder(f_dv_1_in, f_dv_2_in):\n",
        "  def step_function(approximations_in):\n",
        "    der1 = f_dv_1_in(approximations_in[-1])\n",
        "    der2 = f_dv_2_in(approximations_in[-1])\n",
        "    return approximations_in[-1] - der1/der2\n",
        "  return step_function\n",
        "\n",
        "def stop_criterion_relative_step(accuracy_in: float):\n",
        "  def stop_function(approximations_in):\n",
        "    if(len(approximations_in)>=2):\n",
        "      step_size = abs((approximations_in[-1]-approximations_in[-2])/approximations_in[-1])\n",
        "      return step_size<accuracy_in\n",
        "    return False\n",
        "  return stop_function\n",
        "\n",
        "def newtons_method(approximations_in, step_function_in, stop_criterion_in):\n",
        "  while(not stop_criterion_in(approximations_in)) :\n",
        "    approx = step_function_in(approximations_in)\n",
        "    approximations_in.append(approx)\n",
        "  return approximations_in\n",
        "step_newtons_method = step_newtons_method_builder(f_derivat_1, f_derivat_2)\n",
        "accuracy = 0.0000001\n",
        "stop_newtons_method = stop_criterion_relative_step(accuracy)\n",
        "\n",
        "x_approximations = newtons_method(x_approximations, step_newtons_method, stop_newtons_method)\n",
        "print(f\"Minimizer calculated manualy X={x_approximations[-1]}\")\n",
        "\n",
        "# Example. 1\n",
        "\n",
        "from scipy.optimize import newton\n",
        "\n",
        "root_newton = newton(f_derivat_1, x0=0.5)\n",
        "print(f\"Minimizer calculated with scipy.optimize.newton X={root_newton}\")\n"
      ],
      "metadata": {
        "colab": {
          "base_uri": "https://localhost:8080/"
        },
        "id": "JQEbIUnOLr5g",
        "outputId": "e1a9e90b-46d9-44ff-f9a6-6aa156ebe94e"
      },
      "execution_count": null,
      "outputs": [
        {
          "output_type": "stream",
          "name": "stdout",
          "text": [
            "Minimizer calculated manualy X=0.7390851332151607\n",
            "Minimizer calculated with scipy.optimize.newton X=0.7390851332151601\n"
          ]
        }
      ]
    },
    {
      "cell_type": "markdown",
      "source": [
        "Since a function $f(x)$ has the extrem at the same point where $f'(x)$ has value 0. The with small modification Newton's method can be also used for finding the root of function $g(x)=f'(x)$.\n",
        "This is the interative formula for finding a root of a function $g(x)$:\n",
        "$$\n",
        "x_{k+1} = x_k - \\frac{g(x_k)}{g'(x_k)}\n",
        "$$\n",
        "\n",
        "Example:\n",
        "1. Manualy find the root of the function $\n",
        "g(x) = x^3 - 12.2x^2 + 7.45x + 42 = 0\n",
        "$ given its derivate $g'(x) = 3x^2 - 24.4x + 7.45$ using the newtens method.\n",
        "\n",
        "2. Use the scipy.optimize.newton to find the root of the function $\n",
        "g(x) = x^3 - 12.2x^2 + 7.45x + 42 = 0\n",
        "$ given its derivate $g'(x) = 3x^2 - 24.4x + 7.45$ using the newtens method.\n",
        "\n",
        "\n"
      ],
      "metadata": {
        "id": "wN6WGUmddITP"
      }
    },
    {
      "cell_type": "code",
      "source": [
        "def g(x):\n",
        "  return x**3 - 12.2*x**2 + 7.45*x + 42\n",
        "def g_derivat(x):\n",
        "  return 3*x**2 - 24.4*x + 7.45\n",
        "\n",
        "# Example 1\n",
        "#  this block uses the previous block functions\n",
        "step_newtons_method = step_newtons_method_builder(g, g_derivat)\n",
        "accuracy = 0.000001\n",
        "stop_newtons_method = stop_criterion_relative_step(accuracy)\n",
        "\n",
        "x_approximations = []\n",
        "x_approximations.append(12)\n",
        "x_approximations = newtons_method(x_approximations, step_newtons_method, stop_newtons_method)\n",
        "print(f\"Root manualy calculated, X={x_approximations[-1]}\")\n",
        "\n",
        "# plot the function and the aproximations\n",
        "import matplotlib.pyplot as plt\n",
        "x_plot = np.linspace(10.50, 12.1, 400)\n",
        "print(x_approximations)\n",
        "plt.scatter([x_approximations[0],x_approximations[1],x_approximations[2]], [0,0,0])\n",
        "plt.plot(x_plot, g(x_plot))\n",
        "plt.plot(x_plot, g_derivat(x_approximations[0])*x_plot + g(x_approximations[0])-g_derivat(x_approximations[0])*x_approximations[0])\n",
        "plt.grid()\n",
        "plt.show()\n",
        "# The root is X=11.200000000000093\n",
        "# [12, 11.300375042618478, 11.201895469742569, 11.200000695476783, 11.200000000000093]\n",
        "\n",
        "# Example 2\n",
        "from scipy.optimize import newton\n",
        "root_newton = newton(g, x0=0.5)\n",
        "print(f\"Root calculated with scipy.optimize.newton, X={root_newton}\")"
      ],
      "metadata": {
        "colab": {
          "base_uri": "https://localhost:8080/",
          "height": 482
        },
        "id": "AnxBELOwgIwE",
        "outputId": "e7fd7ef3-35fb-4fc4-f7f4-e57579c77d5a"
      },
      "execution_count": null,
      "outputs": [
        {
          "output_type": "stream",
          "name": "stdout",
          "text": [
            "Root manualy calculated, X=11.200000000000093\n",
            "[12, 11.300375042618478, 11.201895469742569, 11.200000695476783, 11.200000000000093]\n"
          ]
        },
        {
          "output_type": "display_data",
          "data": {
            "text/plain": [
              "<Figure size 640x480 with 1 Axes>"
            ],
            "image/png": "[encoded data removed]"
          },
          "metadata": {}
        },
        {
          "output_type": "stream",
          "name": "stdout",
          "text": [
            "Root calculated with scipy.optimize.newton, X=11.199999999999998\n"
          ]
        }
      ]
    },
    {
      "cell_type": "markdown",
      "source": [
        "### Secant Method\n",
        "\n",
        "\n",
        "The secant method for minimising the approhmisation of $f(x)$ is based on the same approach as the newtan method for approximisation, with the differeence that the second derivad $f``(x)$ is appximated instead of caculated. As the Newtan method, the secand method can be used for approximating the extream or the root of the function.\n",
        "The algoritham requeres two initial values $x_0$ and $x_1$.\n",
        "\n",
        "* When aproximating local extrem for $f(x)$, the algoritham needs as an input only the diverential $f'(x)$.\n",
        "$$\n",
        "x_{k+1} = x_k - f'(x_k) \\frac{x_k - x_{k-1}}{f'(x_k) - f'(x_{k-1})}\n",
        "$$\n",
        "* When aproximating a root of a function $g(x)$ a diverential of a $g'(x)$ is not needed.\n",
        "\n",
        "$$\n",
        "x_{k+1} = x_k - g(x_k) \\frac{x_k - x_{k-1}}{g(x_k) - g(x_{k-1})}\n",
        "$$\n",
        "\n",
        "In python secand method\n",
        "Excersise:\n",
        "1. Example 7,5 page 107, Find the root of the $g(x)=x**3-12.2*x**2+42=0$\n",
        "\n",
        "2. Example 7,5 page 107, Find the root of the $g(x)=x**3-12.2*x**2+42=0$, using `scipy.optimize.newton`\n"
      ],
      "metadata": {
        "id": "YhHbY7z5rdqx"
      }
    },
    {
      "cell_type": "code",
      "source": [
        "# Secand algoritham Excersise ,Example 7,5 page 107\n",
        "\n",
        "import numpy as np\n",
        "import matplotlib.pyplot as plt\n",
        "from scipy.optimize import newton\n",
        "\n",
        "# Example 1\n",
        "\n",
        "# Find the root of the function\n",
        "def g(x_in:float)->float:\n",
        "  return x_in**3 - 12.2*x_in**2 + 7.45*x_in + 42\n",
        "\n",
        "# Plot\n",
        "x_plot = np.arange(8.8,13,0.1)\n",
        "plt.plot(x_plot,g(x))\n",
        "plt.grid()\n",
        "\n",
        "def secant_method_step_builder(f_in):\n",
        "    def step_function(x_approximations_in):\n",
        "      _a = (f_in(x_approximations_in[-1])*x_approximations_in[-2] - f_in(x_approximations_in[-2])*x_approximations_in[-1])\n",
        "      _b = (f_in(x_approximations_in[-1]) - f_in(x_approximations_in[-2]))\n",
        "      return _a/_b\n",
        "    return step_function\n",
        "\n",
        "\n",
        "def general_aproximator_method(approximations_in, stepfunction_in, stop_criterion_in):\n",
        "  while(not stop_criterion_in(approximations_in)):\n",
        "    approx = stepfunction_in(approximations_in)\n",
        "    approximations_in.append(approx)\n",
        "  return approximations_in\n",
        "\n",
        "def secant_method(approximations_in, function_in, stop_criterion_in):\n",
        "  return general_aproximator_method(approximations_in,\n",
        "                                    secant_method_step_builder(function_in),\n",
        "                                    stop_criterion_in)\n",
        "\n",
        "x_approximations = []\n",
        "x_approximations.append(13)\n",
        "x_approximations.append(12)\n",
        "\n",
        "stop_criterion_secant = stop_criterion_relative_step(1e-12)\n",
        "\n",
        "secant_method(x_approximations, g , stop_criterion_secant)\n",
        "\n",
        "\n",
        "for element in enumerate(x_approximations):\n",
        "    print(f\"Step {element[0]} approximation value {element[1]},\")\n",
        "\n",
        "# Example 2\n",
        "from scipy.optimize import newton\n",
        "# x0 x1 are the two starting values for secant method\n",
        "root_secant = newton(g, x0=13, x1=12)\n",
        "print(\"Root found by scipy.optimize.newton Secant method:\", root_secant)"
      ],
      "metadata": {
        "colab": {
          "base_uri": "https://localhost:8080/",
          "height": 604
        },
        "id": "qTl2V8IunYsH",
        "outputId": "3b4f886a-b5f3-4065-b2d1-aecb50cc0e7e"
      },
      "execution_count": null,
      "outputs": [
        {
          "output_type": "stream",
          "name": "stdout",
          "text": [
            "Step 0 approximation value 13,\n",
            "Step 1 approximation value 12,\n",
            "Step 2 approximation value 11.401574803149607,\n",
            "Step 3 approximation value 11.227209417308144,\n",
            "Step 4 approximation value 11.201027680731215,\n",
            "Step 5 approximation value 11.200005393481776,\n",
            "Step 6 approximation value 11.200000001073377,\n",
            "Step 7 approximation value 11.2,\n",
            "Step 8 approximation value 11.2,\n",
            "Root found by scipy.optimize.newton Secant method: 11.200000000000033\n"
          ]
        },
        {
          "output_type": "display_data",
          "data": {
            "text/plain": [
              "<Figure size 640x480 with 1 Axes>"
            ],
            "image/png": "[encoded data removed]"
          },
          "metadata": {}
        }
      ]
    },
    {
      "cell_type": "markdown",
      "source": [
        "### Gradent method\n",
        "The Gradient method is used to aproximate a extream of a function $f$. Similar to the Newtan method it requres the knolige of the derivat of the function $f$ in the appproximation steps $x^{(0)}, x^{(1)}...$ .\n",
        "\n",
        "\n",
        "* Given $ f(x) = c,  x \\in \\mathbb{R}^n$, and  $ c \\in \\mathbb{R}$.\n",
        "\n",
        "* The gradient of $ f $ at $ x_0 $ is a vector in $ \\mathbb{R}^n $, denoted by $ \\nabla f(x_0) $.\n",
        "\n",
        "* $\\nabla f(x_0)$ points in the direction of the maximum rate of increase of $f(x)$.\n",
        "\n",
        "* $-\\nabla f(x_0)$ points in the direction of the maximum rate of decrease of $f(x)$.\n",
        "\n",
        "\n",
        "For a starting point $x^{(k_0)}$, $x^{(k+1)}$ will be a \"move\" in the direction of the local minimum:\n",
        "\n",
        "$$\n",
        "x^{(k+1)} = x^{(k)} - \\alpha_k \\nabla f(x^{(k)})\n",
        "$$\n",
        "\n",
        "For a starting point $x^{(k_0)}$, $x^{(k+1)}$ will be a \"move\" in the direction of the local maximum:\n",
        "\n",
        "$$\n",
        "x^{(k+1)} = x^{(k)} + \\alpha_k \\nabla f(x^{(k)})\n",
        "$$\n",
        "\n",
        "The scalar $\\alpha_k$ is the $\\textit{step size}$ and is always bigger than 0. There are variations of the algorithm depending on whether $\\alpha$ is re-evaluated depending on the step. Picking a random $\\alpha$ might not result in convergence.\n",
        "\n",
        "Unlike the previous example where approximation was done on a one-dimensional function, the following gradient method algorithm approximates an n-dimensional function. As a result, the steps $x^{(0)}, x^{(1)}, \\ldots$ are n-dimensional dots/vectors. Consequently, the algorithm stops when the distance between $x^{(k)}$ and $x^{(k+1)}$ is smaller than a given accuracy, or when the norm of the vector $\\| x^{(k)} - x^{(k+1)} \\| $ is smaller than a required accuracy.\n",
        "\n",
        "Examples:\n",
        "1.Page 118, Example 8.1 \"An Introduction to Optimization\"\n",
        "Find the minimizer of $f(x_1, x_2, x_3) = (x_1 - 4)^4 + (x_2 - x_3)^2 + 4(x_3 + 5)^4$\n"
      ],
      "metadata": {
        "id": "orLu4hKMiYTU"
      }
    },
    {
      "cell_type": "code",
      "source": [
        "\n",
        "import numpy as np\n",
        "import matplotlib.pyplot as plt\n",
        "\n",
        "# Example 1\n",
        "\n",
        "def f(x_in):\n",
        "    return (x_in[0]-4)**4 + (x_in[1]-3)**2 + 4*(x_in[2]+5)**4\n",
        "\n",
        "def delta_f(x_in):\n",
        "    return np.array([4*(x_in[0]-4)**3, 2*(x_in[1]-3), 16*(x_in[2]+5)**3])\n",
        "\n",
        "def gradient_method_step_builder(delta_f_in, alfa_in):\n",
        "  def step_function(approximations_in):\n",
        "    return approximations_in[-1] - alfa_in*delta_f_in(approximations_in[-1])\n",
        "  return step_function\n",
        "\n",
        "def gradient_method(approximations_in, function_in, stop_criterion_in, alfa_in):\n",
        "  return general_aproximator_method(approximations_in,\n",
        "                                    gradient_method_step_builder(function_in,\n",
        "                                                                 alfa_in),\n",
        "                                    stop_criterion_in)\n",
        "\n",
        "def stop_criteria_relative_multi_dimensional(accuracy_in:float):\n",
        "  def stop_criterion(approximations_in: list):\n",
        "    if len(approximations_in) > 1:\n",
        "      a_ = np.linalg.norm(approximations_in[-1] - approximations_in[-2])\n",
        "      b_ = np.linalg.norm(approximations_in[-2])\n",
        "      return (a_/min(1,b_))<accuracy_in\n",
        "    return False\n",
        "  return stop_criterion\n",
        "\n",
        "alpha = 0.00001\n",
        "x_approximations = []\n",
        "x0 = np.array([4,2,-1])\n",
        "x_approximations.append(x0)\n",
        "accuracy = 0.00001\n",
        "gradient_stop_criterion = stop_criteria_relative_multi_dimensional(accuracy)\n",
        "\n",
        "approximations_gradient = gradient_method(x_approximations,\n",
        "                                               delta_f,\n",
        "                                               gradient_stop_criterion,\n",
        "                                               alpha)\n",
        "\n",
        "\n",
        "# The algorithm is not really efficient as alpha is fixed and conservatively\n",
        "# selected.\n",
        "# The folowing code prints every 1000 approximation\n",
        "for i, element in enumerate(approximations_gradient):\n",
        "    if i % 1000 == 0:\n",
        "        print(f\"    {element},\")\n",
        "#     [ 4  2 -1],\n",
        "#     [ 4.          2.01980152 -3.38401547],\n",
        "#     [ 4.          2.03921095 -3.80739339],\n",
        "#     [ 4.          2.05823603 -4.01138817],\n",
        "#     [ 4.          2.07688439 -4.13717301],\n",
        "#     [ 4.          2.09516349 -4.22461701],\n",
        "# The algorithm achieved accuracy of 1e-05 in 15558 steps\n",
        "print(f\"The algorithm achieved accuracy of {accuracy} in {len(approximations_gradient)} steps\")\n",
        "\n"
      ],
      "metadata": {
        "id": "eEDubGoa4sow",
        "colab": {
          "base_uri": "https://localhost:8080/"
        },
        "outputId": "cd9b8eb2-a089-438b-ffd5-fb698a68b10f"
      },
      "execution_count": null,
      "outputs": [
        {
          "output_type": "stream",
          "name": "stdout",
          "text": [
            "    [ 4  2 -1],\n",
            "    [ 4.          2.01980152 -3.38401547],\n",
            "    [ 4.          2.03921095 -3.80739339],\n",
            "    [ 4.          2.05823603 -4.01138817],\n",
            "    [ 4.          2.07688439 -4.13717301],\n",
            "    [ 4.          2.09516349 -4.22461701],\n",
            "    [ 4.          2.11308063 -4.28992785],\n",
            "    [ 4.          2.13064298 -4.34110152],\n",
            "    [ 4.          2.14785757 -4.3825981 ],\n",
            "    [ 4.          2.16473129 -4.41712757],\n",
            "    [ 4.          2.18127088 -4.44644404],\n",
            "    [ 4.          2.19748297 -4.4717397 ],\n",
            "    [ 4.          2.21337403 -4.49385691],\n",
            "    [ 4.          2.22895042 -4.51341003],\n",
            "    [ 4.          2.24421837 -4.53085906],\n",
            "    [ 4.          2.259184   -4.54655616],\n",
            "    [ 4.          2.27385329 -4.56077616],\n",
            "    [ 4.          2.2882321  -4.57373709],\n",
            "    [ 4.          2.30232619 -4.58561441],\n",
            "    [ 4.          2.31614119 -4.59655115],\n",
            "    [ 4.          2.32968264 -4.60666527],\n",
            "    [ 4.          2.34295594 -4.61605495],\n",
            "    [ 4.          2.35596641 -4.62480276],\n",
            "    [ 4.          2.36871926 -4.63297864],\n",
            "    [ 4.          2.38121958 -4.64064231],\n",
            "    [ 4.          2.39347237 -4.64784512],\n",
            "    [ 4.          2.40548254 -4.65463148],\n",
            "    [ 4.          2.41725489 -4.66104003],\n",
            "    [ 4.          2.42879413 -4.66710458],\n",
            "    [ 4.          2.44010488 -4.67285484],\n",
            "    [ 4.          2.45119166 -4.67831705],\n",
            "    [ 4.          2.4620589  -4.68351448],\n",
            "    [ 4.          2.47271095 -4.68846786],\n",
            "    [ 4.          2.48315208 -4.69319571],\n",
            "    [ 4.          2.49338645 -4.69771464],\n",
            "    [ 4.          2.50341817 -4.7020396 ],\n",
            "    [ 4.          2.51325125 -4.70618407],\n",
            "    [ 4.          2.52288962 -4.71016027],\n",
            "    [ 4.          2.53233713 -4.71397929],\n",
            "The algorithm achieved accuracy of 1e-05 in 38331 steps\n"
          ]
        }
      ]
    },
    {
      "cell_type": "markdown",
      "source": [
        "### Gradint with step adjustment\n",
        "\n",
        "To optimize $\\alpha_k$ when searching for a minimum means finding finding an $\\alpha_k$ so the next $x^{(k+1)} = x^{(k)} - \\alpha_k \\nabla f(x^{(k)})$ will have the smalles value depending on $\\alpha_k$, or in other words if finding the minimum of the one dimensional function:\n",
        "$$argmin(\\alpha_k) = x^{(k)} - \\alpha_k \\nabla f(x^{(k)})$$ where x^${(k)}$ and  $\\nabla f(x^{(k)})$ are already know.\n",
        "\n",
        "The $\\alpha_k$ can be approximated using some of the previoys aproximation methods that can be applied on one dimensional functions.\n",
        "\n",
        "Examples:\n",
        "1. Page 118, Example 8.1 of \"An Introduction to Optimization\": Find the minimizer of $f(x_1, x_2, x_3) = (x_1 - 4)^4 + (x_2 - x_3)^2 + 4(x_3 + 5)^4$ where the step $\\alpha_k$ is adjusted using the secant_method method.\n",
        "\n",
        "1. Page 118, Example 8.1 of \"An Introduction to Optimization\": Find the minimizer of $f(x_1, x_2, x_3) = (x_1 - 4)^4 + (x_2 - x_3)^2 + 4(x_3 + 5)^4$ where the step $\\alpha_k$ is adjusted using the secant_method method."
      ],
      "metadata": {
        "id": "HWr3y3z7t3i4"
      }
    },
    {
      "cell_type": "code",
      "source": [
        "# Gradint with step adjustment alpha\n",
        "\n",
        "import numpy as np\n",
        "import matplotlib.pyplot as plt\n",
        "\n",
        "def derivative_of(function_in):\n",
        "  def numerical_derivative(x_in):\n",
        "    delta = 1e-10\n",
        "    return (function_in(x_in + delta) - function_in(x_in - delta)) / (2 * delta)\n",
        "  return numerical_derivative\n",
        "\n",
        "def alfa_arg_min(function_in, delta_function_in):\n",
        "  def arg_min_from_approximation(approximations_in):\n",
        "    def arg_alfa_min(alfa_in: float):\n",
        "      approx = approximations_in[-1]\n",
        "      delta_x = delta_function_in(approx)\n",
        "      alfa_delta = alfa_in*delta_x\n",
        "      return function_in(approx - alfa_delta)\n",
        "    return arg_alfa_min\n",
        "  return arg_min_from_approximation\n",
        "\n",
        "def gradient_method_(approximations_in,\n",
        "                    delta_f_in,\n",
        "                    stop_criterion_in,\n",
        "                    secant_method_in,\n",
        "                    arg_min_from_approximation_in,\n",
        "                    secant_method_approximations_in,\n",
        "                    secant_criterion_in):\n",
        "\n",
        "  def approximate_alfa(approx_in):\n",
        "    arg_alfa_min_function = arg_min_from_approximation_in(approx_in)\n",
        "    derivat_arg_alfa_min_function = derivative_of(arg_alfa_min_function)\n",
        "    # alfa_approx = secant_method_approximations_in.copy()\n",
        "    alfa_approx = [0.01, 0.08]\n",
        "    alfa_approximations = secant_method_in(\n",
        "        alfa_approx,\n",
        "        derivat_arg_alfa_min_function,\n",
        "        secant_criterion_in)\n",
        "    return alfa_approximations\n",
        "\n",
        "  def gradient_method_step_builder_flexible(delta_f_in):\n",
        "    def step_function(approx_in):\n",
        "      print(\"approx_in\",approx_in[-1])\n",
        "      alfa_approximations = approximate_alfa(approx_in)\n",
        "      print(\"alfa_approximations\",alfa_approximations[-1])\n",
        "      gradient_method_step_ = gradient_method_step_builder(delta_f_in, alfa_approximations[-1])\n",
        "      approx = gradient_method_step_(approx_in)\n",
        "      # print(\"approx_in\",approx,\" \",approx_in[-1])\n",
        "      return approx\n",
        "    return step_function\n",
        "\n",
        "  return general_aproximator_method(approximations_in,\n",
        "                                    gradient_method_step_builder_flexible(delta_f_in),\n",
        "                                    stop_criterion_in)\n",
        "\n",
        "\n",
        "def f(x_in):\n",
        "    # print(\"f(x)\",x_in)\n",
        "    return (x_in[0]-4)**4 + (x_in[1]-3)**2 + 4*(x_in[2]+5)**4\n",
        "\n",
        "def delta_f(x_in):\n",
        "    return np.array([4*(x_in[0]-4)**3, 2*(x_in[1]-3), 16*(x_in[2]+5)**3])\n",
        "\n",
        "# define stop conditions\n",
        "accuracy = 0.0001\n",
        "gradient_stop_criterion = stop_criteria_relative_multi_dimensional(accuracy)\n",
        "# #  [ 4.          2.95022787 -4.85578032],\n",
        "x0 = np.array([4,2,-1])\n",
        "x_approximations = []\n",
        "x_approximations.append(x0)\n",
        "\n",
        "secant_method_approximations =  [0.01, 0.08]\n",
        "x_approximations = gradient_method_(x_approximations,\n",
        "                                    delta_f,\n",
        "                                    gradient_stop_criterion,\n",
        "                                    secant_method,\n",
        "                                    alfa_arg_min(f, delta_f),\n",
        "                                    secant_method_approximations,\n",
        "                                    stop_criterion_relative_step(0.0001))\n",
        "\n",
        "print(f\"Solution = {x_approximations[-1]} \")\n",
        "print(f\"The algorithm achieved accuracy of {accuracy} in {len(x_approximations)} steps\")\n"
      ],
      "metadata": {
        "colab": {
          "base_uri": "https://localhost:8080/",
          "height": 582
        },
        "id": "tnDxAZB70-ix",
        "outputId": "6f3cade4-6f93-416a-efa5-b78f793c0d2f"
      },
      "execution_count": null,
      "outputs": [
        {
          "output_type": "stream",
          "name": "stdout",
          "text": [
            "approx_in [ 4  2 -1]\n",
            "alfa_approximations 0.00992867745650188\n",
            "approx_in [  4.           2.01985735 -11.16696572]\n",
            "alfa_approximations 0.009832443135107654\n",
            "approx_in [ 4.          2.03913175 25.73045669]\n",
            "alfa_approximations 0.00036961146611822344\n",
            "approx_in [   4.            2.03984204 -145.89134679]\n",
            "alfa_approximations 0.0003084337474258247\n",
            "approx_in [4.00000000e+00 2.04043433e+00 1.36558802e+04]\n",
            "alfa_approximations 0.0003053781824897824\n",
            "approx_in [ 4.00000000e+00  2.04102040e+00 -1.24564292e+10]\n",
            "alfa_approximations 0.00030537784582160597\n",
            "approx_in [4.00000000e+00 2.04160610e+00 9.44361333e+27]\n"
          ]
        },
        {
          "output_type": "error",
          "ename": "KeyboardInterrupt",
          "evalue": "",
          "traceback": [
            "\u001b[0;31m---------------------------------------------------------------------------\u001b[0m",
            "\u001b[0;31mKeyboardInterrupt\u001b[0m                         Traceback (most recent call last)",
            "\u001b[0;32m<ipython-input-101-d7b97166583c>\u001b[0m in \u001b[0;36m<cell line: 73>\u001b[0;34m()\u001b[0m\n\u001b[1;32m     71\u001b[0m \u001b[0;34m\u001b[0m\u001b[0m\n\u001b[1;32m     72\u001b[0m \u001b[0msecant_method_approximations\u001b[0m \u001b[0;34m=\u001b[0m  \u001b[0;34m[\u001b[0m\u001b[0;36m0.01\u001b[0m\u001b[0;34m,\u001b[0m \u001b[0;36m0.08\u001b[0m\u001b[0;34m]\u001b[0m\u001b[0;34m\u001b[0m\u001b[0;34m\u001b[0m\u001b[0m\n\u001b[0;32m---> 73\u001b[0;31m x_approximations = gradient_method_(x_approximations,\n\u001b[0m\u001b[1;32m     74\u001b[0m                                     \u001b[0mdelta_f\u001b[0m\u001b[0;34m,\u001b[0m\u001b[0;34m\u001b[0m\u001b[0;34m\u001b[0m\u001b[0m\n\u001b[1;32m     75\u001b[0m                                     \u001b[0mgradient_stop_criterion\u001b[0m\u001b[0;34m,\u001b[0m\u001b[0;34m\u001b[0m\u001b[0;34m\u001b[0m\u001b[0m\n",
            "\u001b[0;32m<ipython-input-101-d7b97166583c>\u001b[0m in \u001b[0;36mgradient_method_\u001b[0;34m(approximations_in, delta_f_in, stop_criterion_in, secant_method_in, arg_min_from_approximation_in, secant_method_approximations_in, secant_criterion_in)\u001b[0m\n\u001b[1;32m     50\u001b[0m     \u001b[0;32mreturn\u001b[0m \u001b[0mstep_function\u001b[0m\u001b[0;34m\u001b[0m\u001b[0;34m\u001b[0m\u001b[0m\n\u001b[1;32m     51\u001b[0m \u001b[0;34m\u001b[0m\u001b[0m\n\u001b[0;32m---> 52\u001b[0;31m   return general_aproximator_method(approximations_in,\n\u001b[0m\u001b[1;32m     53\u001b[0m                                     \u001b[0mgradient_method_step_builder_flexible\u001b[0m\u001b[0;34m(\u001b[0m\u001b[0mdelta_f_in\u001b[0m\u001b[0;34m)\u001b[0m\u001b[0;34m,\u001b[0m\u001b[0;34m\u001b[0m\u001b[0;34m\u001b[0m\u001b[0m\n\u001b[1;32m     54\u001b[0m                                     stop_criterion_in)\n",
            "\u001b[0;32m<ipython-input-99-6c994010c386>\u001b[0m in \u001b[0;36mgeneral_aproximator_method\u001b[0;34m(approximations_in, stepfunction_in, stop_criterion_in)\u001b[0m\n\u001b[1;32m     29\u001b[0m \u001b[0;32mdef\u001b[0m \u001b[0mgeneral_aproximator_method\u001b[0m\u001b[0;34m(\u001b[0m\u001b[0mapproximations_in\u001b[0m\u001b[0;34m,\u001b[0m \u001b[0mstepfunction_in\u001b[0m\u001b[0;34m,\u001b[0m \u001b[0mstop_criterion_in\u001b[0m\u001b[0;34m)\u001b[0m\u001b[0;34m:\u001b[0m\u001b[0;34m\u001b[0m\u001b[0;34m\u001b[0m\u001b[0m\n\u001b[1;32m     30\u001b[0m   \u001b[0;32mwhile\u001b[0m\u001b[0;34m(\u001b[0m\u001b[0;32mnot\u001b[0m \u001b[0mstop_criterion_in\u001b[0m\u001b[0;34m(\u001b[0m\u001b[0mapproximations_in\u001b[0m\u001b[0;34m)\u001b[0m\u001b[0;34m)\u001b[0m\u001b[0;34m:\u001b[0m\u001b[0;34m\u001b[0m\u001b[0;34m\u001b[0m\u001b[0m\n\u001b[0;32m---> 31\u001b[0;31m     \u001b[0mapprox\u001b[0m \u001b[0;34m=\u001b[0m \u001b[0mstepfunction_in\u001b[0m\u001b[0;34m(\u001b[0m\u001b[0mapproximations_in\u001b[0m\u001b[0;34m)\u001b[0m\u001b[0;34m\u001b[0m\u001b[0;34m\u001b[0m\u001b[0m\n\u001b[0m\u001b[1;32m     32\u001b[0m     \u001b[0mapproximations_in\u001b[0m\u001b[0;34m.\u001b[0m\u001b[0mappend\u001b[0m\u001b[0;34m(\u001b[0m\u001b[0mapprox\u001b[0m\u001b[0;34m)\u001b[0m\u001b[0;34m\u001b[0m\u001b[0;34m\u001b[0m\u001b[0m\n\u001b[1;32m     33\u001b[0m   \u001b[0;32mreturn\u001b[0m \u001b[0mapproximations_in\u001b[0m\u001b[0;34m\u001b[0m\u001b[0;34m\u001b[0m\u001b[0m\n",
            "\u001b[0;32m<ipython-input-101-d7b97166583c>\u001b[0m in \u001b[0;36mstep_function\u001b[0;34m(approx_in)\u001b[0m\n\u001b[1;32m     42\u001b[0m     \u001b[0;32mdef\u001b[0m \u001b[0mstep_function\u001b[0m\u001b[0;34m(\u001b[0m\u001b[0mapprox_in\u001b[0m\u001b[0;34m)\u001b[0m\u001b[0;34m:\u001b[0m\u001b[0;34m\u001b[0m\u001b[0;34m\u001b[0m\u001b[0m\n\u001b[1;32m     43\u001b[0m       \u001b[0mprint\u001b[0m\u001b[0;34m(\u001b[0m\u001b[0;34m\"approx_in\"\u001b[0m\u001b[0;34m,\u001b[0m\u001b[0mapprox_in\u001b[0m\u001b[0;34m[\u001b[0m\u001b[0;34m-\u001b[0m\u001b[0;36m1\u001b[0m\u001b[0;34m]\u001b[0m\u001b[0;34m)\u001b[0m\u001b[0;34m\u001b[0m\u001b[0;34m\u001b[0m\u001b[0m\n\u001b[0;32m---> 44\u001b[0;31m       \u001b[0malfa_approximations\u001b[0m \u001b[0;34m=\u001b[0m \u001b[0mapproximate_alfa\u001b[0m\u001b[0;34m(\u001b[0m\u001b[0mapprox_in\u001b[0m\u001b[0;34m)\u001b[0m\u001b[0;34m\u001b[0m\u001b[0;34m\u001b[0m\u001b[0m\n\u001b[0m\u001b[1;32m     45\u001b[0m       \u001b[0mprint\u001b[0m\u001b[0;34m(\u001b[0m\u001b[0;34m\"alfa_approximations\"\u001b[0m\u001b[0;34m,\u001b[0m\u001b[0malfa_approximations\u001b[0m\u001b[0;34m[\u001b[0m\u001b[0;34m-\u001b[0m\u001b[0;36m1\u001b[0m\u001b[0;34m]\u001b[0m\u001b[0;34m)\u001b[0m\u001b[0;34m\u001b[0m\u001b[0;34m\u001b[0m\u001b[0m\n\u001b[1;32m     46\u001b[0m       \u001b[0mgradient_method_step_\u001b[0m \u001b[0;34m=\u001b[0m \u001b[0mgradient_method_step_builder\u001b[0m\u001b[0;34m(\u001b[0m\u001b[0mdelta_f_in\u001b[0m\u001b[0;34m,\u001b[0m \u001b[0malfa_approximations\u001b[0m\u001b[0;34m[\u001b[0m\u001b[0;34m-\u001b[0m\u001b[0;36m1\u001b[0m\u001b[0;34m]\u001b[0m\u001b[0;34m)\u001b[0m\u001b[0;34m\u001b[0m\u001b[0;34m\u001b[0m\u001b[0m\n",
            "\u001b[0;32m<ipython-input-101-d7b97166583c>\u001b[0m in \u001b[0;36mapproximate_alfa\u001b[0;34m(approx_in)\u001b[0m\n\u001b[1;32m     33\u001b[0m     \u001b[0;31m# alfa_approx = secant_method_approximations_in.copy()\u001b[0m\u001b[0;34m\u001b[0m\u001b[0;34m\u001b[0m\u001b[0m\n\u001b[1;32m     34\u001b[0m     \u001b[0malfa_approx\u001b[0m \u001b[0;34m=\u001b[0m \u001b[0;34m[\u001b[0m\u001b[0;36m0.01\u001b[0m\u001b[0;34m,\u001b[0m \u001b[0;36m0.08\u001b[0m\u001b[0;34m]\u001b[0m\u001b[0;34m\u001b[0m\u001b[0;34m\u001b[0m\u001b[0m\n\u001b[0;32m---> 35\u001b[0;31m     alfa_approximations = secant_method_in(\n\u001b[0m\u001b[1;32m     36\u001b[0m         \u001b[0malfa_approx\u001b[0m\u001b[0;34m,\u001b[0m\u001b[0;34m\u001b[0m\u001b[0;34m\u001b[0m\u001b[0m\n\u001b[1;32m     37\u001b[0m         \u001b[0mderivat_arg_alfa_min_function\u001b[0m\u001b[0;34m,\u001b[0m\u001b[0;34m\u001b[0m\u001b[0;34m\u001b[0m\u001b[0m\n",
            "\u001b[0;32m<ipython-input-99-6c994010c386>\u001b[0m in \u001b[0;36msecant_method\u001b[0;34m(approximations_in, function_in, stop_criterion_in)\u001b[0m\n\u001b[1;32m     34\u001b[0m \u001b[0;34m\u001b[0m\u001b[0m\n\u001b[1;32m     35\u001b[0m \u001b[0;32mdef\u001b[0m \u001b[0msecant_method\u001b[0m\u001b[0;34m(\u001b[0m\u001b[0mapproximations_in\u001b[0m\u001b[0;34m,\u001b[0m \u001b[0mfunction_in\u001b[0m\u001b[0;34m,\u001b[0m \u001b[0mstop_criterion_in\u001b[0m\u001b[0;34m)\u001b[0m\u001b[0;34m:\u001b[0m\u001b[0;34m\u001b[0m\u001b[0;34m\u001b[0m\u001b[0m\n\u001b[0;32m---> 36\u001b[0;31m   return general_aproximator_method(approximations_in,\n\u001b[0m\u001b[1;32m     37\u001b[0m                                     \u001b[0msecant_method_step_builder\u001b[0m\u001b[0;34m(\u001b[0m\u001b[0mfunction_in\u001b[0m\u001b[0;34m)\u001b[0m\u001b[0;34m,\u001b[0m\u001b[0;34m\u001b[0m\u001b[0;34m\u001b[0m\u001b[0m\n\u001b[1;32m     38\u001b[0m                                     stop_criterion_in)\n",
            "\u001b[0;32m<ipython-input-99-6c994010c386>\u001b[0m in \u001b[0;36mgeneral_aproximator_method\u001b[0;34m(approximations_in, stepfunction_in, stop_criterion_in)\u001b[0m\n\u001b[1;32m     29\u001b[0m \u001b[0;32mdef\u001b[0m \u001b[0mgeneral_aproximator_method\u001b[0m\u001b[0;34m(\u001b[0m\u001b[0mapproximations_in\u001b[0m\u001b[0;34m,\u001b[0m \u001b[0mstepfunction_in\u001b[0m\u001b[0;34m,\u001b[0m \u001b[0mstop_criterion_in\u001b[0m\u001b[0;34m)\u001b[0m\u001b[0;34m:\u001b[0m\u001b[0;34m\u001b[0m\u001b[0;34m\u001b[0m\u001b[0m\n\u001b[1;32m     30\u001b[0m   \u001b[0;32mwhile\u001b[0m\u001b[0;34m(\u001b[0m\u001b[0;32mnot\u001b[0m \u001b[0mstop_criterion_in\u001b[0m\u001b[0;34m(\u001b[0m\u001b[0mapproximations_in\u001b[0m\u001b[0;34m)\u001b[0m\u001b[0;34m)\u001b[0m\u001b[0;34m:\u001b[0m\u001b[0;34m\u001b[0m\u001b[0;34m\u001b[0m\u001b[0m\n\u001b[0;32m---> 31\u001b[0;31m     \u001b[0mapprox\u001b[0m \u001b[0;34m=\u001b[0m \u001b[0mstepfunction_in\u001b[0m\u001b[0;34m(\u001b[0m\u001b[0mapproximations_in\u001b[0m\u001b[0;34m)\u001b[0m\u001b[0;34m\u001b[0m\u001b[0;34m\u001b[0m\u001b[0m\n\u001b[0m\u001b[1;32m     32\u001b[0m     \u001b[0mapproximations_in\u001b[0m\u001b[0;34m.\u001b[0m\u001b[0mappend\u001b[0m\u001b[0;34m(\u001b[0m\u001b[0mapprox\u001b[0m\u001b[0;34m)\u001b[0m\u001b[0;34m\u001b[0m\u001b[0;34m\u001b[0m\u001b[0m\n\u001b[1;32m     33\u001b[0m   \u001b[0;32mreturn\u001b[0m \u001b[0mapproximations_in\u001b[0m\u001b[0;34m\u001b[0m\u001b[0;34m\u001b[0m\u001b[0m\n",
            "\u001b[0;32m<ipython-input-99-6c994010c386>\u001b[0m in \u001b[0;36mstep_function\u001b[0;34m(x_approximations_in)\u001b[0m\n\u001b[1;32m     20\u001b[0m       \u001b[0;31m# print(\"x_approximations_in[-1]=\",x_approximations_in[-1], \"x_approximations_in[-2]=\",x_approximations_in[-2])\u001b[0m\u001b[0;34m\u001b[0m\u001b[0;34m\u001b[0m\u001b[0m\n\u001b[1;32m     21\u001b[0m       \u001b[0m_a\u001b[0m \u001b[0;34m=\u001b[0m \u001b[0;34m(\u001b[0m\u001b[0mf_in\u001b[0m\u001b[0;34m(\u001b[0m\u001b[0mx_approximations_in\u001b[0m\u001b[0;34m[\u001b[0m\u001b[0;34m-\u001b[0m\u001b[0;36m1\u001b[0m\u001b[0;34m]\u001b[0m\u001b[0;34m)\u001b[0m\u001b[0;34m*\u001b[0m\u001b[0mx_approximations_in\u001b[0m\u001b[0;34m[\u001b[0m\u001b[0;34m-\u001b[0m\u001b[0;36m2\u001b[0m\u001b[0;34m]\u001b[0m \u001b[0;34m-\u001b[0m \u001b[0mf_in\u001b[0m\u001b[0;34m(\u001b[0m\u001b[0mx_approximations_in\u001b[0m\u001b[0;34m[\u001b[0m\u001b[0;34m-\u001b[0m\u001b[0;36m2\u001b[0m\u001b[0;34m]\u001b[0m\u001b[0;34m)\u001b[0m\u001b[0;34m*\u001b[0m\u001b[0mx_approximations_in\u001b[0m\u001b[0;34m[\u001b[0m\u001b[0;34m-\u001b[0m\u001b[0;36m1\u001b[0m\u001b[0;34m]\u001b[0m\u001b[0;34m)\u001b[0m\u001b[0;34m\u001b[0m\u001b[0;34m\u001b[0m\u001b[0m\n\u001b[0;32m---> 22\u001b[0;31m       \u001b[0m_b\u001b[0m \u001b[0;34m=\u001b[0m \u001b[0;34m(\u001b[0m\u001b[0mf_in\u001b[0m\u001b[0;34m(\u001b[0m\u001b[0mx_approximations_in\u001b[0m\u001b[0;34m[\u001b[0m\u001b[0;34m-\u001b[0m\u001b[0;36m1\u001b[0m\u001b[0;34m]\u001b[0m\u001b[0;34m)\u001b[0m \u001b[0;34m-\u001b[0m \u001b[0mf_in\u001b[0m\u001b[0;34m(\u001b[0m\u001b[0mx_approximations_in\u001b[0m\u001b[0;34m[\u001b[0m\u001b[0;34m-\u001b[0m\u001b[0;36m2\u001b[0m\u001b[0;34m]\u001b[0m\u001b[0;34m)\u001b[0m\u001b[0;34m)\u001b[0m\u001b[0;34m\u001b[0m\u001b[0;34m\u001b[0m\u001b[0m\n\u001b[0m\u001b[1;32m     23\u001b[0m       \u001b[0;31m# print(\"f(apx1) \",f_in(x_approximations_in[-1]), \"f(apx2)\",f_in(x_approximations_in[-1]))\u001b[0m\u001b[0;34m\u001b[0m\u001b[0;34m\u001b[0m\u001b[0m\n\u001b[1;32m     24\u001b[0m       \u001b[0;31m# print(\"_a \",_a, \"_b\",_b)\u001b[0m\u001b[0;34m\u001b[0m\u001b[0;34m\u001b[0m\u001b[0m\n",
            "\u001b[0;32m<ipython-input-101-d7b97166583c>\u001b[0m in \u001b[0;36mnumerical_derivative\u001b[0;34m(x_in)\u001b[0m\n\u001b[1;32m      7\u001b[0m   \u001b[0;32mdef\u001b[0m \u001b[0mnumerical_derivative\u001b[0m\u001b[0;34m(\u001b[0m\u001b[0mx_in\u001b[0m\u001b[0;34m)\u001b[0m\u001b[0;34m:\u001b[0m\u001b[0;34m\u001b[0m\u001b[0;34m\u001b[0m\u001b[0m\n\u001b[1;32m      8\u001b[0m     \u001b[0mdelta\u001b[0m \u001b[0;34m=\u001b[0m \u001b[0;36m1e-10\u001b[0m\u001b[0;34m\u001b[0m\u001b[0;34m\u001b[0m\u001b[0m\n\u001b[0;32m----> 9\u001b[0;31m     \u001b[0;32mreturn\u001b[0m \u001b[0;34m(\u001b[0m\u001b[0mfunction_in\u001b[0m\u001b[0;34m(\u001b[0m\u001b[0mx_in\u001b[0m \u001b[0;34m+\u001b[0m \u001b[0mdelta\u001b[0m\u001b[0;34m)\u001b[0m \u001b[0;34m-\u001b[0m \u001b[0mfunction_in\u001b[0m\u001b[0;34m(\u001b[0m\u001b[0mx_in\u001b[0m \u001b[0;34m-\u001b[0m \u001b[0mdelta\u001b[0m\u001b[0;34m)\u001b[0m\u001b[0;34m)\u001b[0m \u001b[0;34m/\u001b[0m \u001b[0;34m(\u001b[0m\u001b[0;36m2\u001b[0m \u001b[0;34m*\u001b[0m \u001b[0mdelta\u001b[0m\u001b[0;34m)\u001b[0m\u001b[0;34m\u001b[0m\u001b[0;34m\u001b[0m\u001b[0m\n\u001b[0m\u001b[1;32m     10\u001b[0m   \u001b[0;32mreturn\u001b[0m \u001b[0mnumerical_derivative\u001b[0m\u001b[0;34m\u001b[0m\u001b[0;34m\u001b[0m\u001b[0m\n\u001b[1;32m     11\u001b[0m \u001b[0;34m\u001b[0m\u001b[0m\n",
            "\u001b[0;32m<ipython-input-101-d7b97166583c>\u001b[0m in \u001b[0;36marg_alfa_min\u001b[0;34m(alfa_in)\u001b[0m\n\u001b[1;32m     16\u001b[0m       \u001b[0mdelta_x\u001b[0m \u001b[0;34m=\u001b[0m \u001b[0mdelta_function_in\u001b[0m\u001b[0;34m(\u001b[0m\u001b[0mapprox\u001b[0m\u001b[0;34m)\u001b[0m\u001b[0;34m\u001b[0m\u001b[0;34m\u001b[0m\u001b[0m\n\u001b[1;32m     17\u001b[0m       \u001b[0malfa_delta\u001b[0m \u001b[0;34m=\u001b[0m \u001b[0malfa_in\u001b[0m\u001b[0;34m*\u001b[0m\u001b[0mdelta_x\u001b[0m\u001b[0;34m\u001b[0m\u001b[0;34m\u001b[0m\u001b[0m\n\u001b[0;32m---> 18\u001b[0;31m       \u001b[0;32mreturn\u001b[0m \u001b[0mfunction_in\u001b[0m\u001b[0;34m(\u001b[0m\u001b[0mapprox\u001b[0m \u001b[0;34m-\u001b[0m \u001b[0malfa_delta\u001b[0m\u001b[0;34m)\u001b[0m\u001b[0;34m\u001b[0m\u001b[0;34m\u001b[0m\u001b[0m\n\u001b[0m\u001b[1;32m     19\u001b[0m     \u001b[0;32mreturn\u001b[0m \u001b[0marg_alfa_min\u001b[0m\u001b[0;34m\u001b[0m\u001b[0;34m\u001b[0m\u001b[0m\n\u001b[1;32m     20\u001b[0m   \u001b[0;32mreturn\u001b[0m \u001b[0marg_min_from_approximation\u001b[0m\u001b[0;34m\u001b[0m\u001b[0;34m\u001b[0m\u001b[0m\n",
            "\u001b[0;32m<ipython-input-101-d7b97166583c>\u001b[0m in \u001b[0;36mf\u001b[0;34m(x_in)\u001b[0m\n\u001b[1;32m     55\u001b[0m \u001b[0;34m\u001b[0m\u001b[0m\n\u001b[1;32m     56\u001b[0m \u001b[0;34m\u001b[0m\u001b[0m\n\u001b[0;32m---> 57\u001b[0;31m \u001b[0;32mdef\u001b[0m \u001b[0mf\u001b[0m\u001b[0;34m(\u001b[0m\u001b[0mx_in\u001b[0m\u001b[0;34m)\u001b[0m\u001b[0;34m:\u001b[0m\u001b[0;34m\u001b[0m\u001b[0;34m\u001b[0m\u001b[0m\n\u001b[0m\u001b[1;32m     58\u001b[0m     \u001b[0;31m# print(\"f(x)\",x_in)\u001b[0m\u001b[0;34m\u001b[0m\u001b[0;34m\u001b[0m\u001b[0m\n\u001b[1;32m     59\u001b[0m     \u001b[0;32mreturn\u001b[0m \u001b[0;34m(\u001b[0m\u001b[0mx_in\u001b[0m\u001b[0;34m[\u001b[0m\u001b[0;36m0\u001b[0m\u001b[0;34m]\u001b[0m\u001b[0;34m-\u001b[0m\u001b[0;36m4\u001b[0m\u001b[0;34m)\u001b[0m\u001b[0;34m**\u001b[0m\u001b[0;36m4\u001b[0m \u001b[0;34m+\u001b[0m \u001b[0;34m(\u001b[0m\u001b[0mx_in\u001b[0m\u001b[0;34m[\u001b[0m\u001b[0;36m1\u001b[0m\u001b[0;34m]\u001b[0m\u001b[0;34m-\u001b[0m\u001b[0;36m3\u001b[0m\u001b[0;34m)\u001b[0m\u001b[0;34m**\u001b[0m\u001b[0;36m2\u001b[0m \u001b[0;34m+\u001b[0m \u001b[0;36m4\u001b[0m\u001b[0;34m*\u001b[0m\u001b[0;34m(\u001b[0m\u001b[0mx_in\u001b[0m\u001b[0;34m[\u001b[0m\u001b[0;36m2\u001b[0m\u001b[0;34m]\u001b[0m\u001b[0;34m+\u001b[0m\u001b[0;36m5\u001b[0m\u001b[0;34m)\u001b[0m\u001b[0;34m**\u001b[0m\u001b[0;36m4\u001b[0m\u001b[0;34m\u001b[0m\u001b[0;34m\u001b[0m\u001b[0m\n",
            "\u001b[0;31mKeyboardInterrupt\u001b[0m: "
          ]
        }
      ]
    },
    {
      "cell_type": "code",
      "source": [
        "# Gradint with step adjustment alpha\n",
        "\n",
        "import numpy as np\n",
        "import matplotlib.pyplot as plt\n",
        "\n",
        "np.set_printoptions(precision=40)\n",
        "\n",
        "# returns a function, F'(x) that numericly calculates the derivat of F(x) for x\n",
        "def derivative_of(function_in):\n",
        "  def numerical_derivative(x_in):\n",
        "    # print(\"x_in\",x_in)\n",
        "    delta = 1e-8\n",
        "    return (function_in(x_in + delta) - function_in(x_in - delta)) / (2 * delta)\n",
        "  return numerical_derivative\n",
        "\n",
        "def alfa_arg_min(function_in, delta_function_in, x_in):\n",
        "  def arg_min(alfa_in: float):\n",
        "    delta_x = delta_function_in(x_in)\n",
        "    alfa_delta = alfa_in*delta_x\n",
        "    return function_in(x_in-alfa_delta)\n",
        "  return arg_min\n",
        "\n",
        "\n",
        "def f_z(x_in) -> float:\n",
        "    return (x_in[0]-4)**4 + (x_in[1]-3)**2 + 4*(x_in[2]+5)**4\n",
        "\n",
        "def delta_f_z(x_in):\n",
        "    return np.array([4*(x_in[0]-4)**3, 2*(x_in[1]-3), 16*(x_in[2]+5)**3])\n",
        "\n",
        "# def stop_criterion_alfa(approximations_in):\n",
        "#   e = 0.00001\n",
        "#   if len(approximations_in) > 1:\n",
        "#     norm_diff = np.linalg.norm(np.array(approximations_in[-1]) - np.array(approximations_in[-2]))\n",
        "#     return norm_diff < e\n",
        "#   return False\n",
        "\n",
        "# def stop_criterion_gradient_method(approximations_in):\n",
        "#   e = 0.00001\n",
        "#   if len(approximations_in) > 1:\n",
        "#     norm_diff = np.linalg.norm(np.array(approximations_in[-1]) - np.array(approximations_in[-2]))\n",
        "#     return norm_diff < e\n",
        "#   return False\n",
        "\n",
        "\n",
        "x0 = np.array([4, 2, -1])\n",
        "x_approximations.append(x0)\n",
        "\n",
        "\n",
        "# def secant_method(approximations_in, stepfunction_in, stop_criterion_in):\n",
        "#   while(not stop_criterion_in(approximations_in)):\n",
        "#     approx = stepfunction_in(approximations_in)\n",
        "#     approximations_in.append(approx)\n",
        "#   return approximations_in\n",
        "\n",
        "\n",
        "def gradient_method_with_alpha_adjustment(f_in, delta_f_in ,approximations_in, stop_criterion_in, stop_criterion_alfa_in):\n",
        "  while(not stop_criterion_in(approximations_in)):\n",
        "    arg_min_function = alfa_arg_min(f_in, delta_f_in , approximations_in[-1])\n",
        "    derivat_alfa_function = derivative_of(arg_min_function)\n",
        "    alfa_approximations = []\n",
        "    alfa_approximations.append(0.01)\n",
        "    alfa_approximations.append(0.08)\n",
        "    print(\"beforeSecantMEtohd\")\n",
        "    print(\"approximations_in[-1]=\",approximations_in[-1])\n",
        "    print(\"derivat_alfa_function(0.08)=\",derivat_alfa_function(0.08))\n",
        "    secant_method(alfa_approximations, derivat_alfa_function, stop_criterion_alfa_in)\n",
        "    print(\"afterSecantMEtohd\")\n",
        "    alpha = alfa_approximations[-1]\n",
        "    print(\"alpha \",alpha)\n",
        "    gradient_step_function = gradient_method_step_builder(delta_f, alpha)\n",
        "    approx = gradient_step_function(approximations_in)\n",
        "    approximations_in.append(approx)\n",
        "  return approximations_in\n",
        "\n",
        "adjustment = gradient_method_with_alpha_adjustment(f_z,\n",
        "                                                   delta_f_z,\n",
        "                                                   x_approximations,\n",
        "                                                   stop_criteria_relative_multi_dimensional(0.00001),\n",
        "                                                   stop_criterion_relative_step(0.000001))\n",
        "\n",
        "print(f\"Solution = {adjustment[-1]} \")\n",
        "print(f\"The algorithm achieved accuracy of {accuracy} in {len(adjustment)} steps\")"
      ],
      "metadata": {
        "id": "rnGGDYzQBvi2",
        "colab": {
          "base_uri": "https://localhost:8080/",
          "height": 790
        },
        "outputId": "ec44a60f-3093-4add-81a3-cc929ef14283"
      },
      "execution_count": null,
      "outputs": [
        {
          "output_type": "stream",
          "name": "stdout",
          "text": [
            "beforeSecantMEtohd\n",
            "approximations_in[-1]= [ 4  2 -1]\n",
            "derivat_alfa_function(0.08)= 7751161228.120327\n",
            "afterSecantMEtohd\n",
            "alpha  0.003967158783889475\n",
            "beforeSecantMEtohd\n",
            "approximations_in[-1]= [ 4.                 2.007934317567779 -5.062370594702823]\n",
            "derivat_alfa_function(0.08)= -3.306907769839995\n",
            "afterSecantMEtohd\n",
            "alpha  0.5000017408397385\n",
            "beforeSecantMEtohd\n",
            "approximations_in[-1]= [ 4.                  3.0000034540547262 -5.060429569590169 ]\n",
            "derivat_alfa_function(0.08)= -1.2292220057585554e-05\n",
            "afterSecantMEtohd\n",
            "alpha  16.26935762878237\n",
            "beforeSecantMEtohd\n",
            "approximations_in[-1]= [ 4.                  2.9998910635515053 -5.002986334378936 ]\n",
            "derivat_alfa_function(0.08)= -3.987331283516305e-08\n",
            "afterSecantMEtohd\n",
            "alpha  0.5000017935989883\n",
            "beforeSecantMEtohd\n",
            "approximations_in[-1]= [ 4.                  3.0000000003907767 -5.00298612131652  ]\n",
            "derivat_alfa_function(0.08)= -1.702699592152123e-13\n"
          ]
        },
        {
          "output_type": "stream",
          "name": "stderr",
          "text": [
            "<ipython-input-207-65a5050cbe34>:22: RuntimeWarning: divide by zero encountered in scalar divide\n",
            "  return _a/_b\n"
          ]
        },
        {
          "output_type": "error",
          "ename": "KeyboardInterrupt",
          "evalue": "",
          "traceback": [
            "\u001b[0;31m---------------------------------------------------------------------------\u001b[0m",
            "\u001b[0;31mKeyboardInterrupt\u001b[0m                         Traceback (most recent call last)",
            "\u001b[0;32m<ipython-input-211-95b14e0380c0>\u001b[0m in \u001b[0;36m<cell line: 75>\u001b[0;34m()\u001b[0m\n\u001b[1;32m     73\u001b[0m   \u001b[0;32mreturn\u001b[0m \u001b[0mapproximations_in\u001b[0m\u001b[0;34m\u001b[0m\u001b[0;34m\u001b[0m\u001b[0m\n\u001b[1;32m     74\u001b[0m \u001b[0;34m\u001b[0m\u001b[0m\n\u001b[0;32m---> 75\u001b[0;31m adjustment = gradient_method_with_alpha_adjustment(f_z,\n\u001b[0m\u001b[1;32m     76\u001b[0m                                                    \u001b[0mdelta_f_z\u001b[0m\u001b[0;34m,\u001b[0m\u001b[0;34m\u001b[0m\u001b[0;34m\u001b[0m\u001b[0m\n\u001b[1;32m     77\u001b[0m                                                    \u001b[0mx_approximations\u001b[0m\u001b[0;34m,\u001b[0m\u001b[0;34m\u001b[0m\u001b[0;34m\u001b[0m\u001b[0m\n",
            "\u001b[0;32m<ipython-input-211-95b14e0380c0>\u001b[0m in \u001b[0;36mgradient_method_with_alpha_adjustment\u001b[0;34m(f_in, delta_f_in, approximations_in, stop_criterion_in, stop_criterion_alfa_in)\u001b[0m\n\u001b[1;32m     64\u001b[0m     \u001b[0mprint\u001b[0m\u001b[0;34m(\u001b[0m\u001b[0;34m\"approximations_in[-1]=\"\u001b[0m\u001b[0;34m,\u001b[0m\u001b[0mapproximations_in\u001b[0m\u001b[0;34m[\u001b[0m\u001b[0;34m-\u001b[0m\u001b[0;36m1\u001b[0m\u001b[0;34m]\u001b[0m\u001b[0;34m)\u001b[0m\u001b[0;34m\u001b[0m\u001b[0;34m\u001b[0m\u001b[0m\n\u001b[1;32m     65\u001b[0m     \u001b[0mprint\u001b[0m\u001b[0;34m(\u001b[0m\u001b[0;34m\"derivat_alfa_function(0.08)=\"\u001b[0m\u001b[0;34m,\u001b[0m\u001b[0mderivat_alfa_function\u001b[0m\u001b[0;34m(\u001b[0m\u001b[0;36m0.08\u001b[0m\u001b[0;34m)\u001b[0m\u001b[0;34m)\u001b[0m\u001b[0;34m\u001b[0m\u001b[0;34m\u001b[0m\u001b[0m\n\u001b[0;32m---> 66\u001b[0;31m     \u001b[0msecant_method\u001b[0m\u001b[0;34m(\u001b[0m\u001b[0malfa_approximations\u001b[0m\u001b[0;34m,\u001b[0m \u001b[0mderivat_alfa_function\u001b[0m\u001b[0;34m,\u001b[0m \u001b[0mstop_criterion_alfa_in\u001b[0m\u001b[0;34m)\u001b[0m\u001b[0;34m\u001b[0m\u001b[0;34m\u001b[0m\u001b[0m\n\u001b[0m\u001b[1;32m     67\u001b[0m     \u001b[0mprint\u001b[0m\u001b[0;34m(\u001b[0m\u001b[0;34m\"afterSecantMEtohd\"\u001b[0m\u001b[0;34m)\u001b[0m\u001b[0;34m\u001b[0m\u001b[0;34m\u001b[0m\u001b[0m\n\u001b[1;32m     68\u001b[0m     \u001b[0malpha\u001b[0m \u001b[0;34m=\u001b[0m \u001b[0malfa_approximations\u001b[0m\u001b[0;34m[\u001b[0m\u001b[0;34m-\u001b[0m\u001b[0;36m1\u001b[0m\u001b[0;34m]\u001b[0m\u001b[0;34m\u001b[0m\u001b[0;34m\u001b[0m\u001b[0m\n",
            "\u001b[0;32m<ipython-input-207-65a5050cbe34>\u001b[0m in \u001b[0;36msecant_method\u001b[0;34m(approximations_in, function_in, stop_criterion_in)\u001b[0m\n\u001b[1;32m     31\u001b[0m \u001b[0;34m\u001b[0m\u001b[0m\n\u001b[1;32m     32\u001b[0m \u001b[0;32mdef\u001b[0m \u001b[0msecant_method\u001b[0m\u001b[0;34m(\u001b[0m\u001b[0mapproximations_in\u001b[0m\u001b[0;34m,\u001b[0m \u001b[0mfunction_in\u001b[0m\u001b[0;34m,\u001b[0m \u001b[0mstop_criterion_in\u001b[0m\u001b[0;34m)\u001b[0m\u001b[0;34m:\u001b[0m\u001b[0;34m\u001b[0m\u001b[0;34m\u001b[0m\u001b[0m\n\u001b[0;32m---> 33\u001b[0;31m   return general_aproximator_method(approximations_in,\n\u001b[0m\u001b[1;32m     34\u001b[0m                                     \u001b[0msecant_method_step_builder\u001b[0m\u001b[0;34m(\u001b[0m\u001b[0mfunction_in\u001b[0m\u001b[0;34m)\u001b[0m\u001b[0;34m,\u001b[0m\u001b[0;34m\u001b[0m\u001b[0;34m\u001b[0m\u001b[0m\n\u001b[1;32m     35\u001b[0m                                     stop_criterion_in)\n",
            "\u001b[0;32m<ipython-input-207-65a5050cbe34>\u001b[0m in \u001b[0;36mgeneral_aproximator_method\u001b[0;34m(approximations_in, stepfunction_in, stop_criterion_in)\u001b[0m\n\u001b[1;32m     26\u001b[0m \u001b[0;32mdef\u001b[0m \u001b[0mgeneral_aproximator_method\u001b[0m\u001b[0;34m(\u001b[0m\u001b[0mapproximations_in\u001b[0m\u001b[0;34m,\u001b[0m \u001b[0mstepfunction_in\u001b[0m\u001b[0;34m,\u001b[0m \u001b[0mstop_criterion_in\u001b[0m\u001b[0;34m)\u001b[0m\u001b[0;34m:\u001b[0m\u001b[0;34m\u001b[0m\u001b[0;34m\u001b[0m\u001b[0m\n\u001b[1;32m     27\u001b[0m   \u001b[0;32mwhile\u001b[0m\u001b[0;34m(\u001b[0m\u001b[0;32mnot\u001b[0m \u001b[0mstop_criterion_in\u001b[0m\u001b[0;34m(\u001b[0m\u001b[0mapproximations_in\u001b[0m\u001b[0;34m)\u001b[0m\u001b[0;34m)\u001b[0m\u001b[0;34m:\u001b[0m\u001b[0;34m\u001b[0m\u001b[0;34m\u001b[0m\u001b[0m\n\u001b[0;32m---> 28\u001b[0;31m     \u001b[0mapprox\u001b[0m \u001b[0;34m=\u001b[0m \u001b[0mstepfunction_in\u001b[0m\u001b[0;34m(\u001b[0m\u001b[0mapproximations_in\u001b[0m\u001b[0;34m)\u001b[0m\u001b[0;34m\u001b[0m\u001b[0;34m\u001b[0m\u001b[0m\n\u001b[0m\u001b[1;32m     29\u001b[0m     \u001b[0mapproximations_in\u001b[0m\u001b[0;34m.\u001b[0m\u001b[0mappend\u001b[0m\u001b[0;34m(\u001b[0m\u001b[0mapprox\u001b[0m\u001b[0;34m)\u001b[0m\u001b[0;34m\u001b[0m\u001b[0;34m\u001b[0m\u001b[0m\n\u001b[1;32m     30\u001b[0m   \u001b[0;32mreturn\u001b[0m \u001b[0mapproximations_in\u001b[0m\u001b[0;34m\u001b[0m\u001b[0;34m\u001b[0m\u001b[0m\n",
            "\u001b[0;32m<ipython-input-207-65a5050cbe34>\u001b[0m in \u001b[0;36mstep_function\u001b[0;34m(x_approximations_in)\u001b[0m\n\u001b[1;32m     17\u001b[0m       \u001b[0;31m# print(\"x_approximations_in[-1]=\",x_approximations_in[-1], \"x_approximations_in[-2]=\",x_approximations_in[-2])\u001b[0m\u001b[0;34m\u001b[0m\u001b[0;34m\u001b[0m\u001b[0m\n\u001b[1;32m     18\u001b[0m       \u001b[0m_a\u001b[0m \u001b[0;34m=\u001b[0m \u001b[0;34m(\u001b[0m\u001b[0mf_in\u001b[0m\u001b[0;34m(\u001b[0m\u001b[0mx_approximations_in\u001b[0m\u001b[0;34m[\u001b[0m\u001b[0;34m-\u001b[0m\u001b[0;36m1\u001b[0m\u001b[0;34m]\u001b[0m\u001b[0;34m)\u001b[0m\u001b[0;34m*\u001b[0m\u001b[0mx_approximations_in\u001b[0m\u001b[0;34m[\u001b[0m\u001b[0;34m-\u001b[0m\u001b[0;36m2\u001b[0m\u001b[0;34m]\u001b[0m \u001b[0;34m-\u001b[0m \u001b[0mf_in\u001b[0m\u001b[0;34m(\u001b[0m\u001b[0mx_approximations_in\u001b[0m\u001b[0;34m[\u001b[0m\u001b[0;34m-\u001b[0m\u001b[0;36m2\u001b[0m\u001b[0;34m]\u001b[0m\u001b[0;34m)\u001b[0m\u001b[0;34m*\u001b[0m\u001b[0mx_approximations_in\u001b[0m\u001b[0;34m[\u001b[0m\u001b[0;34m-\u001b[0m\u001b[0;36m1\u001b[0m\u001b[0;34m]\u001b[0m\u001b[0;34m)\u001b[0m\u001b[0;34m\u001b[0m\u001b[0;34m\u001b[0m\u001b[0m\n\u001b[0;32m---> 19\u001b[0;31m       \u001b[0m_b\u001b[0m \u001b[0;34m=\u001b[0m \u001b[0;34m(\u001b[0m\u001b[0mf_in\u001b[0m\u001b[0;34m(\u001b[0m\u001b[0mx_approximations_in\u001b[0m\u001b[0;34m[\u001b[0m\u001b[0;34m-\u001b[0m\u001b[0;36m1\u001b[0m\u001b[0;34m]\u001b[0m\u001b[0;34m)\u001b[0m \u001b[0;34m-\u001b[0m \u001b[0mf_in\u001b[0m\u001b[0;34m(\u001b[0m\u001b[0mx_approximations_in\u001b[0m\u001b[0;34m[\u001b[0m\u001b[0;34m-\u001b[0m\u001b[0;36m2\u001b[0m\u001b[0;34m]\u001b[0m\u001b[0;34m)\u001b[0m\u001b[0;34m)\u001b[0m\u001b[0;34m\u001b[0m\u001b[0;34m\u001b[0m\u001b[0m\n\u001b[0m\u001b[1;32m     20\u001b[0m       \u001b[0;31m# print(\"f(apx1) \",f_in(x_approximations_in[-1]), \"f(apx2)\",f_in(x_approximations_in[-1]))\u001b[0m\u001b[0;34m\u001b[0m\u001b[0;34m\u001b[0m\u001b[0m\n\u001b[1;32m     21\u001b[0m       \u001b[0;31m# print(\"_a \",_a, \"_b\",_b)\u001b[0m\u001b[0;34m\u001b[0m\u001b[0;34m\u001b[0m\u001b[0m\n",
            "\u001b[0;32m<ipython-input-211-95b14e0380c0>\u001b[0m in \u001b[0;36mnumerical_derivative\u001b[0;34m(x_in)\u001b[0m\n\u001b[1;32m     11\u001b[0m     \u001b[0;31m# print(\"x_in\",x_in)\u001b[0m\u001b[0;34m\u001b[0m\u001b[0;34m\u001b[0m\u001b[0m\n\u001b[1;32m     12\u001b[0m     \u001b[0mdelta\u001b[0m \u001b[0;34m=\u001b[0m \u001b[0;36m1e-8\u001b[0m\u001b[0;34m\u001b[0m\u001b[0;34m\u001b[0m\u001b[0m\n\u001b[0;32m---> 13\u001b[0;31m     \u001b[0;32mreturn\u001b[0m \u001b[0;34m(\u001b[0m\u001b[0mfunction_in\u001b[0m\u001b[0;34m(\u001b[0m\u001b[0mx_in\u001b[0m \u001b[0;34m+\u001b[0m \u001b[0mdelta\u001b[0m\u001b[0;34m)\u001b[0m \u001b[0;34m-\u001b[0m \u001b[0mfunction_in\u001b[0m\u001b[0;34m(\u001b[0m\u001b[0mx_in\u001b[0m \u001b[0;34m-\u001b[0m \u001b[0mdelta\u001b[0m\u001b[0;34m)\u001b[0m\u001b[0;34m)\u001b[0m \u001b[0;34m/\u001b[0m \u001b[0;34m(\u001b[0m\u001b[0;36m2\u001b[0m \u001b[0;34m*\u001b[0m \u001b[0mdelta\u001b[0m\u001b[0;34m)\u001b[0m\u001b[0;34m\u001b[0m\u001b[0;34m\u001b[0m\u001b[0m\n\u001b[0m\u001b[1;32m     14\u001b[0m   \u001b[0;32mreturn\u001b[0m \u001b[0mnumerical_derivative\u001b[0m\u001b[0;34m\u001b[0m\u001b[0;34m\u001b[0m\u001b[0m\n\u001b[1;32m     15\u001b[0m \u001b[0;34m\u001b[0m\u001b[0m\n",
            "\u001b[0;32m<ipython-input-211-95b14e0380c0>\u001b[0m in \u001b[0;36marg_min\u001b[0;34m(alfa_in)\u001b[0m\n\u001b[1;32m     16\u001b[0m \u001b[0;32mdef\u001b[0m \u001b[0malfa_arg_min\u001b[0m\u001b[0;34m(\u001b[0m\u001b[0mfunction_in\u001b[0m\u001b[0;34m,\u001b[0m \u001b[0mdelta_function_in\u001b[0m\u001b[0;34m,\u001b[0m \u001b[0mx_in\u001b[0m\u001b[0;34m)\u001b[0m\u001b[0;34m:\u001b[0m\u001b[0;34m\u001b[0m\u001b[0;34m\u001b[0m\u001b[0m\n\u001b[1;32m     17\u001b[0m   \u001b[0;32mdef\u001b[0m \u001b[0marg_min\u001b[0m\u001b[0;34m(\u001b[0m\u001b[0malfa_in\u001b[0m\u001b[0;34m:\u001b[0m \u001b[0mfloat\u001b[0m\u001b[0;34m)\u001b[0m\u001b[0;34m:\u001b[0m\u001b[0;34m\u001b[0m\u001b[0;34m\u001b[0m\u001b[0m\n\u001b[0;32m---> 18\u001b[0;31m     \u001b[0mdelta_x\u001b[0m \u001b[0;34m=\u001b[0m \u001b[0mdelta_function_in\u001b[0m\u001b[0;34m(\u001b[0m\u001b[0mx_in\u001b[0m\u001b[0;34m)\u001b[0m\u001b[0;34m\u001b[0m\u001b[0;34m\u001b[0m\u001b[0m\n\u001b[0m\u001b[1;32m     19\u001b[0m     \u001b[0malfa_delta\u001b[0m \u001b[0;34m=\u001b[0m \u001b[0malfa_in\u001b[0m\u001b[0;34m*\u001b[0m\u001b[0mdelta_x\u001b[0m\u001b[0;34m\u001b[0m\u001b[0;34m\u001b[0m\u001b[0m\n\u001b[1;32m     20\u001b[0m     \u001b[0;32mreturn\u001b[0m \u001b[0mfunction_in\u001b[0m\u001b[0;34m(\u001b[0m\u001b[0mx_in\u001b[0m\u001b[0;34m-\u001b[0m\u001b[0malfa_delta\u001b[0m\u001b[0;34m)\u001b[0m\u001b[0;34m\u001b[0m\u001b[0;34m\u001b[0m\u001b[0m\n",
            "\u001b[0;32m<ipython-input-211-95b14e0380c0>\u001b[0m in \u001b[0;36mdelta_f_z\u001b[0;34m(x_in)\u001b[0m\n\u001b[1;32m     26\u001b[0m \u001b[0;34m\u001b[0m\u001b[0m\n\u001b[1;32m     27\u001b[0m \u001b[0;32mdef\u001b[0m \u001b[0mdelta_f_z\u001b[0m\u001b[0;34m(\u001b[0m\u001b[0mx_in\u001b[0m\u001b[0;34m)\u001b[0m\u001b[0;34m:\u001b[0m\u001b[0;34m\u001b[0m\u001b[0;34m\u001b[0m\u001b[0m\n\u001b[0;32m---> 28\u001b[0;31m     \u001b[0;32mreturn\u001b[0m \u001b[0mnp\u001b[0m\u001b[0;34m.\u001b[0m\u001b[0marray\u001b[0m\u001b[0;34m(\u001b[0m\u001b[0;34m[\u001b[0m\u001b[0;36m4\u001b[0m\u001b[0;34m*\u001b[0m\u001b[0;34m(\u001b[0m\u001b[0mx_in\u001b[0m\u001b[0;34m[\u001b[0m\u001b[0;36m0\u001b[0m\u001b[0;34m]\u001b[0m\u001b[0;34m-\u001b[0m\u001b[0;36m4\u001b[0m\u001b[0;34m)\u001b[0m\u001b[0;34m**\u001b[0m\u001b[0;36m3\u001b[0m\u001b[0;34m,\u001b[0m \u001b[0;36m2\u001b[0m\u001b[0;34m*\u001b[0m\u001b[0;34m(\u001b[0m\u001b[0mx_in\u001b[0m\u001b[0;34m[\u001b[0m\u001b[0;36m1\u001b[0m\u001b[0;34m]\u001b[0m\u001b[0;34m-\u001b[0m\u001b[0;36m3\u001b[0m\u001b[0;34m)\u001b[0m\u001b[0;34m,\u001b[0m \u001b[0;36m16\u001b[0m\u001b[0;34m*\u001b[0m\u001b[0;34m(\u001b[0m\u001b[0mx_in\u001b[0m\u001b[0;34m[\u001b[0m\u001b[0;36m2\u001b[0m\u001b[0;34m]\u001b[0m\u001b[0;34m+\u001b[0m\u001b[0;36m5\u001b[0m\u001b[0;34m)\u001b[0m\u001b[0;34m**\u001b[0m\u001b[0;36m3\u001b[0m\u001b[0;34m]\u001b[0m\u001b[0;34m)\u001b[0m\u001b[0;34m\u001b[0m\u001b[0;34m\u001b[0m\u001b[0m\n\u001b[0m\u001b[1;32m     29\u001b[0m \u001b[0;34m\u001b[0m\u001b[0m\n\u001b[1;32m     30\u001b[0m \u001b[0;31m# def stop_criterion_alfa(approximations_in):\u001b[0m\u001b[0;34m\u001b[0m\u001b[0;34m\u001b[0m\u001b[0m\n",
            "\u001b[0;31mKeyboardInterrupt\u001b[0m: "
          ]
        }
      ]
    },
    {
      "cell_type": "code",
      "source": [
        "# Gradint with step adjustment alpha\n",
        "\n",
        "import numpy as np\n",
        "import matplotlib.pyplot as plt\n",
        "from scipy.optimize import newton\n",
        "\n",
        "\n",
        "# returns a function, F'(x) that numericly calculates the derivat of F(x) for x\n",
        "def derivative_of(function_in):\n",
        "  def numerical_derivative(x_in):\n",
        "    delta_ = 1e-15\n",
        "    return (function_in(x_in + delta_) - function_in(x_in - delta_)) / (2 * delta_)\n",
        "  return numerical_derivative\n",
        "\n",
        "def alfa_arg_min_builder(function_in, delta_function_in, x_in):\n",
        "  def arg_min(alfa_in: float):\n",
        "    delta_x = delta_function_in(x_in)\n",
        "    alfa_delta = alfa_in*delta_x\n",
        "    return function_in(x_in-alfa_delta)\n",
        "  return arg_min\n",
        "\n",
        "def f(x_in) -> float:\n",
        "    return (x_in[0]-4)**4 + (x_in[1]-3)**2 + 4*(x_in[2]+5)**4\n",
        "\n",
        "def delta_f(x_in):\n",
        "    return np.array([4*(x_in[0]-4)**3, 2*(x_in[1]-3), 16*(x_in[2]+5)**3])\n",
        "\n",
        "def stop_criterion_alfa(approximations_in):\n",
        "  e=0.00001\n",
        "  return abs(approximations_in[-1]-approximations_in[-2])/ max(1, abs(approximations_in[-2]))< e\n",
        "\n",
        "def stop_criterion_gradient_method(approximations_in):\n",
        "  e = 0.00001\n",
        "  if len(approximations_in) > 1:\n",
        "    norm_diff = np.linalg.norm(np.array(approximations_in[-1]) - np.array(approximations_in[-2]))\n",
        "    return norm_diff/(max(1, np.linalg.norm(np.array(approximations_in[-2])))) < e\n",
        "  return False\n",
        "\n",
        "\n",
        "x0 = np.array([4, 2, -1])\n",
        "x_approximations = [x0]\n",
        "\n",
        "# test firs derivat\n",
        "def f_prime(a_in):\n",
        "    return 4 * (2 * a_in - 1) - 16384 * (-1024 * a_in + 4)**3\n",
        "\n",
        "def gradient_method_with_alpha_adjustment(delta_f_in ,approximations_in, stop_criterion_in):\n",
        "  while(not stop_criterion_in(approximations_in)):\n",
        "  # for i in range(1,3):\n",
        "    print(f\"{i}--------\")\n",
        "    # tocno\n",
        "    alfa_arg_min_function_ = alfa_arg_min_builder(f, delta_f_in , approximations_in[-1])\n",
        "    print(f\"alfa_arg_min_function_ = {alfa_arg_min_function_(1)}, - tocno\")\n",
        "    # tocno\n",
        "    # 17386831872004\n",
        "    derivat_alfa_function = derivative_of(alfa_arg_min_function_)\n",
        "    alfaS = newton(derivat_alfa_function, x0=0.01, x1=0.08)\n",
        "    print(f\"delta_f_in({approximations_in[-1]})={delta_f_in(approximations_in[-1])}\")\n",
        "\n",
        "    alpha = alfaS\n",
        "    print(f\"derivat_alfa_function({alpha})={derivat_alfa_function(alpha)}\")\n",
        "\n",
        "    gradient_step_function = gradient_method_step_builder(delta_f, alpha)\n",
        "    current_approximation = gradient_step_function(approximations_in)\n",
        "    # current_approximation = gradient_method_step_function(delta_f_in, alfa_approximations[-1], approximations_in[-1])\n",
        "    print(f\"x{i} = {current_approximation}\")\n",
        "\n",
        "    approximations_in.append(current_approximation)\n",
        "    print(f\"--------{i}\")\n",
        "  # return approximations_in\n",
        "\n",
        "gradient_method_with_alpha_adjustment(delta_f, x_approximations, stop_criterion_gradient_method)\n"
      ],
      "metadata": {
        "colab": {
          "base_uri": "https://localhost:8080/",
          "height": 582
        },
        "id": "kDs36fYVRGR6",
        "outputId": "bdf8d456-4855-49f7-f159-f02b39d2622d"
      },
      "execution_count": null,
      "outputs": [
        {
          "output_type": "stream",
          "name": "stdout",
          "text": [
            "38330--------\n",
            "alfa_arg_min_function_ = 4329728640001, - tocno\n",
            "delta_f_in([ 4  2 -1])=[   0   -2 1024]\n",
            "derivat_alfa_function(0.003967120417048906)=0.0\n",
            "x38330 = [ 4.          2.00793424 -5.06233131]\n",
            "--------38330\n",
            "38330--------\n",
            "alfa_arg_min_function_ = 0.9842411788296875, - tocno\n",
            "delta_f_in([ 4.          2.00793424 -5.06233131])=[ 0.         -1.98413152 -0.00387471]\n",
            "derivat_alfa_function(0.49999999999999983)=0.0\n",
            "x38330 = [ 4.          3.         -5.06039395]\n",
            "--------38330\n",
            "38330--------\n",
            "alfa_arg_min_function_ = 4.1838444194349856e-05, - tocno\n"
          ]
        },
        {
          "output_type": "error",
          "ename": "RuntimeError",
          "evalue": "Tolerance of 0.07 reached. Failed to converge after 1 iterations, value is 0.08.",
          "traceback": [
            "\u001b[0;31m---------------------------------------------------------------------------\u001b[0m",
            "\u001b[0;31mRuntimeError\u001b[0m                              Traceback (most recent call last)",
            "\u001b[0;32m<ipython-input-116-4c8c076336ff>\u001b[0m in \u001b[0;36m<cell line: 72>\u001b[0;34m()\u001b[0m\n\u001b[1;32m     70\u001b[0m   \u001b[0;31m# return approximations_in\u001b[0m\u001b[0;34m\u001b[0m\u001b[0;34m\u001b[0m\u001b[0m\n\u001b[1;32m     71\u001b[0m \u001b[0;34m\u001b[0m\u001b[0m\n\u001b[0;32m---> 72\u001b[0;31m \u001b[0mgradient_method_with_alpha_adjustment\u001b[0m\u001b[0;34m(\u001b[0m\u001b[0mdelta_f\u001b[0m\u001b[0;34m,\u001b[0m \u001b[0mx_approximations\u001b[0m\u001b[0;34m,\u001b[0m \u001b[0mstop_criterion_gradient_method\u001b[0m\u001b[0;34m)\u001b[0m\u001b[0;34m\u001b[0m\u001b[0;34m\u001b[0m\u001b[0m\n\u001b[0m",
            "\u001b[0;32m<ipython-input-116-4c8c076336ff>\u001b[0m in \u001b[0;36mgradient_method_with_alpha_adjustment\u001b[0;34m(delta_f_in, approximations_in, stop_criterion_in)\u001b[0m\n\u001b[1;32m     55\u001b[0m     \u001b[0;31m# 17386831872004\u001b[0m\u001b[0;34m\u001b[0m\u001b[0;34m\u001b[0m\u001b[0m\n\u001b[1;32m     56\u001b[0m     \u001b[0mderivat_alfa_function\u001b[0m \u001b[0;34m=\u001b[0m \u001b[0mderivative_of\u001b[0m\u001b[0;34m(\u001b[0m\u001b[0malfa_arg_min_function_\u001b[0m\u001b[0;34m)\u001b[0m\u001b[0;34m\u001b[0m\u001b[0;34m\u001b[0m\u001b[0m\n\u001b[0;32m---> 57\u001b[0;31m     \u001b[0malfaS\u001b[0m \u001b[0;34m=\u001b[0m \u001b[0mnewton\u001b[0m\u001b[0;34m(\u001b[0m\u001b[0mderivat_alfa_function\u001b[0m\u001b[0;34m,\u001b[0m \u001b[0mx0\u001b[0m\u001b[0;34m=\u001b[0m\u001b[0;36m0.01\u001b[0m\u001b[0;34m,\u001b[0m \u001b[0mx1\u001b[0m\u001b[0;34m=\u001b[0m\u001b[0;36m0.08\u001b[0m\u001b[0;34m)\u001b[0m\u001b[0;34m\u001b[0m\u001b[0;34m\u001b[0m\u001b[0m\n\u001b[0m\u001b[1;32m     58\u001b[0m     \u001b[0mprint\u001b[0m\u001b[0;34m(\u001b[0m\u001b[0;34mf\"delta_f_in({approximations_in[-1]})={delta_f_in(approximations_in[-1])}\"\u001b[0m\u001b[0;34m)\u001b[0m\u001b[0;34m\u001b[0m\u001b[0;34m\u001b[0m\u001b[0m\n\u001b[1;32m     59\u001b[0m \u001b[0;34m\u001b[0m\u001b[0m\n",
            "\u001b[0;32m/usr/local/lib/python3.10/dist-packages/scipy/optimize/_zeros_py.py\u001b[0m in \u001b[0;36mnewton\u001b[0;34m(func, x0, fprime, args, tol, maxiter, fprime2, x1, rtol, full_output, disp)\u001b[0m\n\u001b[1;32m    361\u001b[0m                             \u001b[0;34m\" Failed to converge after %d iterations, value is %s.\"\u001b[0m\u001b[0;34m\u001b[0m\u001b[0;34m\u001b[0m\u001b[0m\n\u001b[1;32m    362\u001b[0m                             % (itr + 1, p1))\n\u001b[0;32m--> 363\u001b[0;31m                         \u001b[0;32mraise\u001b[0m \u001b[0mRuntimeError\u001b[0m\u001b[0;34m(\u001b[0m\u001b[0mmsg\u001b[0m\u001b[0;34m)\u001b[0m\u001b[0;34m\u001b[0m\u001b[0;34m\u001b[0m\u001b[0m\n\u001b[0m\u001b[1;32m    364\u001b[0m                     \u001b[0mwarnings\u001b[0m\u001b[0;34m.\u001b[0m\u001b[0mwarn\u001b[0m\u001b[0;34m(\u001b[0m\u001b[0mmsg\u001b[0m\u001b[0;34m,\u001b[0m \u001b[0mRuntimeWarning\u001b[0m\u001b[0;34m)\u001b[0m\u001b[0;34m\u001b[0m\u001b[0;34m\u001b[0m\u001b[0m\n\u001b[1;32m    365\u001b[0m                 \u001b[0mp\u001b[0m \u001b[0;34m=\u001b[0m \u001b[0;34m(\u001b[0m\u001b[0mp1\u001b[0m \u001b[0;34m+\u001b[0m \u001b[0mp0\u001b[0m\u001b[0;34m)\u001b[0m \u001b[0;34m/\u001b[0m \u001b[0;36m2.0\u001b[0m\u001b[0;34m\u001b[0m\u001b[0;34m\u001b[0m\u001b[0m\n",
            "\u001b[0;31mRuntimeError\u001b[0m: Tolerance of 0.07 reached. Failed to converge after 1 iterations, value is 0.08."
          ]
        }
      ]
    },
    {
      "cell_type": "code",
      "source": [
        "np.set_printoptions(precision=40)\n",
        "\n",
        "test_list = []\n",
        "np.array([ 4,                3.0000000007242176, -5.003407372956273])\n",
        "test_list.append(np.array([ 4, 3,-5.00340737]))\n",
        "\n",
        "def f_t(x_in) -> float:\n",
        "    return (x_in[0]-4)**4 + (x_in[1]-3)**2 + 4*(x_in[2]+5)**4\n",
        "\n",
        "def delta_f_t(x_in):\n",
        "    return np.array([4*(x_in[0]-4)**3, 2*(x_in[1]-3), 16*(x_in[2]+5)**3])\n",
        "\n",
        "# def alfa_arg_min_test(function_in, delta_function_in, x_in):\n",
        "#   def arg_min(alfa_in: float):\n",
        "#     delta_x = delta_function_in(x_in)\n",
        "#     alfa_delta = alfa_in*delta_x\n",
        "#     return function_in(x_in-alfa_delta)\n",
        "#   return arg_min\n",
        "\n",
        "alfa_approximations_test = []\n",
        "alfa_approximations_test.append(0.01)\n",
        "alfa_approximations_test.append(0.11)\n",
        "\n",
        "test_arg_min = alfa_arg_min(f_t,delta_f_t,test_list[-1])\n",
        "derivate_test = derivative_of(test_arg_min)\n",
        "print(\"derivat_alfa_function(0.08)=\",derivate_test(0.08))\n",
        "some_test_approximations = secant_method(alfa_approximations_test, derivate_test, stop_criterion_relative_step(0.01))\n",
        "\n",
        "print(\"some_test_approximations=\", some_test_approximations)"
      ],
      "metadata": {
        "colab": {
          "base_uri": "https://localhost:8080/"
        },
        "id": "wYCHHO97XokC",
        "outputId": "4d573b0a-1f5d-4a07-fbdd-a5f660fe4599"
      },
      "execution_count": null,
      "outputs": [
        {
          "output_type": "stream",
          "name": "stdout",
          "text": [
            "derivat_alfa_function(0.08)= -3.935104969067891e-13\n",
            "x_approximations_in[-1]= 0.11 x_approximations_in[-2]= 0.01\n",
            "f(apx1)  -3.9350532702796063e-13 f(apx2) -3.9350532702796063e-13\n",
            "_a  3.9352807449480584e-14 _b 2.0679515313825692e-17\n",
            "x_approximations_in[-1]= 1902.985 x_approximations_in[-2]= 0.11\n",
            "f(apx1)  -1.0633471397854526e-13 f(apx2) -1.0633471397854526e-13\n",
            "_a  7.48823037935766e-10 _b 2.8717061304941537e-13\n",
            "x_approximations_in[-1]= 2607.5893699015473 x_approximations_in[-2]= 1902.985\n",
            "f(apx1)  -5.394251569611432e-14 f(apx2) -5.394251569611432e-14\n",
            "_a  1.7462547159000598e-10 _b 5.239219828243095e-14\n",
            "x_approximations_in[-1]= 3333.0434170494505 x_approximations_in[-2]= 2607.5893699015473\n",
            "f(apx1)  -2.329070801897966e-14 f(apx2) -2.329070801897966e-14\n",
            "_a  1.1906014419224839e-10 _b 3.065180767713466e-14\n",
            "x_approximations_in[-1]= 3884.2780643264878 x_approximations_in[-2]= 3333.0434170494505\n",
            "f(apx1)  -8.495686112609448e-15 f(apx2) -8.495686112609448e-15\n",
            "_a  6.215109558980435e-11 _b 1.479502190637021e-14\n",
            "x_approximations_in[-1]= 4200.811325804411 x_approximations_in[-2]= 3884.2780643264878\n",
            "f(apx1)  -4.170082828066554e-15 f(apx2) -4.170082828066554e-15\n",
            "_a  1.949101318684554e-11 _b 4.325603284542894e-15\n",
            "x_approximations_in[-1]= 4505.96411753586 x_approximations_in[-2]= 4200.811325804411\n",
            "f(apx1)  -1.8246567307928223e-15 f(apx2) -1.8246567307928223e-15\n",
            "_a  1.1125204930000617e-11 _b 2.345426097273732e-15\n",
            "x_approximations_in[-1]= 4743.361960085757 x_approximations_in[-2]= 4505.96411753586\n",
            "f(apx1)  -6.60823100505124e-16 f(apx2) -6.60823100505124e-16\n",
            "_a  5.677362148142231e-12 _b 1.1638336302876983e-15\n",
            "x_approximations_in[-1]= 4878.1561216260725 x_approximations_in[-2]= 4743.361960085757\n",
            "f(apx1)  -3.249886048457107e-16 f(apx2) -3.249886048457107e-16\n",
            "_a  1.6820596673545063e-12 _b 3.358344956594133e-16\n",
            "x_approximations_in[-1]= 5008.597059250184 x_approximations_in[-2]= 4878.1561216260725\n",
            "f(apx1)  -1.326186411064157e-16 f(apx2) -1.326186411064157e-16\n",
            "_a  9.80802534565054e-13 _b 1.9236996373929497e-16\n",
            "x_approximations_in[-1]= 5098.522219894288 x_approximations_in[-2]= 5008.597059250184\n",
            "f(apx1)  -5.82055496890987e-17 f(apx2) -5.82055496890987e-17\n",
            "_a  3.8463094344838623e-13 _b 7.4413091417317e-17\n",
            "x_approximations_in[-1]= 5168.861232915759 x_approximations_in[-2]= 5098.522219894288\n",
            "f(apx1)  -2.4844069804668457e-17 f(apx2) -2.4844069804668457e-17\n",
            "_a  1.7418836739682726e-13 _b 3.3361479884430244e-17\n",
            "x_approximations_in[-1]= 5221.242223074185 x_approximations_in[-2]= 5168.861232915759\n",
            "f(apx1)  -1.0718849695297461e-17 f(apx2) -1.0718849695297461e-17\n",
            "_a  7.431265960566343e-14 _b 1.4125220109370997e-17\n",
            "x_approximations_in[-1]= 5260.991264579495 x_approximations_in[-2]= 5221.242223074185\n",
            "f(apx1)  -4.605524039075818e-18 f(apx2) -4.605524039075818e-18\n",
            "_a  3.23452180410947e-14 _b 6.113325656221643e-18\n",
            "x_approximations_in[-1]= 5290.936531113205 x_approximations_in[-2]= 5260.991264579495\n",
            "f(apx1)  -1.9819865235717574e-18 f(apx2) -1.9819865235717574e-18\n",
            "_a  1.3940321596240988e-14 _b 2.6235375155040605e-18\n",
            "x_approximations_in[-1]= 5313.559083435723 x_approximations_in[-2]= 5290.936531113205\n",
            "f(apx1)  -8.524258378495236e-19 f(apx2) -8.524258378495236e-19\n",
            "_a  6.021271490029076e-15 _b 1.1295606857222337e-18\n",
            "x_approximations_in[-1]= 5330.63124995282 x_approximations_in[-2]= 5313.559083435723\n",
            "f(apx1)  -3.6670322438715175e-19 f(apx2) -3.6670322438715175e-19\n",
            "_a  2.5954685606403683e-15 _b 4.857226134623719e-19\n",
            "x_approximations_in[-1]= 5343.520125898843 x_approximations_in[-2]= 5330.63124995282\n",
            "f(apx1)  -1.577369943041184e-19 f(apx2) -1.577369943041184e-19\n",
            "_a  1.118648308633581e-15 _b 2.0896623008303334e-19\n",
            "x_approximations_in[-1]= 5353.249222082835 x_approximations_in[-2]= 5343.520125898843\n",
            "f(apx1)  -6.785275083432267e-20 f(apx2) -6.785275083432267e-20\n",
            "_a  4.818329023714037e-16 _b 8.988424346979574e-20\n",
            "x_approximations_in[-1]= 5360.593623211797 x_approximations_in[-2]= 5353.249222082835\n",
            "f(apx1)  -2.918741293670266e-20 f(apx2) -2.918741293670266e-20\n",
            "_a  2.074835278418351e-16 _b 3.866533789762001e-20\n",
            "x_approximations_in[-1]= 5366.137712056732 x_approximations_in[-2]= 5360.593623211797\n",
            "f(apx1)  -1.2555266705878529e-20 f(apx2) -1.2555266705878529e-20\n",
            "_a  8.931999463575683e-17 _b 1.663214623082413e-20\n",
            "x_approximations_in[-1]= 5370.322831230362 x_approximations_in[-2]= 5366.137712056732\n",
            "f(apx1)  -5.400766928446201e-21 f(apx2) -5.400766928446201e-21\n",
            "_a  3.844457635400191e-17 _b 7.154499777432328e-21\n",
            "x_approximations_in[-1]= 5373.482081202783 x_approximations_in[-2]= 5370.322831230362\n",
            "f(apx1)  -2.3231927177222062e-21 f(apx2) -2.3231927177222062e-21\n",
            "_a  1.6544629421426577e-17 _b 3.077574210723995e-21\n",
            "x_approximations_in[-1]= 5375.866929146926 x_approximations_in[-2]= 5373.482081202783\n",
            "f(apx1)  -1.0707255862148544e-21 f(apx2) -1.0707255862148544e-21\n",
            "_a  6.735650149826912e-18 _b 1.2524671315073519e-21\n",
            "x_approximations_in[-1]= 5377.905719346515 x_approximations_in[-2]= 5375.866929146926\n",
            "f(apx1)  -4.0365736856389556e-22 f(apx2) -4.0365736856389556e-22\n",
            "_a  3.588252955586397e-18 _b 6.670682176509588e-22\n",
            "x_approximations_in[-1]= 5379.139435277275 x_approximations_in[-2]= 5377.905719346515\n",
            "f(apx1)  -1.7030626806902597e-22 f(apx2) -1.7030626806902597e-22\n",
            "_a  1.2554382164933282e-18 _b 2.333511004948696e-22\n",
            "x_approximations_in[-1]= 5380.039836242084 x_approximations_in[-2]= 5379.139435277275\n",
            "f(apx1)  -8.046916931890866e-23 f(apx2) -8.046916931890866e-23\n",
            "_a  4.833996245657371e-19 _b 8.983709875011731e-23\n",
            "x_approximations_in[-1]= 5380.846346232946 x_approximations_in[-2]= 5380.039836242084\n",
            "f(apx1)  -3.575040005768645e-23 f(apx2) -3.575040005768645e-23\n",
            "_a  2.406536592421056e-19 _b 4.471876926122221e-23\n",
            "x_approximations_in[-1]= 5381.4911102839305 x_approximations_in[-2]= 5380.846346232946\n",
            "f(apx1)  -1.2840382502144698e-23 f(apx2) -1.2840382502144698e-23\n",
            "_a  1.2329833482863498e-19 _b 2.2910017555541752e-23\n",
            "x_approximations_in[-1]= 5381.852481331255 x_approximations_in[-2]= 5381.4911102839305\n",
            "f(apx1)  -6.328964458949992e-24 f(apx2) -6.328964458949992e-24\n",
            "_a  3.5045778457267545e-20 _b 6.511418043194706e-24\n",
            "x_approximations_in[-1]= 5382.203726559229 x_approximations_in[-2]= 5381.852481331255\n",
            "f(apx1)  -2.5803402860542746e-24 f(apx2) -2.5803402860542746e-24\n",
            "_a  2.0176765325041362e-20 _b 3.7486241728957175e-24\n",
            "x_approximations_in[-1]= 5382.445503854104 x_approximations_in[-2]= 5382.203726559229\n",
            "f(apx1)  -1.2138024925993744e-24 f(apx2) -1.2138024925993744e-24\n",
            "_a  7.355608672111208e-21 _b 1.3665377934549003e-24\n",
            "x_approximations_in[-1]= 5382.660258165751 x_approximations_in[-2]= 5382.445503854104\n",
            "f(apx1)  -4.2208160429635315e-25 f(apx2) -4.2208160429635315e-25\n",
            "_a  4.261655204872747e-21 _b 7.917208883030212e-25\n",
            "x_approximations_in[-1]= 5382.774747811949 x_approximations_in[-2]= 5382.660258165751\n",
            "f(apx1)  -2.09869257010675e-25 f(apx2) -2.09869257010675e-25\n",
            "_a  1.1423152920002308e-21 _b 2.1221234728567814e-25\n",
            "x_approximations_in[-1]= 5382.887973348965 x_approximations_in[-2]= 5382.774747811949\n",
            "f(apx1)  -8.526303589735125e-26 f(apx2) -8.526303589735125e-26\n",
            "_a  6.707509829883993e-22 _b 1.2460622111332376e-25\n",
            "x_approximations_in[-1]= 5382.9654490395105 x_approximations_in[-2]= 5382.887973348965\n",
            "f(apx1)  -3.748410140370907e-26 f(apx2) -3.748410140370907e-26\n",
            "_a  2.5719525767783868e-22 _b 4.777893449364218e-26\n",
            "x_approximations_in[-1]= 5383.026231195318 x_approximations_in[-2]= 5382.9654490395105\n",
            "f(apx1)  -1.713119007902804e-26 f(apx2) -1.713119007902804e-26\n",
            "_a  1.095612968126148e-22 _b 2.035291132468103e-26\n",
            "x_approximations_in[-1]= 5383.077391967748 x_approximations_in[-2]= 5383.026231195318\n",
            "f(apx1)  -6.05667331954896e-27 f(apx2) -6.05667331954896e-27\n",
            "_a  5.961529065900513e-23 _b 1.107451675947908e-26\n",
            "x_approximations_in[-1]= 5383.105371887063 x_approximations_in[-2]= 5383.077391967748\n",
            "f(apx1)  -3.2121902580959455e-27 f(apx2) -3.2121902580959455e-27\n",
            "_a  1.5312241925173726e-23 _b 2.8444830614530145e-27\n",
            "x_approximations_in[-1]= 5383.136968779118 x_approximations_in[-2]= 5383.105371887063\n",
            "f(apx1)  -1.035852543854546e-27 f(apx2) -1.035852543854546e-27\n",
            "_a  1.1715556735802134e-23 _b 2.1763377142413994e-27\n",
            "x_approximations_in[-1]= 5383.152007677171 x_approximations_in[-2]= 5383.136968779118\n",
            "f(apx1)  -5.6328161482313035e-28 f(apx2) -5.6328161482313035e-28\n",
            "_a  2.543929616520112e-24 _b 4.725709290314157e-28\n",
            "x_approximations_in[-1]= 5383.169933313853 x_approximations_in[-2]= 5383.152007677171\n",
            "f(apx1)  -1.912694430301951e-28 f(apx2) -1.912694430301951e-28\n",
            "_a  2.0026081666490613e-24 _b 3.7201217179293525e-28\n",
            "some_test_approximations= [0.01, 0.11, 1902.985, 2607.5893699015473, 3333.0434170494505, 3884.2780643264878, 4200.811325804411, 4505.96411753586, 4743.361960085757, 4878.1561216260725, 5008.597059250184, 5098.522219894288, 5168.861232915759, 5221.242223074185, 5260.991264579495, 5290.936531113205, 5313.559083435723, 5330.63124995282, 5343.520125898843, 5353.249222082835, 5360.593623211797, 5366.137712056732, 5370.322831230362, 5373.482081202783, 5375.866929146926, 5377.905719346515, 5379.139435277275, 5380.039836242084, 5380.846346232946, 5381.4911102839305, 5381.852481331255, 5382.203726559229, 5382.445503854104, 5382.660258165751, 5382.774747811949, 5382.887973348965, 5382.9654490395105, 5383.026231195318, 5383.077391967748, 5383.105371887063, 5383.136968779118, 5383.152007677171, 5383.169933313853, 5383.179149750315]\n"
          ]
        }
      ]
    },
    {
      "cell_type": "markdown",
      "source": [
        "### Golder Search\n",
        "\n",
        "\n",
        "Golden search method is applicable for a function $F: \\mathbb{R} \\to \\mathbb{R}$ on a closed interval $[a_0, b_0]$ when $F$ has only one minimum under the closed interval. The algorithm works in a way that for every step requires a list of four values for $x$: $[a_0, a_1, b_1, b_0]$ so that $a_0 < a_1 < b_1 < b_0$ and $a_1 - a_0 = b_0 - b_1 = p \\cdot (b_0 - a_0)$ and $p < \\frac{1}{2}$. Then it analyzes the function $F$ at these four values. Depending on whether $F(a_1) > F(b_1)$ or $F(a_1) < F(b_1)$, the minimum will be located in $[a_0, b_1]$ or in $[a_1, b_0]$. For the two intervals $[a_0, b_1]$ and $[a_1, b_0]$, three values of $F$ are already known or previously calculated: $F(a_0), F(a_1), F(b_1)$ for $[a_0, b_1]$ and $F(a_1), F(b_1), F(b_0)$ for $[a_1, b_0]$. In order to again analyze $F$ for a minimum under the new reduced interval, a new value for $x$ needs to be picked. $x$ is picked using the following optimization:\n",
        "\n",
        "\n",
        "```\n",
        "x = a0 + abs(a0-b1)*p for [a0,a1,b1] resulting in a new input list of four values for x [a0,x,a1,b1] where x-a0==b1-a1\n",
        "```\n",
        "$x = a_0 + |a_0 - b_1| \\cdot p$ for $[a_0, a_1, b_1]$ resulting in a new input list of four values for $x$: $[a_0, x, a_1, b_1]$ where $x - a_0 = b_1 - a_1$.\n",
        "\n",
        "\n",
        "or\n",
        "```\n",
        "x = b0 - abs(a1-b0)*p  for [a1,b1,b0] resulting in a new input list of four values for x [a1,b1,x,b0] where b1-a1==b0-x\n",
        "```\n",
        "$x = b_0 - |a_1 - b_0| \\cdot p$ for $[a_1, b_1, b_0]$ resulting in a new input list of four values for $x$: $[a_1, b_1, x, b_0]$ where $b_1 - a_1 = b_0 - x$.\n",
        "\n",
        "The scalar p in the golden search algoritham is optimized and in every step is equal to:\n",
        "\n",
        "$$p = \\frac{3 - \\sqrt{5}}{2} \\approx 0.382 $$\n",
        "\n",
        "The described process is repeated with the new four values for x, until the <range/interval> is at the requered size.\n",
        "\n",
        "The N-th step reduces the range(uncertanty interval) by factor:\n",
        "```\n",
        "(1-p)^N = (0.61803)^N\n",
        "```\n",
        "$(1 - p)^N = (0.61803)^N$\n",
        "\n",
        "\n",
        "Example:\n",
        "1. Use the the golden searh to find the value of x that minimizes the function:\n",
        "$f(x) = x^4 - 14x^3 + 60x^2 + 70x$\n",
        "2.Use the the golden search `minimize_scalar(f, method='golden')` from the library `scipy`, package `scipy.optimize` to find the local minimum of the function\n",
        "\n",
        "$f(x) = x^4 - 14x^3 + 60x^2 + 70x$\n"
      ],
      "metadata": {
        "id": "h4G88edw23Yi"
      }
    },
    {
      "cell_type": "code",
      "source": [
        "# tutorial: https://realpython.com/python-data-structures/\n",
        "\n",
        "#Example 1\n",
        "\n",
        "def F(x_in):\n",
        "  return x_in**4-14*x_in**3+60*x_in**2+70*x_in\n",
        "\n",
        "# Approx, Approximations class holds tha values for x_in and calcullates f_in for x_in\n",
        "class Approx:\n",
        " def __init__(self, x_in, f_in):\n",
        "  self.x = x_in\n",
        "  self._f_x = None\n",
        "  self.f = f_in\n",
        " # Lazily calculates f_in at execution time and stores, to reuse i\n",
        " @property\n",
        " def f_x(self):\n",
        "    if(self._f_x == None):\n",
        "      self._f_x = self.f(self.x)\n",
        "    return self._f_x\n",
        "\n",
        "# gives the range reduction for two Approximations\n",
        "def range_reduction(a_in:Approx, b_in:Approx):\n",
        "  p = 0.382\n",
        "  return p*abs(a_in.x-b_in.x)\n",
        "\n",
        "a0 = Approx(-2, F)\n",
        "b0 = Approx(2, F)\n",
        "a1 = Approx(a0.x + range_reduction(a0, b0), F)\n",
        "b1 = Approx(b0.x - range_reduction(a0, b0), F)\n",
        "\n",
        "x_approximations = []\n",
        "x_approximations.append((a0, a1, b1, b0))\n",
        "\n",
        "a0, a1, b1, b0  = x_approximations[-1]\n",
        "\n",
        "\n",
        "def golden_search_minimizer_step_function(f_in, x_approximations):\n",
        "  a0, a1, b1, b0 = x_approximations[-1]\n",
        "  if(a1.f_x < b1.f_x):\n",
        "    x_approximations.append((a0, Approx(a0.x + range_reduction(a0,b1), F), a1 ,b1))\n",
        "  else:\n",
        "    x_approximations.append((a1, b1, Approx(b0.x - range_reduction(a1,b0), F) ,b0))\n",
        "  return x_approximations[-1]\n",
        "\n",
        "while(b0.x - a0.x>0.001):\n",
        "  a0, a1, b1, b0 = golden_search_minimizer_step_function(F, x_approximations)\n",
        "\n",
        "x_approximations\n",
        "\n",
        "print(f\"The minimizer using the manualy developed algoritham is equal to X= {x_approximations[-1][1].x}\")\n",
        "\n",
        "# Plot\n",
        "import matplotlib.pyplot as plt\n",
        "import numpy as np\n",
        "import matplotlib.colors as mcolors\n",
        "\n",
        "x = np.arange(-2, +0.5, 0.01)\n",
        "a0_list = [item[0] for item in x_approximations]\n",
        "b0_list = [item[3] for item in x_approximations]\n",
        "plt.plot(x,F(x))\n",
        "c = 0;\n",
        "for i in x_approximations:\n",
        "  plt.scatter(i[0].x, 0, s=len(x_approximations) - c)\n",
        "  plt.scatter(i[0].x, i[0].f_x, s=len(x_approximations) - c)\n",
        "  c = c+1;\n",
        "plt.grid()\n",
        "\n",
        "#Example 2\n",
        "\n",
        "from scipy.optimize import minimize_scalar\n",
        "\n",
        "minimizeer_python = minimize_scalar(F, method='golden')\n",
        "print(f\"The minimizer using the minimize_scalar algoritham is equal to X= {minimizeer_python.x}\")\n"
      ],
      "metadata": {
        "id": "lBnqD4Tn6i3E",
        "colab": {
          "base_uri": "https://localhost:8080/",
          "height": 465
        },
        "outputId": "b15dd62a-2981-4c42-a475-e04c84bf72ff"
      },
      "execution_count": null,
      "outputs": [
        {
          "output_type": "stream",
          "name": "stdout",
          "text": [
            "The minimizer using the manualy developed algoritham is equal to X= -0.4941524932997786\n",
            "The minimizer using the minimize_scalar algoritham is equal to X= -0.4939286751012236\n"
          ]
        },
        {
          "output_type": "display_data",
          "data": {
            "text/plain": [
              "<Figure size 640x480 with 1 Axes>"
            ],
            "image/png": "[encoded data removed]"
          },
          "metadata": {}
        }
      ]
    },
    {
      "cell_type": "markdown",
      "source": [
        "## Linear programing\n"
      ],
      "metadata": {
        "id": "FH6VZXduS5z9"
      }
    },
    {
      "cell_type": "markdown",
      "source": [
        "This type of optimization tries to find an extremum of a linear function $F(X)$, **called the objective function**, given a set of constraints that are linear equations or inequalities. Based on the type of constraints and the extremum of the function, a linear program can be written in different forms.\n",
        "\n",
        "The following proposition is called a linear program in **standard form**:\n",
        "\n",
        "\n",
        "Minimize:\n",
        "\n",
        "$$\n",
        "F(x_1, \\ldots, x_n) = c_1 x_1 + c_2 x_2 + \\ldots + c_n x_n\n",
        "$$\n",
        "\n",
        "Subject to:\n",
        "\n",
        "$$\n",
        "\\begin{aligned}\n",
        "a_{1,1}x_1 + \\ldots + a_{1,n}x_n &= b_1 \\\\\n",
        "\\vdots \\\\\n",
        "a_{k,1}x_1 + \\ldots + a_{k,n}x_n &= b_k \\\\\n",
        "\\end{aligned}\n",
        "$$\n",
        "\n",
        "$$\n",
        "x_1, \\ldots, x_n \\geq 0\n",
        "$$\n",
        "\n",
        "Or represented with matrices:\n",
        "\n",
        "Minimize:\n",
        "\n",
        "$$\n",
        "F(X) = c^T X\n",
        "$$\n",
        "\n",
        "Subject to:\n",
        "\n",
        "$$\n",
        "AX = B \\quad \\text{where} \\quad X \\geq 0\n",
        "$$\n",
        "\n",
        "\n",
        "\n",
        "A linear program can be given in a **nonstandard form**, and the difference between a standard and nonstandard program is in the set of constraints. If the set of constraints defined by the matrices $A \\cdot X$ and $B$ contains inequalities, then the linear program is in a nonstandard form.\n",
        "\n",
        "The solution of the linear program is the vector $X(x_1, \\ldots, x_n)$ that maximizes/minimizes the function $F$.\n",
        "\n",
        "*Some autors define the standar form in a way that the goal of the problem is to maximize the objective function.*   \n",
        "\n",
        "Every solution $X$ for $F(X)$ that satisfies the set of restrictions is called a feasible point.\n",
        "\n",
        "A solution to a standard the linear program is $X$ that minimizes $F$ for the given constraints. There can be more than one solution for the linear program.\n",
        "\n",
        "Every linear program in a nonstandard form can be converted into a standard form. This is done by introducing additional variables for every inequality. In case that the goal of the linear problem is to maximize the objective function $F(X)$ than the fuction $F(X)$ can be replaced with a function $G(X)$ just by multiplying $F(X)$ with -1, $G(X)=-F(X)$ as the is maximim for $F$ is achived in the same value for $X$ as the maximim for $G$.\n",
        "\n",
        "For example: $a_1 x_1 \\leq 10$ is transformed to a linear equation as $a_1 x_1 + s_1 = 10$, for $s \\geq 0$.\n",
        "\n",
        "Example, the following program is given in a nonstandard form:\n",
        "\n",
        "\n",
        "$$\n",
        "\\begin{aligned}\n",
        "\\text{minimize: } F(x_1, x_2) &= 4x_1 + 5x_2 \\\\\n",
        "\\text{subject to:} \\\\\n",
        "1x_1 + 1x_2 &\\leq 8 \\\\\n",
        "1x_1 + 3x_2 &\\leq 18 \\\\\n",
        "2x_1 + 1x_2 &\\leq 14 \\\\\n",
        "x_1, x_2 &\\geq 0\n",
        "\\end{aligned}\n",
        "$$\n",
        "\n",
        "The standard form of the program is:\n",
        "\n",
        "$$\n",
        "\\begin{aligned}\n",
        "\\text{minimize: } F(x_1, x_2) &= 4x_1 + 5x_2 \\\\\n",
        "\\text{subject to:} \\\\\n",
        "1x_1 + 1x_2 + s_1 &= 8 \\\\\n",
        "1x_1 + 3x_2 + s_2 &= 18 \\\\\n",
        "2x_1 + 1x_2 + s_3 &= 14 \\\\\n",
        "x_1, x_2, s_1, s_2, s_3 &\\geq 0\n",
        "\\end{aligned}\n",
        "$$\n",
        "\n",
        "or:\n",
        "\n",
        "$$\n",
        "\\begin{aligned}\n",
        "\\text{minimize: } F(x_1, x_2) &= 4x_1 + 5x_2 \\\\\n",
        "\\text{subject to: } \\\\\n",
        "1x_1 + 1x_2 + 1s_1 + 0s_2 + 0s_3 &= 8 \\\\\n",
        "1x_1 + 3x_2 + 0s_1 + 1s_2 + 0s_3 &= 18 \\\\\n",
        "2x_1 + 1x_2 + 0s_1 + 0s_2 + 1s_3 &= 14 \\\\\n",
        "x_1, x_2, s_1, s_2, s_3 &\\geq 0\n",
        "\\end{aligned}\n",
        "$$\n",
        "\n",
        "In the general case, a nonstandard linear program:\n",
        "\n",
        "$$\n",
        "\\begin{aligned}\n",
        "F(X) &= c^T X \\\\\n",
        "A X &\\leq B \\\\\n",
        "\\text{where} \\quad X &\\geq 0\n",
        "\\end{aligned}\n",
        "$$\n",
        "\n",
        "can be transformed to a standard one like this:\n",
        "\n",
        "$$\n",
        "\\begin{aligned}\n",
        "F(X) &= c^T X \\\\\n",
        "[A, I] \\begin{bmatrix} X \\\\ S \\end{bmatrix} &= B \\\\\n",
        "\\text{where:} \\\\\n",
        "X &\\geq 0, \\\\\n",
        "S &\\geq 0\n",
        "\\end{aligned}\n",
        "$$\n",
        "- all values of $X$ and $S$ are greater than or equal to $0$ and $I$ is an identity matrix.\n",
        "## Simplex algoritham\n",
        "The simplex metood is a method that solves a liner program in standard form."
      ],
      "metadata": {
        "id": "PiMnZWFtb-ga"
      }
    },
    {
      "cell_type": "code",
      "source": [
        "# Example 16.3 (An introduction to optimization) Page 306:\n",
        "#\n",
        "# Minimize F(x_1,x_2) = 7*x_1 + 6*x_2\n",
        "# with the constrains:\n",
        "#                     2*x_1 + x_2 <= 3\n",
        "#                     x_1 + 4*x_2 <= 4\n",
        "#                     x_1, x_2 >= 0\n",
        "#\n",
        "import numpy as np\n",
        "# First step (1) is to prepare the linear program\n",
        "## 1.1 Transform the linear program in to its standard form\n",
        "# 2*x_1 + 1*x_2 + 1*s_1+ 0*s_2 = 3\n",
        "# 1*x_1 + 4*x_2 + 0*s_1+ 1*s_2 = 4\n",
        "\n",
        "# C reflects tha params of the objective function, and since the function\n",
        "# needs to be maximized, the params are multiplied with -1\n",
        "C = np.array([-7,-6])\n",
        "A = np.array([[2,1],[1,4]])\n",
        "B = np.array([[3],[4]])\n",
        "I = np.array([[1,0,0],[0,1,0],[0,0,1]])\n",
        "\n",
        "# Creates a simplex table from the linear expressions parameters A, I, B and F\n",
        "def create_simplex_table(A,B,C,I):\n",
        "    A_C = np.vstack((A,C))\n",
        "    print(A_C)\n",
        "    A_C_I = np.hstack((A_C,I))\n",
        "    print(A_C_I)\n",
        "    A_C_I_B = np.hstack((A_C_I, np.vstack((B,[0]))))\n",
        "    return A_C_I_B\n",
        "\n",
        "\n",
        "# This helper function returns the row and colum of the smallest value in the last row of a matrix\n",
        "def find_smallest_value_in_the_last_row(table_in):\n",
        "    # Get the last row of the table_in\n",
        "    last_row = table_in[-1]\n",
        "    # Find the index of the smallest value in the last row\n",
        "    min_value_index = np.argmin(last_row[:len(last_row)-1])\n",
        "    # Return the smallest value, its row index, and column index\n",
        "    return min_value_index, last_row[min_value_index]\n",
        "\n",
        "# Return the smallest ratio, matrix[i,lastColumn]/matrix[i,column]\n",
        "def find_smallest_ratio(table_in, column_in):\n",
        "    ratios = []  # Store the ratios\n",
        "    for i in range(len(table_in) - 1):  # Exclude the last row\n",
        "        if table_in[i][column_in] != 0:  # Avoid division by zero\n",
        "            ratio = table_in[i][-1] / table_in[i][column_in]\n",
        "            ratios.append((i, ratio))  # Store (index, ratio) tuple\n",
        "        else:\n",
        "            ratios.append((i, None))  # Set value to None if division by zero\n",
        "    min_index, min_value = min((pair for pair in ratios if pair[1] is not None), key=lambda x: x[1], default=(None, None))\n",
        "    return min_index, min_value\n",
        "\n",
        "# todo refactor to use only nm matrix\n",
        "from sympy import Matrix\n",
        "def custom_pivot_column(table_in, pivot_row, pivot_col):\n",
        "    # Convert the matrix to a NumPy array for easier manipulation\n",
        "    np_matrix = np.array(table_in)\n",
        "    # Divide the pivot row by the pivot element to make it 1\n",
        "    pivot_element = np_matrix[pivot_row, pivot_col]\n",
        "    np_matrix[pivot_row, :] /= pivot_element\n",
        "    # Eliminate other elements in the same column\n",
        "    num_rows = np_matrix.shape[0]\n",
        "    for i in range(num_rows):\n",
        "        if i != pivot_row:\n",
        "            ratio = np_matrix[i, pivot_col]\n",
        "            # //todo add it in python tutorial for matrixes, manipulations with row and column\n",
        "            np_matrix[i, :] -= ratio * np_matrix[pivot_row, :]\n",
        "    # Convert the modified NumPy array back to a SymPy Matrix\n",
        "    pivoted_table = Matrix(np_matrix)\n",
        "    return np.array(pivoted_table)\n",
        "\n",
        "def simplex_method_step_function(simplex_matrix_in):\n",
        "  # Step 1 simplex algoritham, find the column, i of the value that has biggest negative value,\n",
        "  # This is the stippes direction of increase for the F function\n",
        "  column, value = find_smallest_value_in_the_last_row(simplex_matrix_in)\n",
        "  # Find the row of the constraint that gives the lowes constraint for xi.\n",
        "  row, value = find_smallest_ratio(simplex_matrix_in, column)\n",
        "  return custom_pivot_column(Matrix(simplex_matrix_in),row,column)\n",
        "\n",
        "\n",
        "# The algoritham requres the data form the equasions to be in a form of A_C_I_B matrix, lets rename this matrix to simplex_matrix, for context\n",
        "# simplex_table = A_C_I_B\n",
        "simplex_table = create_simplex_table(A,B,C,I)\n",
        "\n",
        "print(\"Simpex Table--\")\n",
        "print(simplex_table)\n",
        "print(\"--Simpex Table\")\n",
        "\n",
        "x_approximations = []\n",
        "x_approximations.append(simplex_table)\n",
        "\n",
        "def stop_conditions_simplex_method(approximations_in):\n",
        "  column, min_column_value  = find_smallest_value_in_the_last_row(approximations_in[-1])\n",
        "  row, min_row_value  = find_smallest_ratio(approximations_in[-1], column)\n",
        "  return min_column_value < 0 and min_row_value != None and min_row_value > 0\n",
        "\n",
        "\n",
        "def basic_simplex_method(approximations_in, stop_conditions_function_in):\n",
        "  while(stop_conditions_function_in(approximations_in)):\n",
        "    simplex_step_table = simplex_method_step_function(approximations_in[-1])\n",
        "    approximations_in.append(simplex_step_table)\n",
        "\n",
        "\n",
        "basic_simplex_method(x_approximations, stop_conditions_simplex_method)\n",
        "\n",
        "print(\"Maximum is acheaved in the vector\")\n",
        "print(x_approximations[-1][-1][:len(C)])\n",
        "print(\"The maximum is\")\n",
        "print(x_approximations[-1][-1][-1])\n",
        "print(\"The maximum is\")\n",
        "print(x_approximations[-1][:len(C),-1])"
      ],
      "metadata": {
        "id": "p8jGw80lnQpY",
        "colab": {
          "base_uri": "https://localhost:8080/"
        },
        "outputId": "00c9912d-1856-40eb-a417-ddf78174caec"
      },
      "execution_count": null,
      "outputs": [
        {
          "output_type": "stream",
          "name": "stdout",
          "text": [
            "[[ 2  1]\n",
            " [ 1  4]\n",
            " [-7 -6]]\n",
            "[[ 2  1  1  0  0]\n",
            " [ 1  4  0  1  0]\n",
            " [-7 -6  0  0  1]]\n",
            "Simpex Table--\n",
            "[[ 2  1  1  0  0  3]\n",
            " [ 1  4  0  1  0  4]\n",
            " [-7 -6  0  0  1  0]]\n",
            "--Simpex Table\n",
            "Maximum is acheaved in the vector\n",
            "[0 0]\n",
            "The maximum is\n",
            "86/7\n",
            "The maximum is\n",
            "[8/7 5/7]\n"
          ]
        }
      ]
    },
    {
      "cell_type": "markdown",
      "source": [
        "### Two phase simplex\n",
        "\n",
        "\n",
        "  The two phase simplex algoritam is a generalization of the simplex algoritham, it is requred since the the basic feasable solution is not always obvious, this method standardases the simplex algoritham.\n",
        "  \n",
        "  Example when to use the Two phase simplex:\n",
        "  * Usualy the basic feasable solution is for every $x_0,x_1,...x_n = X , x_i = 0$. If this $X$ does not solve the function than it can be said that the basic fasable solution is not obvious. In this case the the two pahase simplex method can be used.\n",
        "\n",
        "The algoritham contains two phases.\n",
        "* Phase 1\n",
        "  Is used to find a *base feasable solution*\n",
        "* Phase 2\n",
        "  Using the *base feasable solution* find the optimal solution\n",
        "\n",
        "**Canonical form of the simplex table:**\n",
        "Before applyin the simplex method or the phase two of the Two phase simplex method the table needs to be in canonical form, this form needs to have 0 values for the colums of the base vectors in the last row, the row that holds the parameters of objective function. This is easaly done with linear transformations.\n",
        "\n",
        "Expresses the objective function with the new basis, or in other words\n",
        "\n",
        "<!-- General form of the matrix is on page 304:\n",
        "\n",
        "[\n",
        "  [B,     D,      b],\n",
        "  [cTb,   cTd,    0]   \n",
        "]\n",
        "\n",
        "\n",
        "\n",
        "The algoritam starts as a tableau of the given LP problem:\n",
        "[\n",
        "  [B,     D,      b],\n",
        "  [cTb,   cTd,    0]   \n",
        "] -->\n"
      ],
      "metadata": {
        "id": "aWYm3K-1LpdC"
      }
    },
    {
      "cell_type": "code",
      "source": [
        "#  Example 16.4, Introductioin to Optimization, page 308\n",
        "#          minimize :\n",
        "#                     2x_1 + 3x_2\n",
        "#        subject to :\n",
        "#                     4x_1 + 2x_2 >= 12\n",
        "#                      x_1 + 4x_2 >= 6\n",
        "#                           x1,x2 >= 0\n",
        "\n",
        "# Initialy, the problem is transforrmed in the standard form\n",
        "#          minimize :\n",
        "#                     2x_1 + 3x_2\n",
        "#        subject to :\n",
        "#                     4x_1 + 2x_2 - x_3 - 0*x_4 = 12\n",
        "#                      x_1 + 4x_2 - 0*x_3 - x_4 = 6\n",
        "#                           x1, x2, x_3, x_4 >= 0\n",
        "# Since x_1, x_2 = 0 is not a solution, it can be conclouded that the initial\n",
        "# basic solution is not obvious\n",
        "\n",
        "# Then artififcial variables, x_5 and x_6 >= 0 and a new\n",
        "# artificuial objective function x_5 + x_6, that\n",
        "# needs to be maximized are introdouced\n",
        "\n",
        "# The artifitial problem will have the folowing form:\n",
        "#          minimize:\n",
        "#                       x_5+x_6\n",
        "#          subject to:\n",
        "#                       4x_1 + 2x_2 - x_3 - 0*x_4 +1x_5 + 0x_6  = 12\n",
        "#                        x_1 + 4x_2 - 0*x_3 - x_4 + 0x_5 +1x_6  = 6\n",
        "#                                        x1,x2,x_3,x_4,x_5,x_6 >= 0\n",
        "\n",
        "\n",
        "# Phase one solution, optimizing the artificial objective function\n",
        "\n",
        "import numpy as np\n",
        "from sympy import Matrix\n",
        "\n",
        "C = np.array([2,3])\n",
        "C_a = np.array( [0,0,0,0,1,1] )\n",
        "A = np.array([[4,2,-1,0],\n",
        "              [1,4,0,-1]])\n",
        "B = np.array([[12],[6]])\n",
        "I_a = np.array([[1,0],[0,1]])\n",
        "\n",
        "def create_simplex_table(A,B,C,I):\n",
        "    A_I = np.hstack((A,I_a))\n",
        "    A_I_C = np.vstack((A_I,C))\n",
        "    A_I_C_B = np.hstack((A_I_C, np.vstack((B,[0]))))\n",
        "    return A_I_C_B\n",
        "\n",
        "simplex_matrix = create_simplex_table(A,B,C_a,I_a)\n",
        "print(f\"The starting table has this form: \\n {simplex_matrix}\")\n",
        "\n",
        "# Before starting the last row or the coeficients of the optimization function\n",
        "# need to be addjusted so that the artificial values have 0 value\n",
        "simplex_matrix[-1] -= np.sum(simplex_matrix[:-1], axis=0)\n",
        "print(f\"The canonical form of the table: \\n {simplex_matrix}\")\n",
        "\n",
        "\n",
        "x_approximations = []\n",
        "x_approximations.append(simplex_matrix)\n",
        "\n",
        "basic_simplex_method(x_approximations, stop_conditions_simplex_method)\n",
        "\n",
        "print(f\"The pahse 1 ends with the followint matrix:\\n {x_approximations[-1]} \\n\")\n",
        "\n",
        "print(\"The maximum is\")\n",
        "print(x_approximations[-1][:len(C),-1])\n",
        "\n",
        "\n",
        "# Phase two\n",
        "# Remove the artificial variables\n",
        "def remove_artifical_variables(matrix, Ia):\n",
        "#  todo, matrix[:,[-1]] is used instead of matrix[:,-1] as matrix[:,-1] will return only a row and not a matrix\n",
        "  return np.hstack((matrix[0:,0:-(len(Ia)+1)], matrix[:,[-1]]))\n",
        "\n",
        "\n",
        "def replace_artificial_objective_function(table_in, C_in):\n",
        "  matrix = table_in[0:-1,:]\n",
        "  zero_values_row = np.full(matrix.shape[1]-C_in.shape[0], 0)\n",
        "  summm = np.hstack((C_in, zero_values_row))\n",
        "  appenddd=np.vstack((matrix,summm))\n",
        "  return appenddd;\n",
        "\n",
        "\n",
        "from numpy.typing import NDArray\n",
        "\n",
        "def is_base_vector(array:NDArray):\n",
        "    non_zero_count = np.count_nonzero(array)\n",
        "    return non_zero_count == 1\n",
        "\n",
        "# Expresses the objective function with the new basis, or in other words,\n",
        "# Transform the last row so that the zeros appear in the basis columns, base_vectors\n",
        "def convert_to_canonical_form(table_in):\n",
        "    for column in range(table_in.shape[1]):\n",
        "      if is_base_vector(table_in[0:-1,column]):\n",
        "        row = np.flatnonzero(table_in[0:-1,column])[0]\n",
        "        table_in[row, :] /= table_in[row][column]\n",
        "        table_in[-1, :] -= table_in[-1, column]*table_in[row][:]\n",
        "    return table_in\n",
        "\n",
        "approximation = remove_artifical_variables(x_approximations[-1], I_a)\n",
        "print (f\"Removed artificial variables from table: \\n {approximation} \\n\")\n",
        "approximation = replace_artificial_objective_function(approximation, C)\n",
        "print (f\"Reverting back the original objective function: \\n {approximation} \\n\")\n",
        "\n",
        "phase_two_table = convert_to_canonical_form(approximation)\n",
        "\n",
        "print (\"Phase two table\")\n",
        "print (phase_two_table)\n",
        "x_approximations.append(phase_two_table)\n",
        "basic_simplex_method(x_approximations, stop_conditions_simplex_method)\n",
        "\n",
        "print (f\"The optimal solution to the liear program is: {x_approximations[-1][:-1, -1]},\")\n",
        "print (f\"and the optimal cost is {-(x_approximations[-1][-1, -1])}\")\n",
        "\n"
      ],
      "metadata": {
        "id": "hEp5VCYVLvB1",
        "colab": {
          "base_uri": "https://localhost:8080/"
        },
        "outputId": "a54c86b7-34c2-4842-b7b4-386b05949e08"
      },
      "execution_count": null,
      "outputs": [
        {
          "output_type": "stream",
          "name": "stdout",
          "text": [
            "The starting table has this form: \n",
            " [[ 4  2 -1  0  1  0 12]\n",
            " [ 1  4  0 -1  0  1  6]\n",
            " [ 0  0  0  0  1  1  0]]\n",
            "The canonical form of the table: \n",
            " [[  4   2  -1   0   1   0  12]\n",
            " [  1   4   0  -1   0   1   6]\n",
            " [ -5  -6   1   1   0   0 -18]]\n",
            "The pahse 1 ends with the followint matrix:\n",
            " [[1 0 -2/7 1/7 2/7 -1/7 18/7]\n",
            " [0 1 1/14 -2/7 -1/14 2/7 6/7]\n",
            " [0 0 0 0 1 1 0]] \n",
            "\n",
            "The maximum is\n",
            "[18/7 6/7]\n",
            "Removed artificial variables from table: \n",
            " [[1 0 -2/7 1/7 18/7]\n",
            " [0 1 1/14 -2/7 6/7]\n",
            " [0 0 0 0 0]] \n",
            "\n",
            "Reverting back the original objective function: \n",
            " [[1 0 -2/7 1/7 18/7]\n",
            " [0 1 1/14 -2/7 6/7]\n",
            " [2 3 0 0 0]] \n",
            "\n",
            "Phase two table\n",
            "[[1 0 -2/7 1/7 18/7]\n",
            " [0 1 1/14 -2/7 6/7]\n",
            " [0 0 5/14 4/7 -54/7]]\n",
            "The optimal solution to the liear program is: [18/7 6/7],\n",
            "and the optimal cost is 54/7\n"
          ]
        }
      ]
    },
    {
      "cell_type": "markdown",
      "source": [
        "### Solving linear program in python\n",
        "\n",
        "\n",
        "Python offers a convinient library for solving linear programs, using the `scipy.optimize.linprog` function from the `scipy` library.\n",
        "\n",
        "Lets demonstrathe how to solve the prevouls linear :\n",
        "```\n",
        "#  Example 16.4, Introductioin to Optimization, page 308\n",
        "#          minimize :\n",
        "#                     2x_1 + 3x_2\n",
        "#        subject to :\n",
        "#                     4x_1 + 2x_2 >= 12\n",
        "#                      x_1 + 4x_2 >= 6\n",
        "#                           x1,x2 >= 0\n",
        "\n",
        "```\n",
        "program using the `linprog` library\n",
        "1. Initialy transfor the linear program so it is a minimizer.\n",
        "2. Create list of all coefficients from the optimizaiton function needs for example $2x_1 + 3x_2$ becomes `c=[-2,-3]`.\n",
        "3. Form a matrix $A$, this are the paramethers defined by the values befor the $x$ variables under the subject part of the program, but not including the last row. The parameters in this case will form the matrix `A = [[-4, -2], [-1, -4]]`, it is important to point out that the sight before every parameter depends on the inequaliry operation or equality of the row.\n",
        "In case of:\n",
        "* \\>= the sign of the parameters changes in the entire row changes\n",
        "* <= the sign of the parameters  stays the same in the entire row.\n",
        "* == A new matrix A_eq is created that contains this row, and will be plugged in the function separately.\n",
        "* in case of < or >, we should then a manual work is requred, as this rows are not excepted by the algoritham, but muptiplying the inequasion with -1 transforms the > or < to >= or <= appropriatly.\n",
        "4. Constructing the vector B. this is the last colimn of the linear program in the current linear program it is the vector B=[12,6] it has the same number of elements or rows as the matrix A. Also it folows the same rules as a concering the inequality or equality operator.\n",
        "\n",
        "\n"
      ],
      "metadata": {
        "id": "yAyEUbRLvS47"
      }
    },
    {
      "cell_type": "code",
      "source": [
        "import numpy as np\n",
        "from scipy.optimize import linprog\n",
        "\n",
        "#  Example 16.4, Introductioin to Optimization, page 308\n",
        "#          minimize :\n",
        "#                     2x_1 + 3x_2\n",
        "#        subject to :\n",
        "#                     4x_1 + 2x_2 <= 12\n",
        "#                      x_1 + 4x_2 <= 6\n",
        "#                           x1,x2 >= 0\n",
        "\n",
        "# Objective function coefficients to minimize\n",
        "c_obj = np.array([-2, -3])\n",
        "\n",
        "# Negate for standard form (Ax <= b)\n",
        "A_ineq = np.array([[4, 2], [1, 4]])\n",
        "b_ineq = np.array([12, 6])\n",
        "\n",
        "# Bounds for variables x1 and x2 (non-negative)\n",
        "bounds = [(0, None), (0, None)]\n",
        "\n",
        "# Solve the linear programming problem\n",
        "# revised simplex uses the two phase simplex method descried above, but is deprecated\n",
        "# https://docs.scipy.org/doc/scipy-1.12.0/reference/optimize.linprog-revised_simplex.html#optimize-linprog-revised-simplex\n",
        "res = linprog(c=c_obj, A_ub=A_ineq, b_ub=b_ineq, bounds=bounds, method='revised simplex')\n",
        "\n",
        "# Print the results\n",
        "print(\"Optimal value:\", res.fun)\n",
        "print(\"Optimal x values:\", res.x)"
      ],
      "metadata": {
        "colab": {
          "base_uri": "https://localhost:8080/"
        },
        "id": "DBw6rjglGotH",
        "outputId": "f29e3cb7-1169-46b0-e8d1-e9e9a5deccfd"
      },
      "execution_count": null,
      "outputs": [
        {
          "output_type": "stream",
          "name": "stdout",
          "text": [
            "Optimal value of z: -7.714285714285714\n",
            "Optimal x values: [2.57142857 0.85714286]\n"
          ]
        }
      ]
    },
    {
      "cell_type": "code",
      "source": [
        "# solving system\n",
        "import numpy as np\n",
        "\n",
        "A = np.array([ [6,-5,-6], [-4,3,2], [6,6,9] ])\n",
        "b = np.array([5,-6,4])\n",
        "z = np.linalg.solve(A,b)\n",
        "print(z)\n",
        "\n",
        "# M = np.array([ [1,-2,-1], [2,2,-1], [-1,-1,2] ])\n",
        "# c = np.array([6,1,1])\n",
        "# y = np.linalg.solve(M,c)\n",
        "\n",
        "# swaping the base:\n",
        "# The starting table has this form:\n",
        "#  [[ 4  2 -1  0  1  0 12]\n",
        "#  [ 1  4  0 -1  0  1  6]\n",
        "#  [ 0  0  0  0  1  1  0]]\n",
        "\n",
        "x = np.array([ 0,  0,  0,  0,  1,  1 ])\n",
        "x_real =np.array([ 0,  0,  0,  0])\n",
        "x_artificial =np.array([ 1, 1])\n",
        "\n",
        "b = np.array([12,6])\n",
        "A = np.array([\n",
        " [ 1,  4,  0, -1,  0,  1,  6],\n",
        " [ 4,  2, -1,  0,  1,  0, 12]\n",
        "])\n",
        "\n",
        "A_artificial = np.array([\n",
        " [ 0,  1],\n",
        " [ 1,  0]\n",
        "])\n",
        "A_real = np.array([\n",
        " [ 1,  4,  0, -1],\n",
        " [ 4,  2, -1,  0]\n",
        "])\n",
        "\n",
        "#  try out of General form of the matrix, is on page 304:\n",
        "\n",
        "# [ [B, D, b], [cTb, cTd, 0]\n",
        "# ]\n",
        "\n",
        "# The algoritam starts as a tableau of the given LP problem: [ [B, D, b], [cTb, cTd, 0]\n",
        "# ]\n",
        "\n",
        "# then is transformend to a canonical tableau !!! realy important, it is on page: 305\n",
        "# Define the size of the identity matrix (same as the length of the vector)\n",
        "identity_matrix = np.eye(len(b))\n",
        "result1 = np.dot(-1 * identity_matrix, b)\n",
        "print(\"Result1----\")\n",
        "print(result1)\n",
        "result2 = np.dot(identity_matrix,A_real)\n",
        "print(\"Result2----\")\n",
        "print(result2)\n",
        "print(\"Result3----\")\n",
        "result3 = np.dot(result2,x_real)\n",
        "print(result3)\n",
        "result2 = np.dot(identity_matrix,A_real)\n",
        "\n",
        "\n",
        "# matrix form:\n",
        "# [ [B, D, b], [cTb, cTd, 0]\n",
        "# ]\n",
        "\n",
        "# canonical tableau !!! realy important, it is on page: 305\n",
        "\n",
        "A = np.array([[4,2,-1,0,1,0],\n",
        "              [1,4,0,-1,0,1]])\n",
        "\n",
        "# A is n,m matrix, A = [D B]\n",
        "\n",
        "B = np.array([[1,0],[0,1]])\n",
        "D = np.array([[4,2,-1,0],[1,4,0,-1]])\n",
        "b = np.array([[12],[6]])\n",
        "\n",
        "c = np.array([0,0,0,0,1,1,0])\n",
        "\n",
        "cD = np.array([0,0,0,0])\n",
        "cB = np.array([1,1])\n",
        "\n",
        "\n",
        "identity_matrix = np.eye(A.shape[0])\n",
        "print(\"identy matrix\")\n",
        "\n",
        "print(identity_matrix)\n",
        "B_inverceD = np.dot(np.linalg.inv(B),D)\n",
        "\n",
        "print(\"B_inverceD\")\n",
        "print(B_inverceD)\n",
        "\n",
        "print(\"B_inverceb\")\n",
        "B_inverceb = np.dot(np.linalg.inv(B),b)\n",
        "\n",
        "print(\"midle\")\n",
        "midle = cD - np.dot(np.dot(cB,np.linalg.inv(B)),D)\n",
        "print(midle)\n",
        "\n",
        "\n",
        "print(\"corner\")\n",
        "corner = -np.dot(np.dot(cB, np.linalg.inv(B)),b)\n",
        "print(corner)\n",
        "\n",
        "# ---------\n",
        "\n",
        "# The starting table has this form:\n",
        "#  [[ 4  2 -1  0  1  0 12]\n",
        "#  [ 1  4  0 -1  0  1  6]\n",
        "#  [ 0  0  0  0  1  1  0]]\n",
        "# The canonical symples table is in this form:\n",
        "#  [[  4   2  -1   0   1   0  12]\n",
        "#  [  1   4   0  -1   0   1   6]\n",
        "#  [ -5  -6   1   1   0   0 -18]]\n",
        "\n",
        "B = np.array([[1,0],[0,1]])\n",
        "D = np.array([[4,  2, -1, 0],[1,  4 , 0, -1]])\n",
        "b = np.array([[12],[6]])\n",
        "\n"
      ],
      "metadata": {
        "colab": {
          "base_uri": "https://localhost:8080/"
        },
        "id": "lAsuS_7Z0QPS",
        "outputId": "e441a3f7-7208-429b-d371-a9bd01399929"
      },
      "execution_count": null,
      "outputs": [
        {
          "output_type": "stream",
          "name": "stdout",
          "text": [
            "[ 0.5196078431372548 -2.4705882352941173  1.745098039215686 ]\n",
            "Result1----\n",
            "[-12.  -6.]\n",
            "Result2----\n",
            "[[ 1.  4.  0. -1.]\n",
            " [ 4.  2. -1.  0.]]\n",
            "Result3----\n",
            "[0. 0.]\n",
            "identy matrix\n",
            "[[1. 0.]\n",
            " [0. 1.]]\n",
            "B_inverceD\n",
            "[[ 4.  2. -1.  0.]\n",
            " [ 1.  4.  0. -1.]]\n",
            "B_inverceb\n",
            "midle\n",
            "[-5. -6.  1.  1.]\n",
            "corner\n",
            "[-18.]\n"
          ]
        }
      ]
    },
    {
      "cell_type": "markdown",
      "source": [
        "## Glossary\n"
      ],
      "metadata": {
        "id": "80pssEWjgZOy"
      }
    },
    {
      "cell_type": "code",
      "source": [],
      "metadata": {
        "id": "PrVfhzuvOFUo"
      },
      "execution_count": null,
      "outputs": []
    },
    {
      "cell_type": "markdown",
      "source": [
        "## References\n",
        "\n",
        "### Puthon tutorial\n",
        "* Plot functions https://www.w3schools.com/python/matplotlib_pie_charts.asp\n",
        "* Animiations https://matplotlib.org/stable/gallery/animation/index.html\n",
        "* Language references, https://www.w3schools.com/python/\n",
        "\n",
        "### Linear Algegebra\n",
        "\n",
        "* Dotproduct, https://en.wikipedia.org/wiki/Dot_product#Definition\n",
        "* Cross product, https://en.wikipedia.org/wiki/Cross_product\n",
        "* eigenen vectors and eigenen values, https://www.cs.ox.ac.uk/files/12921/book.pdf\n",
        "\n",
        "// todo dodaj gi kinige za simple, zaedno so videoto za simplex\n",
        "### Simplex\n",
        "* https://www.ms.uky.edu/~jack/2010-01-MA162/2010-02-25-MA162Lab.pdf\n",
        "* https://math.mit.edu/~goemans/18310S15/lpnotes310.pdf\n",
        "* https://realpython.com/linear-programming-python/\n",
        "* https://www.google.com/search?q=two+phase+simplex+algorithm&sca_esv=6875faee4ba80aec&sca_upv=1&sxsrf=ADLYWIJFu4CAt8bMFJ0rBvprYQCsb9fh0w%3A1715597823344&ei=__FBZtnGFIirxc8P35elkAQ&udm=&oq=two+phase+simplex+&gs_lp=Egxnd3Mtd2l6LXNlcnAiEnR3byBwaGFzZSBzaW1wbGV4ICoCCAAyDBAjGIAEGBMYJxiKBTIIEAAYgAQYywEyCBAAGIAEGMsBMggQABiABBjLATIIEAAYgAQYywEyCBAAGIAEGMsBMggQABiABBjLATIIEAAYgAQYywEyCBAAGIAEGMsBMggQABiABBjLAUjdLlDLCljvH3ADeAGQAQCYAXCgAfYKqgEEMTYuMrgBA8gBAPgBAZgCFaACyAvCAgoQABiwAxjWBBhHwgIEECMYJ8ICChAAGIAEGEMYigXCAgUQABiABMICChAjGIAEGCcYigWYAwDiAwUSATEgQIgGAZAGCJIHBDE3LjSgB-eYAQ&sclient=gws-wiz-serp#fpstate=ive&vld=cid:3c6d7ec8,vid:Q4sn7FORqSA,st:0"
      ],
      "metadata": {
        "id": "lNFigb_BgjbJ"
      }
    },
    {
      "cell_type": "markdown",
      "source": [
        "## Libraries\n",
        "\n",
        "### Python\n",
        "* SymPy, https://www.sympy.org/en/index.html, // TODO perhaps not needed\n",
        "* matplotlib, https://matplotlib.org\n",
        "* numpy, https://numpy.org/\n",
        "\n",
        "### .md\n",
        "* Latex, https://www.latex-project.org/\n",
        "\n",
        "\n",
        "\n"
      ],
      "metadata": {
        "id": "CEUFf60z3rGL"
      }
    }
  ]
}